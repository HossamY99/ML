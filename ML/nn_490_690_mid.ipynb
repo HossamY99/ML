{
  "nbformat": 4,
  "nbformat_minor": 0,
  "metadata": {
    "colab": {
      "name": "nn_490-690_mid.ipynb",
      "provenance": [],
      "collapsed_sections": [],
      "toc_visible": true
    },
    "kernelspec": {
      "name": "python3",
      "display_name": "Python 3"
    }
  },
  "cells": [
    {
      "cell_type": "markdown",
      "metadata": {
        "id": "d08a-OSn5hBE"
      },
      "source": [
        "# Neural Networks -Hands-on Session\n",
        "\n",
        "---\n",
        "\n",
        "\n",
        "---\n",
        "\n",
        "\n",
        "During this session, we will solve the super famous handwritten digit recognition task by training a neural network on the MNIST dataset.\n"
      ]
    },
    {
      "cell_type": "markdown",
      "metadata": {
        "id": "rFl7xjXS5zs4"
      },
      "source": [
        "## Data\n",
        "\n",
        "\n",
        "\n"
      ]
    },
    {
      "cell_type": "markdown",
      "metadata": {
        "id": "TVb7-HO952NQ"
      },
      "source": [
        "### Data Loading\n",
        "\n",
        "In this session, we will be dealing with digit recognition data (MNIST). It is a famous dataset frequently used in machine leanring. Keras has a functionality that loads the data (split into train and test)"
      ]
    },
    {
      "cell_type": "code",
      "metadata": {
        "id": "aaYfPbZ51F0z"
      },
      "source": [
        "from keras.datasets import mnist\n",
        "# --"
      ],
      "execution_count": null,
      "outputs": []
    },
    {
      "cell_type": "markdown",
      "metadata": {
        "id": "xRQ2yCVMEwEP"
      },
      "source": [
        "### Data Scaling\n",
        "\n",
        "To map all pixel values to [0,1] range we can normalize the data by dividing by 255 which is the max pixel value. "
      ]
    },
    {
      "cell_type": "code",
      "metadata": {
        "id": "L-3qNt2bpebc"
      },
      "source": [
        "# --\n",
        "# --"
      ],
      "execution_count": null,
      "outputs": []
    },
    {
      "cell_type": "markdown",
      "metadata": {
        "id": "FutidxBa57xS"
      },
      "source": [
        "\n",
        "### Data Visualization\n",
        "\n",
        "To better understand the data, we will plot 64 random images from the training dataset"
      ]
    },
    {
      "cell_type": "code",
      "metadata": {
        "id": "SDjrC4X92zG7"
      },
      "source": [
        "import matplotlib.pyplot as plt\n",
        "from random import randint\n",
        "\n",
        "for i in range(64):\n",
        "    ax = plt.subplot(8, 8, i+1)\n",
        "    ax.axis('off')\n",
        "    plt.imshow(X_train_val[randint(0, X_train_val.shape[0])]) #, cmap='Greys')"
      ],
      "execution_count": null,
      "outputs": []
    },
    {
      "cell_type": "markdown",
      "metadata": {
        "id": "myIU3lDZ69mN"
      },
      "source": [
        "### Data Reshaping \n",
        "Let's see the shape of the data"
      ]
    },
    {
      "cell_type": "code",
      "metadata": {
        "id": "R_YtlRaD1QEQ"
      },
      "source": [
        "print(\"Training/Validation data shape: \", X_train_val.shape) # (60000, 28, 28) -- 60000 images, each 28x28 pixels\n",
        "print(\"Test data shape\", X_test.shape) # (10000, 28, 28) -- 10000 images, each 28x28\n"
      ],
      "execution_count": null,
      "outputs": []
    },
    {
      "cell_type": "markdown",
      "metadata": {
        "id": "0l82p8SQ7B4c"
      },
      "source": [
        "Since we don't know how to deal with 2-dimensional inputs, we will flatten our input. In other words, we will transform the (28, 28) image into a vector of size 28x28.\n",
        "\n",
        "It is worth mentioning that convolutional neural networks (CNNs) are specifically designed for image processing/computer vision to maintain these spatial relationships. "
      ]
    },
    {
      "cell_type": "code",
      "metadata": {
        "id": "t76Ro9aZ7PUC"
      },
      "source": [
        "# Flatten the images\n",
        "image_vector_size = 28*28\n",
        "# --\n",
        "# --"
      ],
      "execution_count": null,
      "outputs": []
    },
    {
      "cell_type": "markdown",
      "metadata": {
        "id": "VaTAzFSjaN9D"
      },
      "source": [
        "### Data Splitting"
      ]
    },
    {
      "cell_type": "code",
      "metadata": {
        "id": "rZvOrNzwaNQ1"
      },
      "source": [
        "from sklearn.model_selection import train_test_split\n",
        "\n",
        "# --"
      ],
      "execution_count": null,
      "outputs": []
    },
    {
      "cell_type": "code",
      "metadata": {
        "id": "9iTiElS5bq7x"
      },
      "source": [
        "print(\"X: training:\", X_train.shape, \"- Validation:\", X_val.shape, \"- Testing:\", X_test.shape)"
      ],
      "execution_count": null,
      "outputs": []
    },
    {
      "cell_type": "markdown",
      "metadata": {
        "id": "8b4X4p9P8xbB"
      },
      "source": [
        "### One-hot Encoding"
      ]
    },
    {
      "cell_type": "markdown",
      "metadata": {
        "id": "dtzbwOgN7rsN"
      },
      "source": [
        "We have to do one last thing to this dataset before we’re ready to experiment with some neural networks. The labels for this dataset are numerical values from 0 to 9 — but it’s important that our algorithm treats these as items in a set, rather than ordinal values. In our dataset the value “0” isn’t smaller than the value “9”, they are just two different values from our set of possible classifications.\n",
        "\n",
        "If our algorithm predicts “8” when it should predict “0” it is wrong to say that the model was “off by 8” — it simply predicted the wrong category. Similarly, predicting “7” when we should have predicted “8” is not better than predicting “0” when we should have predicted “8” — both are just wrong.\n",
        "\n",
        "To address this issue, when we’re making predictions about categorical data (as opposed to values from a continuous range), the best practice is to use a “one-hot encoded” vector. This means that we create a vector as long as the number of categories we have, and force the model to set exactly one of the positions in the vector to 1 and the rest to 0 (the single 1 is the “hot” value within the vector).\n",
        "\n",
        "Thankfully, Keras makes this remarkably easy to do as well:\n"
      ]
    },
    {
      "cell_type": "code",
      "metadata": {
        "id": "5f6gxaf_1WZN",
        "outputId": "31a34895-f011-4be9-8dfb-54e823aa0481",
        "colab": {
          "base_uri": "https://localhost:8080/",
          "height": 197
        }
      },
      "source": [
        "from keras.utils import to_categorical\n",
        "\n",
        "# Convert to \"one-hot\" vectors using the to_categorical function\n",
        "num_classes = 10\n",
        "\n",
        "# --\n",
        "# --\n",
        "# --\n",
        "\n",
        "print(\"First 5 training lables as one-hot encoded vectors:\\n\", y_train[:5])"
      ],
      "execution_count": 1,
      "outputs": [
        {
          "output_type": "error",
          "ename": "NameError",
          "evalue": "ignored",
          "traceback": [
            "\u001b[0;31m---------------------------------------------------------------------------\u001b[0m",
            "\u001b[0;31mNameError\u001b[0m                                 Traceback (most recent call last)",
            "\u001b[0;32m<ipython-input-1-b5a14b530fb0>\u001b[0m in \u001b[0;36m<module>\u001b[0;34m()\u001b[0m\n\u001b[1;32m      6\u001b[0m \u001b[0;31m# --\u001b[0m\u001b[0;34m\u001b[0m\u001b[0;34m\u001b[0m\u001b[0;34m\u001b[0m\u001b[0m\n\u001b[1;32m      7\u001b[0m \u001b[0;31m# --\u001b[0m\u001b[0;34m\u001b[0m\u001b[0;34m\u001b[0m\u001b[0;34m\u001b[0m\u001b[0m\n\u001b[0;32m----> 8\u001b[0;31m \u001b[0mprint\u001b[0m\u001b[0;34m(\u001b[0m\u001b[0;34m\"First 5 training lables as one-hot encoded vectors:\\n\"\u001b[0m\u001b[0;34m,\u001b[0m \u001b[0my_train\u001b[0m\u001b[0;34m[\u001b[0m\u001b[0;34m:\u001b[0m\u001b[0;36m5\u001b[0m\u001b[0;34m]\u001b[0m\u001b[0;34m)\u001b[0m\u001b[0;34m\u001b[0m\u001b[0;34m\u001b[0m\u001b[0m\n\u001b[0m",
            "\u001b[0;31mNameError\u001b[0m: name 'y_train' is not defined"
          ]
        }
      ]
    },
    {
      "cell_type": "markdown",
      "metadata": {
        "id": "cdsYSlik8gm3"
      },
      "source": [
        "Finally, it is worth mentioning that there are a lot of other things we could do at this point to normalize/improve the input images themselves. Preprocessing is common (because it’s a good idea) but we’re going to ignore it for now. Our focus is on examining neural network architectures."
      ]
    },
    {
      "cell_type": "markdown",
      "metadata": {
        "id": "OlTJ6YxY90E8"
      },
      "source": [
        "## Building The model"
      ]
    },
    {
      "cell_type": "markdown",
      "metadata": {
        "id": "7U-SZCSz_fnw"
      },
      "source": [
        "The neural network in this article has the same input as a vector with 784 entries — this is the data from the flattened 28x28 image. \n",
        "\n",
        "The output layer was also implicitly defined earlier when we created a one-hot encoded vector from the labels — the ten labels correspond to the ten nodes in this layer.\n",
        "\n",
        "\n",
        "Our output layer also uses a special activation function called softmax. This normalizes the values from the ten output nodes such that:\n",
        "\n",
        "* all the values are between 0 and 1, and\n",
        "* the sum of all ten values is 1.\n",
        "\n",
        "\n",
        "This allows us to treat those ten output values as probabilities, and the largest one is selected as the prediction for the one-hot vector. \n",
        "\n",
        "In machine learning, the softmax function is almost always used when our model’s output is a one-hot encoded vector.\n",
        "\n",
        "\n",
        "Finally, this model has a single hidden layer with 32 nodes using the sigmoid activation function. "
      ]
    },
    {
      "cell_type": "code",
      "metadata": {
        "id": "pDW61gLk1geB"
      },
      "source": [
        "from keras.models import Sequential\n",
        "from keras.layers import Dense\n",
        "\n",
        "image_size = 28*28\n",
        "h_units = [784, 500, 500, 500, 500, 500]\n",
        "out_units = 10"
      ],
      "execution_count": null,
      "outputs": []
    },
    {
      "cell_type": "code",
      "metadata": {
        "id": "ET90s-54tP1Y"
      },
      "source": [
        "\n",
        "# --\n",
        "\n",
        "# The input layer requires the special input_shape parameter which should match\n",
        "# the shape of our training data.\n",
        "\n",
        "# --\n",
        "\n",
        "for u in range(1, len(h_units)):\n",
        "  # --\n",
        "\n",
        "# --\n"
      ],
      "execution_count": null,
      "outputs": []
    },
    {
      "cell_type": "markdown",
      "metadata": {
        "id": "a76Pi4xO9-PI"
      },
      "source": [
        "Let's print our model"
      ]
    },
    {
      "cell_type": "code",
      "metadata": {
        "id": "RjlXz_Ug-Csn"
      },
      "source": [
        "model.summary()"
      ],
      "execution_count": null,
      "outputs": []
    },
    {
      "cell_type": "markdown",
      "metadata": {
        "id": "cBlc1dUCAbxm"
      },
      "source": [
        "To train this model, we will use the *stochastic gradient descent* algorithm with a *categorical crossentropy loss* function while monitoring the accuracy. \n",
        "\n",
        "The `'categorical_crossentropy'` loss Computes the crossentropy loss between the labels and predictions when there are two or more label classes in a one_hot representation. "
      ]
    },
    {
      "cell_type": "code",
      "metadata": {
        "id": "2PU-wFNx-LE5"
      },
      "source": [
        "# --\n",
        "model.compile(optimizer=\"\", loss='', metrics=[''])\n"
      ],
      "execution_count": null,
      "outputs": []
    },
    {
      "cell_type": "markdown",
      "metadata": {
        "id": "hIA6eDwc-GQG"
      },
      "source": [
        "## Training The Model"
      ]
    },
    {
      "cell_type": "markdown",
      "metadata": {
        "id": "5cFtQIUeFJ5k"
      },
      "source": [
        "Like before, the `fit()` function will train the model. "
      ]
    },
    {
      "cell_type": "code",
      "metadata": {
        "id": "h7kniGrC1xyD"
      },
      "source": [
        "# --\n",
        "# --\n",
        "\n",
        "plt.plot(history.history['accuracy'])\n",
        "plt.plot(history.history['val_accuracy'])\n",
        "plt.title('model accuracy')\n",
        "plt.ylabel('accuracy')\n",
        "plt.xlabel('epoch')\n",
        "plt.legend(['training', 'validation'], loc='best')\n",
        "plt.show()\n",
        "\n",
        "print(f'Validation loss: {loss:.3}')\n",
        "print(f'Validation accuracy: {accuracy:.3}')"
      ],
      "execution_count": null,
      "outputs": []
    },
    {
      "cell_type": "markdown",
      "metadata": {
        "id": "6WyvDHCXBSQf"
      },
      "source": [
        "Performance varies a little bit from run to run (give it a try in the Jupyter notebook), but accuracy is consistently between 87–95%. This is an incredible result!!\n",
        "\n",
        "\n"
      ]
    },
    {
      "cell_type": "markdown",
      "metadata": {
        "id": "Z2sT0NXl5f4A"
      },
      "source": [
        "## Testing the Model\n",
        "Let's choose a random testing instance\n"
      ]
    },
    {
      "cell_type": "code",
      "metadata": {
        "id": "k40Jv86UC3Yu"
      },
      "source": [
        "idx = 5\n",
        "plt.imshow(X_test[idx].reshape(28,28))"
      ],
      "execution_count": null,
      "outputs": []
    },
    {
      "cell_type": "code",
      "metadata": {
        "id": "Yj-CO-cmDHLf"
      },
      "source": [
        "import numpy as np\n",
        "print(\"Actual label (one hot encoding)\", --)\n",
        "print(\"Actual label\", --)"
      ],
      "execution_count": null,
      "outputs": []
    },
    {
      "cell_type": "code",
      "metadata": {
        "id": "HxlwkukICU5f"
      },
      "source": [
        "# --\n",
        "\n",
        "print(\"Predicted label (probabilities)\", preds[idx])\n",
        "print(\"Predicted label\", np.argmax(preds[idx]))"
      ],
      "execution_count": null,
      "outputs": []
    },
    {
      "cell_type": "markdown",
      "metadata": {
        "id": "6S7Fmr6D1EsG"
      },
      "source": [
        "## Regularization\n"
      ]
    },
    {
      "cell_type": "markdown",
      "metadata": {
        "id": "CziBbGFSBoeL"
      },
      "source": [
        "Regularization helps when your model suffers from overfitting\n",
        "![regularization.JPG](data:image/jpeg;base64,/9j/4AAQSkZJRgABAQEAYABgAAD/4RD0RXhpZgAATU0AKgAAAAgABAE7AAIAAAAOAAAISodpAAQAAAABAAAIWJydAAEAAAAcAAAQ0OocAAcAAAgMAAAAPgAAAAAc6gAAAAgAAAAAAAAAAAAAAAAAAAAAAAAAAAAAAAAAAAAAAAAAAAAAAAAAAAAAAAAAAAAAAAAAAAAAAAAAAAAAAAAAAAAAAAAAAAAAAAAAAAAAAAAAAAAAAAAAAAAAAAAAAAAAAAAAAAAAAAAAAAAAAAAAAAAAAAAAAAAAAAAAAAAAAAAAAAAAAAAAAAAAAAAAAAAAAAAAAAAAAAAAAAAAAAAAAAAAAAAAAAAAAAAAAAAAAAAAAAAAAAAAAAAAAAAAAAAAAAAAAAAAAAAAAAAAAAAAAAAAAAAAAAAAAAAAAAAAAAAAAAAAAAAAAAAAAAAAAAAAAAAAAAAAAAAAAAAAAAAAAAAAAAAAAAAAAAAAAAAAAAAAAAAAAAAAAAAAAAAAAAAAAAAAAAAAAAAAAAAAAAAAAAAAAAAAAAAAAAAAAAAAAAAAAAAAAAAAAAAAAAAAAAAAAAAAAAAAAAAAAAAAAAAAAAAAAAAAAAAAAAAAAAAAAAAAAAAAAAAAAAAAAAAAAAAAAAAAAAAAAAAAAAAAAAAAAAAAAAAAAAAAAAAAAAAAAAAAAAAAAAAAAAAAAAAAAAAAAAAAAAAAAAAAAAAAAAAAAAAAAAAAAAAAAAAAAAAAAAAAAAAAAAAAAAAAAAAAAAAAAAAAAAAAAAAAAAAAAAAAAAAAAAAAAAAAAAAAAAAAAAAAAAAAAAAAAAAAAAAAAAAAAAAAAAAAAAAAAAAAAAAAAAAAAAAAAAAAAAAAAAAAAAAAAAAAAAAAAAAAAAAAAAAAAAAAAAAAAAAAAAAAAAAAAAAAAAAAAAAAAAAAAAAAAAAAAAAAAAAAAAAAAAAAAAAAAAAAAAAAAAAAAAAAAAAAAAAAAAAAAAAAAAAAAAAAAAAAAAAAAAAAAAAAAAAAAAAAAAAAAAAAAAAAAAAAAAAAAAAAAAAAAAAAAAAAAAAAAAAAAAAAAAAAAAAAAAAAAAAAAAAAAAAAAAAAAAAAAAAAAAAAAAAAAAAAAAAAAAAAAAAAAAAAAAAAAAAAAAAAAAAAAAAAAAAAAAAAAAAAAAAAAAAAAAAAAAAAAAAAAAAAAAAAAAAAAAAAAAAAAAAAAAAAAAAAAAAAAAAAAAAAAAAAAAAAAAAAAAAAAAAAAAAAAAAAAAAAAAAAAAAAAAAAAAAAAAAAAAAAAAAAAAAAAAAAAAAAAAAAAAAAAAAAAAAAAAAAAAAAAAAAAAAAAAAAAAAAAAAAAAAAAAAAAAAAAAAAAAAAAAAAAAAAAAAAAAAAAAAAAAAAAAAAAAAAAAAAAAAAAAAAAAAAAAAAAAAAAAAAAAAAAAAAAAAAAAAAAAAAAAAAAAAAAAAAAAAAAAAAAAAAAAAAAAAAAAAAAAAAAAAAAAAAAAAAAAAAAAAAAAAAAAAAAAAAAAAAAAAAAAAAAAAAAAAAAAAAAAAAAAAAAAAAAAAAAAAAAAAAAAAAAAAAAAAAAAAAAAAAAAAAAAAAAAAAAAAAAAAAAAAAAAAAAAAAAAAAAAAAAAAAAAAAAAAAAAAAAAAAAAAAAAAAAAAAAAAAAAAAAAAAAAAAAAAAAAAAAAAAAAAAAAAAAAAAAAAAAAAAAAAAAAAAAAAAAAAAAAAAAAAAAAAAAAAAAAAAAAAAAAAAAAAAAAAAAAAAAAAAAAAAAAAAAAAAAAAAAAAAAAAAAAAAAAAAAAAAAAAAAAAAAAAAAAAAAAAAAAAAAAAAAAAAAAAAAAAAAAAAAAAAAAAAAAAAAAAAAAAAAAAAAAAAAAAAAAAAAAAAAAAAAAAAAAAAAAAAAAAAAAAAAAAAAAAAAAAAAAAAAAAAAAAAAAAAAAAAAAAAAAAAAAAAAAAAAAAAAAAAAAAAAAAAAAAAAAAAAAAAAAAAAAAAAAAAAAAAAAAAAAAAAAAAAAAAAAAAAAAAAAAAAAAAAAAAAAAAAAAAAAAAAAAAAAAAAAAAAAAAAAAAAAAAAAAAAAAAAAAAAAAAAAAAAAAAAAAAAAAAAAAAAAAAAAAAAAAAAAAAAAAAAAAAAAAAAAAAAAAAAAAAAAAAAAAAAAAAAAAAAAAAAAAAAAAAAAAAAAAAAAAAAAAAAAAAAAAAAAAAAAAAAAAAAAAAAAAAAAAAAAAAAAAAAAAAAAAAAAAAAAAAAAAAAAAAAAAAAAAAAAAAAAAAAAAAAAAAAAAAAAAAAAAAAAAAAAAAAAAAAAAAAAAAAAAAAAAAAAAAAAAAAAAAAAAAAAAAAAAAAAAAAAAAAAAAAAAAAAAAAAAAAAAAAAAAAAAAAAAAAAAAAAAAAAAAAAAAAAAAAAAAAAAAAAAAAAAAAAAAAAAAAAAAAAAAAAAAAAAAAAAAAAAAAAAAAAAAAAAAAAAAAAAAAAAAAAAAAAAAAAAAAAAAAAAAAAAAAAAAAAAAAAAAAAAAAAAAAAAAAAAAAAAAAAAAAAAAAAAAAAAAAAAAAAAAAAAAAAAAAAAAAAAAAAAAAAAAAAAAAAAAAAAAAAAAAAAAAAAAAAAAAAAAAAAAAAAAAAAAAAAAAAAAAAAAAAAAAAAAAAAAAAAAAAAAAAAAAAAAAAAAAAAAAAAAAAAAAAAAAAAAAAAAAAAAAAAAAAAAAAAAAAAAAAAAAAAAAAAAAAAAAAAAAAAAAAAAAAAAAAAAAAAAAAAAAAAAAAAAAAAAAAAAAAAAAAAAAAAAAAAAAAAAAAAAAAAAAAAAAAAAAAAAAAAAAAAAAAAAAAAAAAAAAAAAAAAAAAAAAAAAAAAAAAAAAAAAAAAAAEp1bGlhIEVsIFppbmkAAAWQAwACAAAAFAAAEKaQBAACAAAAFAAAELqSkQACAAAAAzcxAACSkgACAAAAAzcxAADqHAAHAAAIDAAACJoAAAAAHOoAAAAIAAAAAAAAAAAAAAAAAAAAAAAAAAAAAAAAAAAAAAAAAAAAAAAAAAAAAAAAAAAAAAAAAAAAAAAAAAAAAAAAAAAAAAAAAAAAAAAAAAAAAAAAAAAAAAAAAAAAAAAAAAAAAAAAAAAAAAAAAAAAAAAAAAAAAAAAAAAAAAAAAAAAAAAAAAAAAAAAAAAAAAAAAAAAAAAAAAAAAAAAAAAAAAAAAAAAAAAAAAAAAAAAAAAAAAAAAAAAAAAAAAAAAAAAAAAAAAAAAAAAAAAAAAAAAAAAAAAAAAAAAAAAAAAAAAAAAAAAAAAAAAAAAAAAAAAAAAAAAAAAAAAAAAAAAAAAAAAAAAAAAAAAAAAAAAAAAAAAAAAAAAAAAAAAAAAAAAAAAAAAAAAAAAAAAAAAAAAAAAAAAAAAAAAAAAAAAAAAAAAAAAAAAAAAAAAAAAAAAAAAAAAAAAAAAAAAAAAAAAAAAAAAAAAAAAAAAAAAAAAAAAAAAAAAAAAAAAAAAAAAAAAAAAAAAAAAAAAAAAAAAAAAAAAAAAAAAAAAAAAAAAAAAAAAAAAAAAAAAAAAAAAAAAAAAAAAAAAAAAAAAAAAAAAAAAAAAAAAAAAAAAAAAAAAAAAAAAAAAAAAAAAAAAAAAAAAAAAAAAAAAAAAAAAAAAAAAAAAAAAAAAAAAAAAAAAAAAAAAAAAAAAAAAAAAAAAAAAAAAAAAAAAAAAAAAAAAAAAAAAAAAAAAAAAAAAAAAAAAAAAAAAAAAAAAAAAAAAAAAAAAAAAAAAAAAAAAAAAAAAAAAAAAAAAAAAAAAAAAAAAAAAAAAAAAAAAAAAAAAAAAAAAAAAAAAAAAAAAAAAAAAAAAAAAAAAAAAAAAAAAAAAAAAAAAAAAAAAAAAAAAAAAAAAAAAAAAAAAAAAAAAAAAAAAAAAAAAAAAAAAAAAAAAAAAAAAAAAAAAAAAAAAAAAAAAAAAAAAAAAAAAAAAAAAAAAAAAAAAAAAAAAAAAAAAAAAAAAAAAAAAAAAAAAAAAAAAAAAAAAAAAAAAAAAAAAAAAAAAAAAAAAAAAAAAAAAAAAAAAAAAAAAAAAAAAAAAAAAAAAAAAAAAAAAAAAAAAAAAAAAAAAAAAAAAAAAAAAAAAAAAAAAAAAAAAAAAAAAAAAAAAAAAAAAAAAAAAAAAAAAAAAAAAAAAAAAAAAAAAAAAAAAAAAAAAAAAAAAAAAAAAAAAAAAAAAAAAAAAAAAAAAAAAAAAAAAAAAAAAAAAAAAAAAAAAAAAAAAAAAAAAAAAAAAAAAAAAAAAAAAAAAAAAAAAAAAAAAAAAAAAAAAAAAAAAAAAAAAAAAAAAAAAAAAAAAAAAAAAAAAAAAAAAAAAAAAAAAAAAAAAAAAAAAAAAAAAAAAAAAAAAAAAAAAAAAAAAAAAAAAAAAAAAAAAAAAAAAAAAAAAAAAAAAAAAAAAAAAAAAAAAAAAAAAAAAAAAAAAAAAAAAAAAAAAAAAAAAAAAAAAAAAAAAAAAAAAAAAAAAAAAAAAAAAAAAAAAAAAAAAAAAAAAAAAAAAAAAAAAAAAAAAAAAAAAAAAAAAAAAAAAAAAAAAAAAAAAAAAAAAAAAAAAAAAAAAAAAAAAAAAAAAAAAAAAAAAAAAAAAAAAAAAAAAAAAAAAAAAAAAAAAAAAAAAAAAAAAAAAAAAAAAAAAAAAAAAAAAAAAAAAAAAAAAAAAAAAAAAAAAAAAAAAAAAAAAAAAAAAAAAAAAAAAAAAAAAAAAAAAAAAAAAAAAAAAAAAAAAAAAAAAAAAAAAAAAAAAAAAAAAAAAAAAAAAAAAAAAAAAAAAAAAAAAAAAAAAAAAAAAAAAAAAAAAAAAAAAAAAAAAAAAAAAAAAAAAAAAAAAAAAAAAAAAAAAAAAAAAAAAAAAAAAAAAAAAAAAAAAAAAAAAAAAAAAAAAAAAAAAAAAAAAAAAAAAAAAAAAAAAAAAAAAAAAAAAAAAAAAAAAAAAAAAAAAAAAAAAAAAAAAAAAAAAAAAAAAAAAAAAAAAAAAAAAAAAAAAAAAAAAAAAAAAAAAAAAAAAAAAAAAAAAAAAAAAAAAAAAAAAAAAAAAAAAAAAAAAAAAAAAAAAAAAAAAAAAAAAAAAAAAAAAAAAAAAAAAAAAAAAAAAAAAAAAAAAAAAAAAAAAAAAAAAAAAAAAAAAAAAAAAAAAAAAAAAAAAAAAAAAAAAAAAAAAAAAAAAAAAAAAAAAAAAAAAAAAAAAAAAAAAAAAAAAAAAAAAAAAAAAAAAAAAAAAAAAAAAAAAAAAAAAAAAAAAAAAAAAAAAAAAAAAAAAAAAAAAAAAAAAAAAAAAAAAAAAAAAAAAAAAAAAAAAAAAAAAAAAAAAAAAAAAAAAAAAAAAAAAAAAAAAAAAAAAAAAAAAAAAAAAAAAAAAAAAAAAAAAAAAAAAAAAAAAAAAAAAAAAAAAAAAAAAAAAAAAAAAAAAAAAAAAAAAAAAAAAAAAAAAAAAAAAAAAAAAAAAAAAAAAAAAAAAAAAAAAAAAAAAAAAAAAAAAAAAAAAAAAAAAAAAAAAAAAAAAAAAAAAAAAAAAAAAAAAAAAAAAAAAAAAAAAAAAAAAAAAAAAAAAAAAAAAAAAAAAAAAAAAAAAAAAAAAAAAAAAAAAAAAAAAAAAAAAAAAAAAAAAAAAAAAAAAAAAAAAAAAAAAAAAAAAAAAAAAAAAAAAAAAAAAAAAAAAAAAAAAAAAAAAAAAAAAAAAAAAAAAAAAAAAAAAAAAAAAAAAAAAAAAAyMDIwOjEwOjE5IDE1OjI1OjQ4ADIwMjA6MTA6MTkgMTU6MjU6NDgAAABKAHUAbABpAGEAIABFAGwAIABaAGkAbgBpAAAA/+ELIGh0dHA6Ly9ucy5hZG9iZS5jb20veGFwLzEuMC8APD94cGFja2V0IGJlZ2luPSfvu78nIGlkPSdXNU0wTXBDZWhpSHpyZVN6TlRjemtjOWQnPz4NCjx4OnhtcG1ldGEgeG1sbnM6eD0iYWRvYmU6bnM6bWV0YS8iPjxyZGY6UkRGIHhtbG5zOnJkZj0iaHR0cDovL3d3dy53My5vcmcvMTk5OS8wMi8yMi1yZGYtc3ludGF4LW5zIyI+PHJkZjpEZXNjcmlwdGlvbiByZGY6YWJvdXQ9InV1aWQ6ZmFmNWJkZDUtYmEzZC0xMWRhLWFkMzEtZDMzZDc1MTgyZjFiIiB4bWxuczpkYz0iaHR0cDovL3B1cmwub3JnL2RjL2VsZW1lbnRzLzEuMS8iLz48cmRmOkRlc2NyaXB0aW9uIHJkZjphYm91dD0idXVpZDpmYWY1YmRkNS1iYTNkLTExZGEtYWQzMS1kMzNkNzUxODJmMWIiIHhtbG5zOnhtcD0iaHR0cDovL25zLmFkb2JlLmNvbS94YXAvMS4wLyI+PHhtcDpDcmVhdGVEYXRlPjIwMjAtMTAtMTlUMTU6MjU6NDguNzA5PC94bXA6Q3JlYXRlRGF0ZT48L3JkZjpEZXNjcmlwdGlvbj48cmRmOkRlc2NyaXB0aW9uIHJkZjphYm91dD0idXVpZDpmYWY1YmRkNS1iYTNkLTExZGEtYWQzMS1kMzNkNzUxODJmMWIiIHhtbG5zOmRjPSJodHRwOi8vcHVybC5vcmcvZGMvZWxlbWVudHMvMS4xLyI+PGRjOmNyZWF0b3I+PHJkZjpTZXEgeG1sbnM6cmRmPSJodHRwOi8vd3d3LnczLm9yZy8xOTk5LzAyLzIyLXJkZi1zeW50YXgtbnMjIj48cmRmOmxpPkp1bGlhIEVsIFppbmk8L3JkZjpsaT48L3JkZjpTZXE+DQoJCQk8L2RjOmNyZWF0b3I+PC9yZGY6RGVzY3JpcHRpb24+PC9yZGY6UkRGPjwveDp4bXBtZXRhPg0KICAgICAgICAgICAgICAgICAgICAgICAgICAgICAgICAgICAgICAgICAgICAgICAgICAgICAgICAgICAgICAgICAgICAgICAgICAgICAgICAgICAgICAgICAgICAgICAgICAgIAogICAgICAgICAgICAgICAgICAgICAgICAgICAgICAgICAgICAgICAgICAgICAgICAgICAgICAgICAgICAgICAgICAgICAgICAgICAgICAgICAgICAgICAgICAgICAgICAgICAgCiAgICAgICAgICAgICAgICAgICAgICAgICAgICAgICAgICAgICAgICAgICAgICAgICAgICAgICAgICAgICAgICAgICAgICAgICAgICAgICAgICAgICAgICAgICAgICAgICAgICAKICAgICAgICAgICAgICAgICAgICAgICAgICAgICAgICAgICAgICAgICAgICAgICAgICAgICAgICAgICAgICAgICAgICAgICAgICAgICAgICAgICAgICAgICAgICAgICAgICAgIAogICAgICAgICAgICAgICAgICAgICAgICAgICAgICAgICAgICAgICAgICAgICAgICAgICAgICAgICAgICAgICAgICAgICAgICAgICAgICAgICAgICAgICAgICAgICAgICAgICAgCiAgICAgICAgICAgICAgICAgICAgICAgICAgICAgICAgICAgICAgICAgICAgICAgICAgICAgICAgICAgICAgICAgICAgICAgICAgICAgICAgICAgICAgICAgICAgICAgICAgICAKICAgICAgICAgICAgICAgICAgICAgICAgICAgICAgICAgICAgICAgICAgICAgICAgICAgICAgICAgICAgICAgICAgICAgICAgICAgICAgICAgICAgICAgICAgICAgICAgICAgIAogICAgICAgICAgICAgICAgICAgICAgICAgICAgICAgICAgICAgICAgICAgICAgICAgICAgICAgICAgICAgICAgICAgICAgICAgICAgICAgICAgICAgICAgICAgICAgICAgICAgCiAgICAgICAgICAgICAgICAgICAgICAgICAgICAgICAgICAgICAgICAgICAgICAgICAgICAgICAgICAgICAgICAgICAgICAgICAgICAgICAgICAgICAgICAgICAgICAgICAgICAKICAgICAgICAgICAgICAgICAgICAgICAgICAgICAgICAgICAgICAgICAgICAgICAgICAgICAgICAgICAgICAgICAgICAgICAgICAgICAgICAgICAgICAgICAgICAgICAgICAgIAogICAgICAgICAgICAgICAgICAgICAgICAgICAgICAgICAgICAgICAgICAgICAgICAgICAgICAgICAgICAgICAgICAgICAgICAgICAgICAgICAgICAgICAgICAgICAgICAgICAgCiAgICAgICAgICAgICAgICAgICAgICAgICAgICAgICAgICAgICAgICAgICAgICAgICAgICAgICAgICAgICAgICAgICAgICAgICAgICAgICAgICAgICAgICAgICAgICAgICAgICAKICAgICAgICAgICAgICAgICAgICAgICAgICAgICAgICAgICAgICAgICAgICAgICAgICAgICAgICAgICAgICAgICAgICAgICAgICAgICAgICAgICAgICAgICAgICAgICAgICAgIAogICAgICAgICAgICAgICAgICAgICAgICAgICAgICAgICAgICAgICAgICAgICAgICAgICAgICAgICAgICAgICAgICAgICAgICAgICAgICAgICAgICAgICAgICAgICAgICAgICAgCiAgICAgICAgICAgICAgICAgICAgICAgICAgICAgICAgICAgICAgICAgICAgICAgICAgICAgICAgICAgICAgICAgICAgICAgICAgICAgICAgICAgICAgICAgICAgICAgICAgICAKICAgICAgICAgICAgICAgICAgICAgICAgICAgICAgICAgICAgICAgICAgICAgICAgICAgICAgICAgICAgICAgICAgICAgICAgICAgICAgICAgICAgICAgICAgICAgICAgICAgIAogICAgICAgICAgICAgICAgICAgICAgICAgICAgICAgICAgICAgICAgICAgICAgICAgICAgICAgICAgICAgICAgICAgICAgICAgICAgICAgICAgICAgICAgICAgICAgICAgICAgCiAgICAgICAgICAgICAgICAgICAgICAgICAgICAgICAgICAgICAgICAgICAgICAgICAgICAgICAgICAgICAgICAgICAgICAgICAgICAgICAgICAgICAgICAgICAgICAgICAgICAKICAgICAgICAgICAgICAgICAgICAgICAgICAgICAgICAgICAgICAgICAgICAgICAgICAgICAgICAgICAgICAgICAgICAgICAgICAgICAgICAgICAgICAgICAgICAgICAgICAgIAogICAgICAgICAgICAgICAgICAgICAgICAgICAgICAgICAgICAgICAgICAgICAgICAgICAgICAgICAgICAgICAgICAgICAgICAgICAgICAgICAgICAgICAgICAgICAgICAgICAgCiAgICAgICAgICAgICAgICAgICAgICAgICAgICA8P3hwYWNrZXQgZW5kPSd3Jz8+/9sAQwAHBQUGBQQHBgUGCAcHCAoRCwoJCQoVDxAMERgVGhkYFRgXGx4nIRsdJR0XGCIuIiUoKSssKxogLzMvKjInKisq/9sAQwEHCAgKCQoUCwsUKhwYHCoqKioqKioqKioqKioqKioqKioqKioqKioqKioqKioqKioqKioqKioqKioqKioqKioq/8AAEQgAzQLWAwEiAAIRAQMRAf/EAB8AAAEFAQEBAQEBAAAAAAAAAAABAgMEBQYHCAkKC//EALUQAAIBAwMCBAMFBQQEAAABfQECAwAEEQUSITFBBhNRYQcicRQygZGhCCNCscEVUtHwJDNicoIJChYXGBkaJSYnKCkqNDU2Nzg5OkNERUZHSElKU1RVVldYWVpjZGVmZ2hpanN0dXZ3eHl6g4SFhoeIiYqSk5SVlpeYmZqio6Slpqeoqaqys7S1tre4ubrCw8TFxsfIycrS09TV1tfY2drh4uPk5ebn6Onq8fLz9PX29/j5+v/EAB8BAAMBAQEBAQEBAQEAAAAAAAABAgMEBQYHCAkKC//EALURAAIBAgQEAwQHBQQEAAECdwABAgMRBAUhMQYSQVEHYXETIjKBCBRCkaGxwQkjM1LwFWJy0QoWJDThJfEXGBkaJicoKSo1Njc4OTpDREVGR0hJSlNUVVZXWFlaY2RlZmdoaWpzdHV2d3h5eoKDhIWGh4iJipKTlJWWl5iZmqKjpKWmp6ipqrKztLW2t7i5usLDxMXGx8jJytLT1NXW19jZ2uLj5OXm5+jp6vLz9PX29/j5+v/aAAwDAQACEQMRAD8A+kaKKKACiiigAooooAKKKKACiiigAooooAKKKKACiiigAooooAKKKKACiiigAooooAKKKKACiiigAooooAKKKKACiiigAooooAKKKKACiiigAooooAKKKKACiiigAooooAKKKKACiiigAooooAKKKKACiiigAooooAKKKKACiiigAooooAKKKKACiiigAooooAKKKKACiiigAooooAKKKKACiiigAooooAKKKKACiiigAooooAKKKKACiiigAooooAKKKKACiiigAooooAKKKKACiiigAooooAKKKKACiiigAooooAKKKKACiiigAooooAKKKKACiiigAooooAKKKKACiiigAooooAKKKKACiiigAooooAKKKKACiiigAooooAKKKKACiiigAooooAKKKKACiiigAooooAKKKKACiiigAooooAKKKKACiiigAooooAKKKKACiiigAooooAKKKKACiiigAooooAKKKKACiiigAooooAKKK4LxNqPiHSPEkdlpredBq5CQu2P9FcfePuMUutg6XO7kdY4y7HAUZJr551349SWfxjgtbV92iQN9nuMdGJON34GvVvHo1u3+H9xa6Fm41BoREHY4JyMFvrXzgfhuIvEdhod5zdXdnJLK/fzOo59jTA+vLW5jvLWO4gYPHIoZWB6g1LXnnwch16w8HrpviRcSWjmOFiclkHQ16HQAUUUUAFFFFABRRRQAUUUUAFFFFABRRRQAUUUUAFFFFABRRRQAUUUUAFFFFABRWX4jt7640Of+yrg293GBJEwHDFTnafY4x+NYXgfVdV8RRzazqQNvAR5MNsMYypwzfiQaFqD0G/E/x3B4E8JT35ZTdMNtvGf4mqv8J/iBF4+8IRXcjKL2H5LlPRvX8a8g+L1hrXi/xbqMl/bywaRo9uWgz0kbHWqvwq0/WvB/ifRL7SbeW40vWbZRdKvIRsZzQB9SUUincoNLQAUUUUAFFFFABRRRQAUUUUAFFFFABRRRQAUUUUAFFFFABRRRQAUUUUAFFFFABRRXN+L9dvPDUVvqaxCbTY223iqMugPRh+PGPelew7XOkryn4xfFtfAAsrSx2y3s0gZ0/uxjr+ddroeraje+HZNUv4BGZd0lvCBgiP8Ahz7kYr5b8VaNq3iTULnxP4nglge7vVght5BjZHmqasI+r/DOv2vibw/a6pYuHiuIwwx2PpWtXhnwRTXPDGu6h4ZvbeV9Kx59rcEfKueoz/npXudIAooooAKKKKACiiigAooooAKKKKACiiigAooooAKKKKACiiigAooooAKKKKACiiigAooooAKKKKACiiigAqleaVa315a3NwrGS1bfGQ2MGrtFAPXQjmhWVSHGa8d1qBB+0DoyAcfZJP5GvZT90149rX/Jw2j/APXo/wDI0Aet29ukKjYMVPTU+4KdQAUUUUAFFFFABRRRQAUUUUAFFFFABRRRQAUUUUAFFFRz3EVtGZJ5FjQdSxxSbS1Y0m3ZElFVrfULS7YrbXEchHUK2as0KSkrocouLs1YKKKKZIUUUUAIwDKVPQjFU9L0m20fT1srJWWFWZgGbJySSf1NXaKAOH+JljGngPWJAOfszVD8K7GOT4c6HIR832SM/pV/4of8k71f/r2b+VR/Cf8A5Jnof/XnH/KgDslG1cUtFFABRRRQAUUUUAFFFFABRRRQAUUUUAFFFFABRRRQAUUVG1xCrbWlQH0LCk2luNJvYkooByOKKYgooooAKKKKACqGuaUmuaLcadLIY0nABYDJGCD/AEq/RSaurMabTuiCO1WOzjtwchFC59cV5R8aLKODR9M2gDdqEf8AOvXq8p+OH/II0r/sIR/zp7kpWVkd/o9hHHaQyKOdg/lWvVPSv+QbD/uD+VXKBhRRRQAUUUUAFFFFABRRRQAUUUUAFFFFABRRRQAUUUZx1oAKKjFxEzbRIpPoDUlK6Y7NbhRRRTEFFFFABRRRQAUUUUAFFFFABRRRQAUUUUAIfumvH9Z/5OG0f/r0f+Rr2A/dNePax/ycNpH/AF6P/KgD2BPuCnU1PuCnUAFFFFABRRRQAUUUUAFFFFABRRRQAUUUUAFFFFABXJ+P0lm0B44UZyWBKgV1lQ3Fqlym2QZFZVqaq05U31VjahVdGrGoujueZeAIJ4NceQwNGhjxkjFepA8VkXNnFptlLLANrBSQRXm+leItUbXrYSajO6NNhoy5IIz0xXkKpSyqMMPq+ZnsOlVzaU8RpHlXmewUUyJ98Yb1FPr3DwQooooAKKKKAOQ+KH/JO9Y/69mqP4T/APJM9D/684/5VJ8Uf+Sd6x/17NUfwo/5Jpof/XnH/KgDs6KKKACiiigAooooAKKKKACiiigAooooAKKKKACiiigBkrbYyR6V4v4juLk65d4eUNu+UAmvamG5SDWTNoNvNceaygn6V52PwTxkFBS5bO56WXY76lUc+XmuWNHkeTS4DJndsGc1frgfF2v3+i3dvbabKsSlSWyua2vBms3OraT5l64eUOQSBjNVTxlJ4h4VX5khVcDVWHWLduV/edJRRRXeecFFFFABRRRQAV5T8cP+QTpX/YQi/nXq1eU/HD/kFaT/ANhGP+dAHpel/wDIOh/3B/KrdVNL/wCQdD/uD+VW6ACiiigAooooAKKKKACiiigAooooAKKKKACiiigAqnqsjRafMyZzsOMVcqOaITRlW6Gk1dWHF2dzxnRrq6HiG2/eTE+adwJNezwtujUn0rJTQbeCczBRnr0riNd8YavZa3dW9nOiQwsAqlAewrw4KnlFFurJyUn2/wCCe/UdTOayVKKjyrv5+h6hRXmXjzx7qGg+EdNu9PkRLu6dFJZcg5AJ4r0LS7h7rTYJZSC7xqzEDuRX0rw81hoYl/DO9u+h4UoODsy3RRRXOQFFFFABRRRQAUUUUAFFFFABRRRQAh+6a8f1f/k4bSf+vN/5V7AfumvH9W/5OG0r/rzegDr/ABpr95pMNuthIsbOfmJGaf4I1681aG4F/IsjI+FIGOMVe17w9HrMSCRc7eRTvD2gRaMjCMbdxyfevN+r4j657Xn9y2x6v1nDfUvY8nv97Lv3N+iiivSPKCiiigAooooAKKKKACiiigAooozQAUjOqDLEAeppa5Xx7PLFoEghZlJI5U+9Y16nsqUqlr2VzfD0vbVY072u7HTpLHJ9x1b6Gh5o4z87qv1NeZ+ALudtWmDPIyFB94k1F48vJxryASSKgj42kgZzXmf2p/sf1rk67HqLKr4z6rz9L3PTZ40urcqCGVh2rBg8J20N6J1jUEHI4pvgWeWXw9F5xZiM8t1rp69KlKNenGo1urnm1oyw9WVKMtnb1OW8Y6xc6LpKGxcJIXC5IzxVHwT4jv8AVbq4iv5Vk2gFcDFbuv6LHrFt5Ug3AHIqr4f8NRaPIzxrgt1Nck8PiHjFVU/c7HZDE4ZYJ0XD3+9l+Z0lFFFekeUFFFFAHH/FH/knWsf9ezVX+GMvkfC3RpP7tkh/SrHxS/5J3rH/AF7NVb4axed8LNGQd7JB+lD2Gt9TPtviDqMuqJE8MXlNLs464zXo8b70DDvXAQeBlj1MTfNtV9wGa72BNkSqewrzcBTxVNS+syvroenmNTCVHH6rG3ckooor0jywooooAKKKKACiiigAooooAKKKKACjI9abI22Mn2rx/XNe1FPEF4I7yVFWYhEDcAV5+Ox0cFBTkr3dj0cBgJY2bhF2srnsVJkHvXM6jqU6eC3uEcibyAQw65xXBaH4x/szWIptY1TZa7W3mV+OlE8co4inh1Ftzta3mXQy6dajUrKXwX/A7/X/AAvDrEyySoGZehqJbnSPBGkM9/cxW0SgnDHk/hXC638ZLvV5m0/wJp0l1KeDcyL8q++P61mad8OdU8QXX2/xhfSXs7HcIA3yJ/n2r6mGT0sO/b45qD7LWb/y+ZxOpU5OSUny9jS0/wCM93q2uTwWVmn2NH+SVgfmGa9ftZvtFskn95Qa8xsPhrHaXI8tCkW7O0V6bZQ+RapH/dGK8DV4mpKEeWnpypu782/U6cVPDSpwVJe8t9LE9FFFbHnhRRRQAV5T8b/+QXpH/YRir1avKfjf/wAgzSP+wjFQB3F7qbaR4XN1GoZ44wVB71heGvG15quspaXcUao6kgrV3xLbG58DzoCR/o5OR9K89+CVq1/aNeyyO8kMpjyxzWdTL8XVj9bpTtCDimu976/genh6mFjhpxqxvJ3s+3Y9wByKKRRhRS1oeYFFFFABRRRQAUUUUAFFFFABRRRQAUUVR1m6+x6VcTBtpWNjn04pN2VxxV3YvZFFfMSfE/xSNcefTt1xbwS/6tsneK7+T4pW/ifw8n9nyvZ30bgTwk4Zfce1dGJwmKwuEliqsNI7pNNxvtzW2PRWAcq8aMJX5uttD1xhuUiuP1PwXb32otcNGCXOWPrVH4f6td3dzdR3Nw8yjG0sc4rvz0ry6FSljaCqOOj6MivTq4Cu6cZarqtDwn40Rpax6Bp6gfLPuC+2MV1fhXxtezXtjYTQxiKQbMjqML/9auV+KcDa18VNE06Js7Y9zD05J/lXZ6F4K+x6hDcksfLOVyenFetnNPFKhgqdB2ik216y/wAkdGFq4SNCaxCvJrT+vU9CU5UGlpqDCAU6uY8gKKKKACiiigAooooAKKKKACiiigBD9014/qv/ACcNpf8A15vXsB+6a8e1T/k4bTP+vN6APX87Yc+1eS+Jtdv4/El2kV9LEildqK+B0FetAbose1YN54Wtru88941LZ5JFcGOws8TTUIS5Xe56OX4unhKrnUjzJqxf0C5e60a2klJZzGMk9+Kp+JfEq6BFG3kmVpGwADjFa9pbLawLGgwAMCuX8ZaFNq6R+UxUo2RxV4hVo4dqj8dtDPDyoSxKdfSDev8ASNHw14lXX4pW8kxNG2ME5zW9XI+DdCm0lJPNYsXOTxXXVeF9t7GPt/i6kYv2Pt5ew+HoFFFZut63b6FYG6uVZlDBcIOcmt5zjCLlJ2SMIQlUkoQV2zSorA0LxbZ69cSQ20ciOgyd4xmtm6uUtLWSeT7saljj2qKdanVhzwd0XUoVKU/ZzVn2Jqq6lfLp2nzXLDcIkLY9cCuf0/x9p2o30drHFMjSHAZhxVvxLeWEmlzW81/bwmRCvzyqD09zU06scTBvDvm9O5pPD1KFSMa8bf5GZo3j1NU1OK0a1Mfm9GzWf4/1e7tbq1jtbl4FIJOxsZrjrDXPD2gazHNe61EfJzhVGc/lVnXfiv4X1GTZb2l1euvQpHkVOGyTOsbhJQq02pN6O1tD1Z1sHh8ZGpQjzQS1Xnr3O78AalcXulv9qmaZlkIDMcnFdLfWMd7EUkAI968U034naxHG0Gg+FZR6NJlf0IqU+I/ihq25FjtdPUng7eR+Oa9zD5DiMPRjTxFSMWl1kvyV2eXipqtWlUirJ9D1yx0a3sWLRgA1T1qLSEbzdSu7eADvLIF/nXk3/CJ+ONXjK6x4ouAD/DHyP6Vm638M107STLd313cy5Ay7nH5VpUwuXYeDnXxF0ukYt/i7IilSdWooRerdj1OX4i+DfD8Ox9XgcD/ngfM/9Bri/GHxv0q4sxb6C9yz7wTIqlePxrE8FeC9MutTNvc2MM4CZDOMnNely/D2yltxEltEijsEFc9LE5LiaDdOE5p6atR/K7OmrRlgMQlPVrU8z0H4r+KBcSR2GlzX4kHBmLfL+Nel+BNa8W6nfTv4mtIbe3KgxBGBINXtH8EW2nNlVA+grpraxjtvuDFL6zQjQ9jSoRj53cn97Zz4isq1Rztv/XQs0UUVwnMFFFFAHH/FL/knWsf9ezVD8L54YfhtoImkRC9pGq7mxk46Cpfil/yTrWP+vZq8/i8N3GvfCTw/LYTyQXlpaxyQsjYGcd66MNTp1KqhUlyp9ewHpfjXVbjS9H8yyfy5S4G7GeKx/BHiHUNR1GeC/n85VQFeMYNc14X8Yp4mh/4RzxYFg1WH5R5nAlx3HvXf6D4Yg0iZpIUClupHeuDHZXjMNmClOVorp0fmujPVp4nDwwcqEoe+9np5fM6J3CIWboK5WL4g6dLfC2EUoJfYGxxmukvVZrV1XqRXllv4Vvk1ZSSNiy7s49648dUxcHD6sr66hl9PBzU/rLtbY9aVgygjoaWorUFbdQ3XFS16Z5QUUE4GTXP3HjTR7a8a2luMSI20/KeDWVSrTpK83Y2pUatZtU4t27HQUU2ORZY1dDlWGQaydV8T6bo9wIb2ba5GQACac6kKceabsiadKpVlyQV2bFc5rPjSx0a++yzxyO4XJ2jpWxYajb6pYrc2b743Bwa8/wDFfh+8vdaa4h+6wA5FceNqV1Q5sKrv9DtwNLDuu4Yt2Sv5anaf23HdeHm1C1yA0RZc9uK4HRfGGsXGuWkdzch4pZdrLsHSux0LSXh8NpZT84Taa5u+sfD3hO4F9qdzBb+Wdygt834DrUTweNxU6TpOzW6V9dux0UMRhKCqwlDmvflej7nov+ti+orjvENloek7tR1i4gt0znMhALH29TXF6l8XdV1tzY+BtMd+32uZflH0qlp3w11LXr0X3jDUJr+ZjkxbvlFfXf2TSpLmzCaiv5d5P5dPmeXFyhqnYfrPxRudehbSPBGmSXAPyG5kUhV9/b8azdF+FF7qt2LvxJcNOzHJhQ4Ue1et6R4Ts9KtlSCBIY1HCqMVzOqeMr/TNSuIbSOERRHAyvNceOz/AA+XQX1anyJ6c2838+nyOzB4evi26dH8zotJ8JWWj2YW3t0iRR0UYrjZvFOq22qSJBcKsSzbQuwdM16lazfb9NSToXQE1zMvge1k1AzmJeW3H614GYUsTi+WVKpZ7vfU0wGIw+GlP6xDm+5/mdZaSCe2Rz1Kg1PUVtF5ECoOwxUtegjy3uFFFFAgooooAK8p+N//ACDdH/7CMVerV5R8b/8AkH6N/wBhKKgDvLqHz/DDx4zuhI/SvB/A+t3mhf2hp1hMIWS7ctxn2/pX0HAu/R0H+wP5V4N4f0SAfFrWNKuhlpsyR5+uT/OvRp0qmJyzFYelK0rRkvk9fwZ3YGtTo1lOqrxXQ9h8E6xdarpjNeyeZIrkbsY4rT1/xJpvhuwa61S5jhQdAzAFvoO9crrGu6X8NPDrTTbTK2fKgU8u1eWr4c17x/JLr3iF5Nsozb23ICr249KjLstlHB+3xc7RirX3cn2jcVZ061dziuWLZ7R4f8f6T4ju1g09mYsCQ3biupr5k8HJceCPiZaW13uS3uztX0BPFfTMZ3RqR3FZYjBzw3LLm5ozV4u1nbs13T0ZGJVJTXslp9+o6iimTSpBE0khwqjJNcxy76D6KwbTxlo97eJbQXG6RzhRtPNbuRjPas6dWnVV4O5rVo1KLtUi16i0jMFUk9qwrrxlo9neNbT3GJFOCNp4NS+IfEFhomgS6jfTBIFXIPc+gFVRlGvP2dJ8z2shzoVaaTnFpPYzpvH2mw6g1q0cpZX2FgOM1Y8VazNp+gNc2LhZDjaxGcV4HN46gl1V7l7W4jtJJd6ylD0zXtenXukeM/DqLY3UVyu0bkDcj6jrWUsuzilTqfW6bgvsv/go9WvHA0J0p0veX2l9xR8G+J9S1HWJLfUJxKnl5GFxg5ra+IN2LTwTqMrcfuGH5jFN0HwpBpN0Zo0AY8Z9qxvjPcCH4c3yk4LgKPzFb5Hhaqq0qNeXM3Ja/M48bWo16/PRjyx0OQ+FHguG78Mw6hKoLTs0gJ+uP6VU8f8Aw6udOu/7b8OIUnj+aWFRw49h/SvSPhbZ/YvAemxHqIs/mSf610esRp9gldlBKqTXs1sfPD5hWrQ1TbuntJX2a66HMpz51ZnB/CfxHpmvWTJEq2+oQjE8B4P1HtXe61eNY6TPNGcOqEg+9fNmrw6nY+Jl1vw6BbXgfJSLgP8Ah713Unxl02/8JXFvq8T22qJGUaAqfnb2rJYSjmdL6xlGsXo49YP/AC7M68ThquHrL2yv17nI+G9Xudc+Mwv7iXzTH8hyOnGK+k4APJU47V4d8IvBkuTrV9DtlncugI5Va9zRdqAegqczvHEexUrqnGMU/wDCtfxuYYmpTqSvBW3/ADHUUUV5pyhRRRQAUUUUAFFFFABRRRQAUUUUAIfumvHtT/5OH03/AK82r2E/dNePan/ycPp3/Xm1AHrks8dtatLKdqIuSayrHxdpWoXS29tPukboMdapeOdcstD8MSzajN5MbjYpwTkkdOK8P074h2Glanb3MUE90I+0aEE/nWcsLmlarTWEoucHu7aL57Hq4PDYarQnOrK0lsu59MVxfjDxVd6NfQW9lHC29WZjICemPf3ri5/jTrt1tGieFJ3VuN1wrD9RXNa4fiD4pvI7iayhs1AIG11OAf1r1cXkOOlRaVSFOXeUl+l2Y4KVGnWUsQrx1Pa/CmuyavpZnu1jSRWIOzgfrWF4o+IE2jaoba0No0arlmkJJ/Q15vp3gLxe67ZvEMsETfeSBmH/ANany/B6WW58ye9u7on7xkPWs5ZXh44eMKmM99buMW/zsjRVsNDEyqcl4vZHpFh8WfDh0eO41LUrZLgj54ozkg/SuL8a/FrQ9a002+kpdTurg/6ogHFamh/CXSrRA0tirt38wlv511Fn4L0u24gt7eL2RQK6JRyhUvZTjOpdW1ajf7rnNGtyVva0lazuvI8g8O+OtfsriS40jQJJ5GXaN4OP6Vt6p4h+JniGxZVt7XTo2XBCDBx/wImvW7fw1bQ42oo+gq6uj26jBQGlQxeDwlP2eFw0Ul3vL82FfFVK9T2s9z5xtfA/ii/uE+1anJCynrHkY/EV1Vv8HIropJqWo6hdMOoeTIP6Zr2mPTbaM5WNc/SrAiRRwoq45xi6ceWi1BdoxUfyRnUr1KjvJ3PKYvhn4a0vY89lCjdA0rsc/mcV0mmeFdKkXfZQ2pC8bo0XiqXxEjmla28qNnVSc7RVj4cpPFaXAlRkVpMgMPavnp5vjK2NeHqNtW3bZ6EsHT+orE8/vdvmT+I9LXT9DuJYflcJwR2rk/B1zNL4gijmneVGQ5Vq9V1CyS+t2ikAKsMEGsjTfC9vYXXnRxqG9QK58ThatXEQqxnZR3XcWGxtKjhp0ZQu5bPTQ2Y7SEKCEH5VR1rRodTtDC6Aqe1aoGBilr0ZRUlZ7Hlxk4vmi7M5jQvC0Gk3BljQBjxmunHFFFTCnCmuWCsvIqdSdSXNN3fmFFFFWQFFFFABRRRQBx3xT/5JzrP/AF7NUXwygWb4ZaKrDP8Aocf8ql+Kf/JOdY/69mpPhbx8NdF/684/5UAcn8RvB+mXriVbtLHUo/mimU4P4+1Zvhj4ral4YEemeM4XuLdflj1CMZyPf1rZ8cWVzceIGkWFnQxhQRV/RvCcWoeGkgv7ZX4OUcZrXAZ5UnVlgcZS5qUdns16P9Nj16+Fo08JCsp3b3Wmh10fijTL7RZNQ026iuo1QsNjVzek+Of7Q1eC2exVFmbG4HpXAa38M9S0RpLjwnezW2R81szHaw9P/wBdYfh/xTP4e1yAeLLO4g8p/wDXImV+vv8AhWuNyjFYipCplNRTh9qLspr5Pf5Cwf1P2NRVleXT7j6I1jVF0nSJrzZv8pCwXPWuf0Dxy2samtpJaeTuXIbdmmXGvaF4u0FrfTdUgcypjbvAcf8AATzWf4Z8MNp+qrctcF9owBxXkYujj6eKgoq0V8V/+CLDvBrDTVZfvOm//DHoExJhO30ryHU9C1GTW5ykIKyS7g2a9eMkSph5FH1NZl9qWiWJ3319awe8kqirxOXwxqUZpu3YwweOq4OTlStr3LWlq6adGr/eCAGvP/Gul311rImgj3rt28mrmr/GXwnpCvHb3D3sy9I7dCc/8C6Vx198TPFXiVzH4Z8O/ZkYZWe5GCPz4r16nDmIxtHkrR5Id5Pl/MWFxNXDVfawtfzPSPB6HSfD8ceoSJDtyTuYADnNZfiH4r+FNGJQXAvp8kCO3G7kdj6VwMXgLxN4ik8zxNrcxRuTBAcAH09PyrqbH4aaVo9i8lvZKZAud8nzNn8a64YXLMDTUZ1HUaW0dF/4E/0RlUn7Wo5y3bv95zt18RPGPi/Nv4Zsk0m2fpPIQXx+PH6VLpHwoN1cC88SXk+qTnkiRzs/xqro1k8Os2+EkBE3Iwa9ytol+zjC44rhwnElXEQnDC01RinbTd/9vPU7cwwf1KUYqV7njupyT6Jq0lppzR20MajCJGB2+len+Fp/tmg2s8oBkeMFiB1NZureEINQvjcMgLN1PrXQaXYrp9mkCDCqMACvEoUMTHE1KtWd4y2V2GKxOHqYanTpwtJbuy10LUi7oyBXC6j4IjvNReYhsSHLYPWu9owK66tCnWVqkbnDRxFWg+alKzKun232WzSLsoxVqiittjBu+oUUUUAFFFFABRRRQAV5R8b/APkH6N/2Eoq9Xryj43f8eOi/9hKKgD0uwGdNjB/uCvG/iHp8ln4tt/EHh27iXULU7XhZuHGe9exWpI0tMddg/lXj+t6Zd3GsXP8Ao7MXkJU1hUzXEZXONWhDmvo09VZ73PVy3CUsVOSqT5bIr6H4I1jxV4hXXPGU3nsDmO2H3F9Pwr07VLiHw1ovmrbrIRhQnStXRrVYrGL5cNtGapeKtIbVtPMCsV5zkV25ljcTjINrRpWilol6I46Mqfto+2+G+voeLfEW/Ot2C30Fp5E+nusoKHqCef5V6fa+O0g8G6ZqCQ+c9wgBUN9045rFPgVjpt7HcM7ieEx4IrjPAkcuo2d14ZuZTFcadOzRr3K96ulHG4nh+UX/ABqTv0+GX+TPQnLAvFpx/hfPt9+57J4Y8Vf8JCZla38hoiON2c1y3xe8a3GhadDpWkYbUL87V7lB64rZ8I6BJovnSSuzF+TkYrzqyx43+NN9dSESWmm/u41bsRx/PNacP0Jyg62NV/Zptro3sl8zkxXsPrEnh/h6bnIaRrGueE9fs59eBmtWkG58fcz7ivpmyvYtQ0mO5tJBJHIgZWU9a5vxB4LsdT0iSCSFSrrjp0964DwD4juvAviR/CfiOQ/Ypm/0Od+g9s13Rw2Hx1GVTDwUKsdWoqyku6S0uuttzKrXqV7c7vY0dZ0XUZdcnZIQyyPkNmsXx9cz+IvFmjeE0fMUYElwg/z6V7bcQ2y27XDBSAu7PtXjPw/jPiX4n61rpxJBHIYoW9s8fpXHkGCpYGdfHQ3iv/JnovzZ0YjHVcTCMalrR2O9Hgux/stYpIIvKVcBWUYArz7WPh3daRqB1LwVftY3SHd5KvlG/wA+9ep+M3ki8M3Cw7gxXHy9a4XwaJJfEKq/mNGYyDuzjNeZHPsTgMZGlT1U976r5rqaYbA+1ws8RzW5encj0T4zT6bIuneNtPe0uF+X7Sina3ua4bx741n8WzQaXBeieGa4HCAYAzXtmueDLPVrcrPbxygjoy5xXI6V8I7Kw1MTxwAANuGTnFe/9awKrQxlOEo1IXain7jfd9bLexzUK1OEZRlHfrvb0PRPC1v9l8P2kX9yJV/IVoX8H2m1eP8AvDFOs7cW1skY/hGKnrxZNybb6nJfW555F4BjW/Ep3YVsgE1duPAGm3N0s81lC8inO4oM122B6UVGHgsLf2Hu37aG1bEVa7TqSvYp6fYR2UCxooAAwABVyiiqMAooooAKKKKACiiigAooooAKKKKACiiigBD9014/qX/Jw+n/APXk1ewH7prx/UP+Th9P/wCvJqAPRfEPh+08QWC22oW6XEQIYK4yAfWsay8AadaACK0hRR0AQV2ifdFLWqrVFHkUnbtfQd2YkHh2CJQAAB6AVbj0i3T+AGtCishECWUKdEH5Vn67q1voNgbmWEyDIAVcZrXrmfGWlzapp3lQnB3A5xWNd1FSl7L4raG+GVJ1oqt8N9SHTfGEGtRXEcFvJC8aZ+bHP5V59Z3FwPEMR3zbvtGSMt611vhHw5c2V1LJctkOAMAYrp08P2y3PnBBuznpXkfU8Ri6dOWIlyyi+h7X17D4OrUjh480ZJf1qaluxeBSeuKi1K7+xafNOOTGhYD6CrCKEUKO1VdUtftljJD2dSDXtyvyux4EWuZN7HE6P49vr7VoLeeKMRytjI6ivQVO5QRXAaV4J+x6ok5LERtlQTXfRjbGBXBl8MVCm1iXd30PRzGphZ1E8KrKxXurCK6/1ig0trZR2q4jGKs0V6J5gUUUUAFFFFABRRRQAUUUUAFFFFABRRRQBx3xU/5JzrP/AF7NR8LP+Sb6J/15x/ypPip/yTjWf+vZqd8LP+Sb6J/15x/yoA6WfTobht0igmpoYEgTagwKlooAgmtY51w6g1gap4Ss76NlmgjkUjkMua6ainGTi7xdmB41q3wf05pXmsvOspD0MDkAfhXIPpF7pNw1tbeKr+MxttIwcCvo+4QNC3HOK8j1PwzfTazOUjUrJIWBrXGZ/m+HpxVB8+vVKX5nq5dTw1WUliZ2VtDhtf0PXYPJS58RXkyyjOSxFaHhL4cQa9btJqc91csj4GZDg17CfDEF9ZQi4jUsqgcitbSdGg0yLZCiqPYYrf8AtfNXV5vbWj2SS/FIxlXoew9nGHvd7nI6T8N9K0/DQafCjY5YrkmmazqkHh29S1jtFl+XPXAFehkcVwfinwxNqWpC4jZgcY6V5OZ1sbWpN0pNz83/AJhgHh/bf7V8P9djovDV7Dq+kxXawiMvnK+mDiteSFZIyhHBrG8LaW2laUluxJ25OT9a3a0o8/s4+0+K2vqc1f2ftZey+G7t6GQnh+2S480IM5z0rWRdigClorW1jK7YUUUUCCiiigAooooAKKKKACiiigAooooAK8o+N3/Hjon/AGEoq9Xryj43f8eWif8AYTioA9NsFzp8YP8AdFRvpVu8u8qM1Lp//HjF/uirNADUQRqAvSnEA9aKKAI5YVeMrjqK8R+Img3vhnxBD4t0FSJYGBuI1H317/pXuVYfijTRqGkzxKoLMhHI9RXZg8ZPB1faRV1s13XVFR3ODu/jNodx4MmuYHKXjQlRD/EHIxXm3gx72xhmvDcSQTXTGQ4OCcmtGz+FjS+IImmt8RK+WUHg16/b+CbXyot0SDaoAG0Vlj61LE5fLDYJyhzyTfMrNJbRVnrr1PZo1sPga6k0pq3R3/Q2fDlw974ftXnYu7RLuJ7nFcl8R/AsHiHTWK/u7iI74pV6qf8ACu8sbRbO3WJBhVGABT7qETQMpHUVGFq1cLKM6btKPU8ic+abktLs+cj8UfEWk+HLjw1fWbTXaKYY7kEkgdPxr0z4QeHTonhWHzlxPN+8k9ie34Vman8PZLjWHlU/K756dK9K0ayFjp8cP91QK7KubVcTTlR9iqabu7O/M/ToutjpxEaEYR9lK7e+mxYu7RLuIo4yDVKy0OCzl3xqAfpWrRXnWRx3YY4owPSiimIKKKKACiiigAooooAKKKKACiiigAooooAKKKKACiiigAooooAQ/dNeO6i6p+0NYF2Cj7E3JNexnpXm/jf4b2PifVor+driG4iG0S28hRsemRQB6ElzBtH76P8A76FL9pg/57R/99CvHh8HrQD/AJCer/8AgW1H/Cn7X/oKav8A+BbUAew/aYP+e0f/AH0KPtMH/PaP/voV49/wp+1/6Cmr/wDgW1H/AAp+2/6Cmr/+BbUAew/aYP8AntH/AN9Ckae3brLGf+BCvH/+FP23/QV1f/wKaj/hT9t/0FdX/wDApqAPX1ltl6SRj/gQp/2mD/ntH/30K8e/4VBb/wDQV1f/AMCmpP8AhUFv/wBBXV//AAKagD2L7TB/z2j/AO+hR9og/wCesf8A30K8d/4VBb/9BbV//ApqP+FQQf8AQW1f/wACmoA9h8+D/nrH/wB9Cl+0Q/8APZP++hXjv/CoYP8AoL6v/wCBTUf8Khg/6C+r/wDgU1AHsX2iH/nsn/fQo+0Q/wDPZP8AvoV47/wqKH/oL6v/AOBTUf8ACoof+gvq/wD4FNQB7F9oh/57J/30KPtEP/PVP++hXjv/AAqKL/oMax/4FNR/wqKL/oMax/4EtQB7F9oh/wCeqf8AfQo+0Q/89U/76FeO/wDCo4/+gxq//gS1H/Co4/8AoM6v/wCBLUAexfaIf+eqf99CmTXcSQsyyRkgcDcK8g/4VHH/ANBnV/8AwJamyfCaJI2ZtZ1fAGT/AKS1AElv8cpdG8UTaV430v8As+AylYLuI7kK54zXrGmatY6zZpdaZdR3MLjKvG2a+OvEOhzeIdbk0fwvFqV4In2SXF3IdgOea9z+DPw7uPBds0tzf3E00y/NFuIjX6CgD16iiigAooooA434q/8AJONZ/wCvZqd8Lf8AknGi/wDXnH/KtbxVpEeu+H7rTp93lXEZRtpwcGvK7H4b+JdNtUtLDx1qlvbxDbHEkfCqOg+9QB7dmjNeNf8ACDeL/wDooWr/APfv/wCyo/4Qbxf/ANFC1f8A79//AGVAHsuaM141/wAIN4v/AOihat/37/8AsqP+EG8X/wDRQtW/79//AGVAHshwaiNtEW3FRn6V5B/wg3jD/ooWrf8Afv8A+yo/4Qbxh/0UPVv+/Q/+KoA9kACjApc141/wg/jD/ooerf8Afof/ABVH/CD+MP8Aooerf9+h/wDFUAey5ppVT1rxz/hB/GH/AEUPVv8Av0P/AIqj/hB/GH/RQ9V/79D/AOKoA9kGB0pc141/wg/jH/ooeq/9+h/8VR/wg/jH/ooeq/8Afkf/ABVAHsuaM141/wAIR4x/6KHqv/fkf/FUv/CEeMf+ih6r/wB+R/8AFUAeyZozXjf/AAhPjH/ooeqf9+R/8VR/whPjL/ooWqf9+R/8VQB7JmjNeN/8IT4y/wCihap/35H/AMVSf8IV4y/6KFqn/fkf/FUAey5ri/iF8QD4Egs7ltLnvraVyszwjPlAY5Ncf/whXjP/AKKFqf8A35H/AMVXJ+O7DVfDWlebr/j/AFCVZcrHCYATIfQDdQB7f4W8caF4vsln0a+jlbHzRE4dD6EV0NfGPw88D+KtS8TJqWmXNxpdv5m77SRtZx/uivsPTFlj06GO4lM0ioA0hGCx9aALdFFFABRRRQAV5P8AG7/jz0P/ALCcVesVxPxG8IL4u0qO2NxJayQyCWKaMZKMOhxQB1unn/QYv90VZzXjEfgXxgiBV+IWqKB28kf/ABVP/wCEI8Y/9FD1X/vyP/iqAPZM0Zrxv/hCfGP/AEUPVP8AvyP/AIqj/hCfGX/RQtU/78j/AOKoA9kzTWAYYNeO/wDCE+Mv+ihap/35H/xVJ/whXjL/AKKFqn/fkf8AxVAHry2kCtuCLn6VOMdq8b/4Qrxn/wBFB1P/AL8j/wCKo/4Qrxl/0UHU/wDvyP8A4qgD2SivG/8AhC/Gf/RQdT/78j/4qj/hC/Gf/RQdS/78j/4qgD2LYpOcCndK8b/4Qzxn/wBFB1L/AL8j/wCKpP8AhDPGn/RQNS/78j/4qgD2WivGv+EM8af9FA1L/vyP/iqX/hDPGn/RQNS/78j/AOKoA9korxv/AIQ3xp/0UDUf+/I/+Ko/4Q3xr/0UDUf+/I/+KoA9korxv/hDvGv/AEP+o/8Afkf/ABVJ/wAId41/6H/UP+/I/wDiqAPZaM141/wh3jb/AKH/AFD/AL8//ZUf8If41/6H7UP+/P8A9lQB0Pir4uWfg7xdHpes6dcR2Migi/Vcpk12uka3p2u2SXelXcVzC4yGRs18wfEqO+0tDpmreLrzVbyUfLZ/ZwSc9M88Vb+CfgrxfYaxHqD6hNplkTlrbr5o9COgFAH1HRTUJKjNOoAKKKKACiiigAooooAKKKKACiiigApCoPUUtFADfLX0o8tfSnUUAN8tfSjy19KdRQA3y19KPLX0p1FADfLX0o8tfSo/tlv5zxecnmRjLLu5Ue9PhniuIxJBIsiHoynINAC+WvpR5a+lOqvZ39pfo7WVxHOsblGKNnaw6igCby19KPLX0p1UL3XdL065S3vr+CCZwSscjgEge1AF3y19KPLX0qG3v7S7ijktriOVJRlGVs7vpSXGoWlpbyT3NzHFFF992bAX60AT+WvpR5a+lEciTRLJEwZHAKsOhFOoAb5a+lHlr6U6igBvlr6VxPiDxm2h6tPpV5Ybri4Uf2aFP/H0x4K+xHGfrXcVxmt+CbnXdWn1G6vtlxBj+zdnS3Pdvcnv9BR18h9DS0zw5DHGs01tFDNIA0ixgY3d/rW7FAkK4QAU2zWdLOJbtlecKA7IOCfapqb3JWwUUUUhhRRRQAhAI5pnkR/3RUlFAEfkR/3RR5Ef90VJRQBH5Ef90UeRH/dFSUUAR+RH/dFHkR/3RUlQXN7bWShrueOEMcAu2M0AP8iP+6KPIj/uino6yIGQhlIyCO9LQBH5Ef8AdFHkR/3RTllRnKK4LL1APIp1AEfkR/3RR5Ef90VFbajZ3s00VpcRzSQNslVGyUPoadeX1rYQ+dezxwR5C7nbAyegoAf5Ef8AdFH2eP8AuinNKix+YzgJjO4nio2u7dZkiaZBJJyik8t9KAHfZ4/7oo+zx/3RUlFAEf2eP+6KPs8f90VJRQBla7JcWGjzXWnWq3M0Q3eUTjcB1x74rioG034kX6yxafHPYWQGLiUdJv4kA9uK7nXbS9v9IltdNuFtppRtMpH3VPXHvisjw14SfwvqEq6fcZ02ZAzQPyRL3YfXihb6g9tDT0/QreyRQiKMDgAdK1AAowKWigAooooAKKKKACkZQ3UZpaKAI/Ij/uij7PH/AHRUlFAEf2eP+6KPs8f90VJRQBH9nj/uij7PH/dFSUUAR/Z4/wC6KPs8f90VJRQBF9nj/uj8qPs8f90flUtBIUZJwPegCL7PH/dH5UfZ4/7o/KpA6t91gfoaWgCL7PH/AHR+VH2eP+6PyqQMD0IP0paAIvs8f90flR9nj/uj8qlooAi+zx/3R+VH2eP+6PyqWigCL7PH/dFYHirWf+EZt4L6a2D6eHxdSg8wr/ex6V0lYPifQJvEccFlJOI9PLZuox96Udl+lJ36DVupzGkaDaeLLxvEd1pUURkYi2lYZZ4hwG9s9R7Gu3stLhtFARQD9KpeGNHu9CsJLC4uRcW0bn7KcfMkfZT9Og9hW3VO19CVfqHSiiikMKKKKACiiigAooooAKKKKACiiigAooooAKKKKACiiigAooooA8L17VrXw98VfFD6zMbVLzS9tsz5AkPzcD35FZ3hi78RR6P4T0Ww1OfS1vIZ5JG2ZYgHI617zeaTYag6te2cM7L90yRhsfnUv2G1DRsLePdGMIdo+Ue3pSStFL+uv+Y297df+AeEnxv4gbwroceo649lHPeyw3Wpbfm2qeBntmsHRPE2q6P4LiTS7+UWl3q8y3GoBtrbcDB3ds+tfR8ukadNbiCWygeIHcEMYIz64pP7G037IbX7Db+QTkxeWNufpRrr/Xb/ACHddP63/wAzxCLxX4vm0fSbSPXo2luNUNst5F+8zHgEbj3IzTJdAv4fijrsmo6tJfTWWjmUNInDHHpnj1r3OLSdPgjRIbOBFjbcgWMDafUVKbK2aV5WgjMki7XYqMsPQ+1OWrv/AFtb/ggmkrP+tb/8A+eZ5bibWvAF/davJp0csTgunyqrc8fj0plrcz6TD41STXJLi5SfcltNzvB2ndjPbNfQkmk6fNHGktnA6xHMamMEL9PSkbRtOaZ5WsbcyOMMxjGWHvQ9X9/4u4ulv66njOsa54mn1C8t9N1uTT7ew0SK8EcaZ3NtXjrx1rM1L4geI5DaNe6xNptuukC5SSKM4uJiBwTXvx0+0JYm2iyybGOwcr6fSuZ8TfDjSfFE0TXlxd28caeX5Ns6qjL6EFT6dqG9Hb+t/wDNfcCt+H+X+T+8ueAtRutW8D6ZfX8hluJoQzue5roqqaZptto+mQWFinl28CBEX0Aq3VSacm0RFNRSYUUUVJQUUUUAFFFFABRRRQAUUUUAFFFFABRRRQAV5R8ebzRH8FzWF40baqwBs48ZfcTj5a9Xqrc6ZY3kyTXVpDNJH91nQEr9KmUeZWZUZcrueJXXju/8L3lzpl/fvaImixSWkbA/63Bzj36VR17x94htpNHmk1d1tnso3kit5AsrOSeSCfmHtXvNzpGn3kqyXVlBM6jAZ4wSBTJND0uaRHlsLd2jGEJiB2j2p6t3f9b/AOf4EJJKy/rb/L8TyDwFLL/wubVGvNauFkuII5I7abgzAqDjGe39K6fxZea/d/EvT9E0fV2063ltWlkIj3ZwR713o02yF4t0LWH7QowJdg3AfWpTbQtcCdokMqjAcryB9af8vkFrX8zwS+8Ta7pX9uR2d00AXVY4J7yKLLIm0Zbis+68Sal4j8E+IIJNXkvktNVghtrh15A3DnFe6694Vsde02SzkaW0Erh3ktSquxHqSDVTwv4B0PwpYT2thC0wuZfNme4IdpH9TwB+lKCsrS8v0/y/EqWqduv/AATyDxBP4hfwv4u0XUNcnu0soreWOTZggEjK9en+FbOiWsd34m8D3SawL9YrZsuz8k4XA6845FeyNp9o/mbraI+aMSZQfMPf1pkOlWFuYzBZwRmL7hWMDb9PSqi2t/63Jaurf10LdFFFIYUUUUAFFFFABRRRQAUUUUAFFFFABRRRQAUUUUAFFFFABWb4i1Q6J4b1DU1j8xrW3eUJ6lVJ/pWlTJ4Y7mB4Z0DxyKVZWHBB6ilK7Wg1vqeQaJ8RfFF1e2cNybG4Oq2T3NqIBzCw6K3rVe0+M2p31uxt7SNpdOtZZdTTH3HVioUfXFelaN4F8O+H71rvSdNjt5mBG4EnA9Bk8VLZeDtA064vprPTIIpNQz9qIH+tz61T8v67f15At9f67nmWh/E3xTPayXl5bRTWs9i9zFIECeUwGQv+0Pesfxf4h8b678NLHULqS0s7fULqFFWAncytnIP44r1uz+HvhiwaZrXS4085GjcbmIKnqMZ4q7L4U0WfR7fSpbCNrK2ZWhhOcIV6EUS5Wren5hF2f3/keMX19quiaN4ttdJlW0utPgt8zo55BHOPSrB1zxmnibwhDJrVuUurVmkwTtk4/i9TXr03hLRJ2vzNp8THUFCXWc/vQOgNUT8OvC5tbS3OlR+XZsWgG5sxk+hzTv38ibduzX5HnMPjTVNE0G/m0eCH7VNrptMSklTnPP6U66+KviXSdH1SHU4rI6la38dosqnES7+5+lemjwV4fEHk/wBmxeX9o+1bef8AW/3uvWqHiTwHZ6tpN/BpiW9ndX0iySzSxGQOR6rkfzFStI66/wBL/gjd29PP9f8AgGd8OvF2qeIdR1ay1aW1nawkVBLbfdbIzXfVxPw6+Hg8DQ3rS3a3Vzey+ZI0cfloPYLk4/Ou2p9ELqwooopDCiiigAooooAKKKKACiiigAooooAKKKKACiiigAooooAKKKKACiiigAooooAKKKKACiiigAooooAKKKKACiiigAooooAKKKKACiiigAooooAKKKKACiiigAooooAKKKKACiiigAooooAKKKKACiiigAooooAKKKKACiiigAooooAKKKKACiiigAooooAKKKKACiiigAooooAKKKKACiiigAooooAKKKKACiiigAooooAKKKKACiiigAooooAKKKKACiiigAooooAKKKKACiiigD//2Q==)"
      ]
    },
    {
      "cell_type": "markdown",
      "metadata": {
        "id": "AlEwW1AX1GI1"
      },
      "source": [
        "In (deep) neural networks, regularization can be achived by: \n",
        "\n",
        "\n",
        "*   L1 and L2 regularization on the cost function level\n",
        "*   Dropout on the layer/neuron-level\n",
        "*   Early stopping on the training level\n",
        "*   .....\n",
        "\n"
      ]
    },
    {
      "cell_type": "markdown",
      "metadata": {
        "id": "qpf_wNwuq_Eh"
      },
      "source": [
        "### L2 regularization\n",
        "\n",
        "L1 and L2 are the most common types of regularization. These update the general cost function by adding another term known as the regularization term.\n",
        "\n",
        "Cost function = Loss (say, binary cross entropy) + Regularization term\n",
        "\n",
        "Due to the addition of this regularization term, the values of weight matrices decrease because it assumes that a neural network with smaller weight matrices leads to simpler models. Therefore, it will also reduce overfitting to quite an extent.\n",
        "\n",
        "However, this regularization term differs in L1 and L2.\n",
        "\n",
        "In L2, we have:\n",
        "\n",
        "\n",
        "![l2.JPG](data:image/jpeg;base64,/9j/4AAQSkZJRgABAQEAYABgAAD/4RD0RXhpZgAATU0AKgAAAAgABAE7AAIAAAAOAAAISodpAAQAAAABAAAIWJydAAEAAAAcAAAQ0OocAAcAAAgMAAAAPgAAAAAc6gAAAAgAAAAAAAAAAAAAAAAAAAAAAAAAAAAAAAAAAAAAAAAAAAAAAAAAAAAAAAAAAAAAAAAAAAAAAAAAAAAAAAAAAAAAAAAAAAAAAAAAAAAAAAAAAAAAAAAAAAAAAAAAAAAAAAAAAAAAAAAAAAAAAAAAAAAAAAAAAAAAAAAAAAAAAAAAAAAAAAAAAAAAAAAAAAAAAAAAAAAAAAAAAAAAAAAAAAAAAAAAAAAAAAAAAAAAAAAAAAAAAAAAAAAAAAAAAAAAAAAAAAAAAAAAAAAAAAAAAAAAAAAAAAAAAAAAAAAAAAAAAAAAAAAAAAAAAAAAAAAAAAAAAAAAAAAAAAAAAAAAAAAAAAAAAAAAAAAAAAAAAAAAAAAAAAAAAAAAAAAAAAAAAAAAAAAAAAAAAAAAAAAAAAAAAAAAAAAAAAAAAAAAAAAAAAAAAAAAAAAAAAAAAAAAAAAAAAAAAAAAAAAAAAAAAAAAAAAAAAAAAAAAAAAAAAAAAAAAAAAAAAAAAAAAAAAAAAAAAAAAAAAAAAAAAAAAAAAAAAAAAAAAAAAAAAAAAAAAAAAAAAAAAAAAAAAAAAAAAAAAAAAAAAAAAAAAAAAAAAAAAAAAAAAAAAAAAAAAAAAAAAAAAAAAAAAAAAAAAAAAAAAAAAAAAAAAAAAAAAAAAAAAAAAAAAAAAAAAAAAAAAAAAAAAAAAAAAAAAAAAAAAAAAAAAAAAAAAAAAAAAAAAAAAAAAAAAAAAAAAAAAAAAAAAAAAAAAAAAAAAAAAAAAAAAAAAAAAAAAAAAAAAAAAAAAAAAAAAAAAAAAAAAAAAAAAAAAAAAAAAAAAAAAAAAAAAAAAAAAAAAAAAAAAAAAAAAAAAAAAAAAAAAAAAAAAAAAAAAAAAAAAAAAAAAAAAAAAAAAAAAAAAAAAAAAAAAAAAAAAAAAAAAAAAAAAAAAAAAAAAAAAAAAAAAAAAAAAAAAAAAAAAAAAAAAAAAAAAAAAAAAAAAAAAAAAAAAAAAAAAAAAAAAAAAAAAAAAAAAAAAAAAAAAAAAAAAAAAAAAAAAAAAAAAAAAAAAAAAAAAAAAAAAAAAAAAAAAAAAAAAAAAAAAAAAAAAAAAAAAAAAAAAAAAAAAAAAAAAAAAAAAAAAAAAAAAAAAAAAAAAAAAAAAAAAAAAAAAAAAAAAAAAAAAAAAAAAAAAAAAAAAAAAAAAAAAAAAAAAAAAAAAAAAAAAAAAAAAAAAAAAAAAAAAAAAAAAAAAAAAAAAAAAAAAAAAAAAAAAAAAAAAAAAAAAAAAAAAAAAAAAAAAAAAAAAAAAAAAAAAAAAAAAAAAAAAAAAAAAAAAAAAAAAAAAAAAAAAAAAAAAAAAAAAAAAAAAAAAAAAAAAAAAAAAAAAAAAAAAAAAAAAAAAAAAAAAAAAAAAAAAAAAAAAAAAAAAAAAAAAAAAAAAAAAAAAAAAAAAAAAAAAAAAAAAAAAAAAAAAAAAAAAAAAAAAAAAAAAAAAAAAAAAAAAAAAAAAAAAAAAAAAAAAAAAAAAAAAAAAAAAAAAAAAAAAAAAAAAAAAAAAAAAAAAAAAAAAAAAAAAAAAAAAAAAAAAAAAAAAAAAAAAAAAAAAAAAAAAAAAAAAAAAAAAAAAAAAAAAAAAAAAAAAAAAAAAAAAAAAAAAAAAAAAAAAAAAAAAAAAAAAAAAAAAAAAAAAAAAAAAAAAAAAAAAAAAAAAAAAAAAAAAAAAAAAAAAAAAAAAAAAAAAAAAAAAAAAAAAAAAAAAAAAAAAAAAAAAAAAAAAAAAAAAAAAAAAAAAAAAAAAAAAAAAAAAAAAAAAAAAAAAAAAAAAAAAAAAAAAAAAAAAAAAAAAAAAAAAAAAAAAAAAAAAAAAAAAAAAAAAAAAAAAAAAAAAAAAAAAAAAAAAAAAAAAAAAAAAAAAAAAAAAAAAAAAAAAAAAAAAAAAAAAAAAAAAAAAAAAAAAAAAAAAAAAAAAAAAAAAAAAAAAAAAAAAAAAAAAAAAAAAAAAAAAAAAAAAAAAAAAAAAAAAAAAAAAAAAAAAAAAAAAAAAAAAAAAAAAAAAAAAAAAAAAAAAAAAAAAAAAAAAAAAAAAAAAAAAAAAAAAAAAAAAAAAAAAAAAAAAAAAAAAAAAAAAAAAAAAAAAAAAAAAAAAAAAAAAAAAAAAAAAAAAAAAAAAAAAAAAAAAAAAAAAAAAAAAAAAAAAAAAAAAAAAAAAAAAAAAAAAAAAAAAAAAAAAAAAAAAAAAAAAAAAAAAAAAAAAAAAAAAAAAAAAAAAAAAAAAAAAAAAAAAAAAAAAAAAAAAAAAAAAAAAAAAAAAAAAAAAAAAAAAAAAAAAAAAAAAAAAAAAAAAAAAAAAAAAAAAAAAAAAAAAAAAAAAAAAAAAAAAAAAAAAAAAAAAAAAAAAAAAAAAAAAAAAAAAAAAAAAAAAAAAAAAAAAAAAAAAAAAAAAAAAAAAAAAAAAAAAAAAAAAAAAAAAAAAAAAAAAAAAAAAAAAAAAAAAAAAAAAAAAAAAAAAAAAAAAAAAAAAAAAAAAAAAAAAAAAAAAAAAAAAAAAAAAAAAAAAAAAAAAAAAAAAAAAAAAAAAAAAAAAAAAAAAAAAAAAAAAAAAAAAAAAAAAAAAAAAAAAAAAAAAAAAAAAAAAAAAAAAAAAAAAAAAAAAAAAAAAAAAAAAAAAAAAAAAAAAAAAAAAAAAAAAAAAAAAAAAAAAAAAAAAAAAAAAAAAAAAAAAAAAAAAAAAAAAAAAAAAAAAAAAAAAAAAAAAAEp1bGlhIEVsIFppbmkAAAWQAwACAAAAFAAAEKaQBAACAAAAFAAAELqSkQACAAAAAzI5AACSkgACAAAAAzI5AADqHAAHAAAIDAAACJoAAAAAHOoAAAAIAAAAAAAAAAAAAAAAAAAAAAAAAAAAAAAAAAAAAAAAAAAAAAAAAAAAAAAAAAAAAAAAAAAAAAAAAAAAAAAAAAAAAAAAAAAAAAAAAAAAAAAAAAAAAAAAAAAAAAAAAAAAAAAAAAAAAAAAAAAAAAAAAAAAAAAAAAAAAAAAAAAAAAAAAAAAAAAAAAAAAAAAAAAAAAAAAAAAAAAAAAAAAAAAAAAAAAAAAAAAAAAAAAAAAAAAAAAAAAAAAAAAAAAAAAAAAAAAAAAAAAAAAAAAAAAAAAAAAAAAAAAAAAAAAAAAAAAAAAAAAAAAAAAAAAAAAAAAAAAAAAAAAAAAAAAAAAAAAAAAAAAAAAAAAAAAAAAAAAAAAAAAAAAAAAAAAAAAAAAAAAAAAAAAAAAAAAAAAAAAAAAAAAAAAAAAAAAAAAAAAAAAAAAAAAAAAAAAAAAAAAAAAAAAAAAAAAAAAAAAAAAAAAAAAAAAAAAAAAAAAAAAAAAAAAAAAAAAAAAAAAAAAAAAAAAAAAAAAAAAAAAAAAAAAAAAAAAAAAAAAAAAAAAAAAAAAAAAAAAAAAAAAAAAAAAAAAAAAAAAAAAAAAAAAAAAAAAAAAAAAAAAAAAAAAAAAAAAAAAAAAAAAAAAAAAAAAAAAAAAAAAAAAAAAAAAAAAAAAAAAAAAAAAAAAAAAAAAAAAAAAAAAAAAAAAAAAAAAAAAAAAAAAAAAAAAAAAAAAAAAAAAAAAAAAAAAAAAAAAAAAAAAAAAAAAAAAAAAAAAAAAAAAAAAAAAAAAAAAAAAAAAAAAAAAAAAAAAAAAAAAAAAAAAAAAAAAAAAAAAAAAAAAAAAAAAAAAAAAAAAAAAAAAAAAAAAAAAAAAAAAAAAAAAAAAAAAAAAAAAAAAAAAAAAAAAAAAAAAAAAAAAAAAAAAAAAAAAAAAAAAAAAAAAAAAAAAAAAAAAAAAAAAAAAAAAAAAAAAAAAAAAAAAAAAAAAAAAAAAAAAAAAAAAAAAAAAAAAAAAAAAAAAAAAAAAAAAAAAAAAAAAAAAAAAAAAAAAAAAAAAAAAAAAAAAAAAAAAAAAAAAAAAAAAAAAAAAAAAAAAAAAAAAAAAAAAAAAAAAAAAAAAAAAAAAAAAAAAAAAAAAAAAAAAAAAAAAAAAAAAAAAAAAAAAAAAAAAAAAAAAAAAAAAAAAAAAAAAAAAAAAAAAAAAAAAAAAAAAAAAAAAAAAAAAAAAAAAAAAAAAAAAAAAAAAAAAAAAAAAAAAAAAAAAAAAAAAAAAAAAAAAAAAAAAAAAAAAAAAAAAAAAAAAAAAAAAAAAAAAAAAAAAAAAAAAAAAAAAAAAAAAAAAAAAAAAAAAAAAAAAAAAAAAAAAAAAAAAAAAAAAAAAAAAAAAAAAAAAAAAAAAAAAAAAAAAAAAAAAAAAAAAAAAAAAAAAAAAAAAAAAAAAAAAAAAAAAAAAAAAAAAAAAAAAAAAAAAAAAAAAAAAAAAAAAAAAAAAAAAAAAAAAAAAAAAAAAAAAAAAAAAAAAAAAAAAAAAAAAAAAAAAAAAAAAAAAAAAAAAAAAAAAAAAAAAAAAAAAAAAAAAAAAAAAAAAAAAAAAAAAAAAAAAAAAAAAAAAAAAAAAAAAAAAAAAAAAAAAAAAAAAAAAAAAAAAAAAAAAAAAAAAAAAAAAAAAAAAAAAAAAAAAAAAAAAAAAAAAAAAAAAAAAAAAAAAAAAAAAAAAAAAAAAAAAAAAAAAAAAAAAAAAAAAAAAAAAAAAAAAAAAAAAAAAAAAAAAAAAAAAAAAAAAAAAAAAAAAAAAAAAAAAAAAAAAAAAAAAAAAAAAAAAAAAAAAAAAAAAAAAAAAAAAAAAAAAAAAAAAAAAAAAAAAAAAAAAAAAAAAAAAAAAAAAAAAAAAAAAAAAAAAAAAAAAAAAAAAAAAAAAAAAAAAAAAAAAAAAAAAAAAAAAAAAAAAAAAAAAAAAAAAAAAAAAAAAAAAAAAAAAAAAAAAAAAAAAAAAAAAAAAAAAAAAAAAAAAAAAAAAAAAAAAAAAAAAAAAAAAAAAAAAAAAAAAAAAAAAAAAAAAAAAAAAAAAAAAAAAAAAAAAAAAAAAAAAAAAAAAAAAAAAAAAAAAAAAAAAAAAAAAAAAAAAAAAAAAAAAAAAAAAAAAAAAAAAAAAAAAAAAAAAAAAAAAAAAAAAAAAAAAAAAAAAAAAAAAAAAAAAAAAAAAAAAAAAAAAAAAAAAAAAAAAAAAAAAAAAAAAAAAAAAAAAAAAAAAAAAAAAAAAAAAAAAAAAAAAAAAAAAAAAAAAAAAAAAAAAAAAAAAAAAAAAAAAAAAAAAAAAAAAAAAAAAAAAAAAAAAAAAAAAAAAAAAAAAAAAAAAAAAAAAAAAAAAAAAAAAAAAAAAAAAAAAAAAAAAAAAAAAAAAAAAAAAAAAAAAAAAAAAAAAAAAAAAAAAAAAAAAAAAAAAAAAAAAAAAAAAAAAAAAAAAAAAAAAAAAAAAAAAAAAAAAAAAAAAAAAAAAAAAAAAAAAAAAAAAAAAAAAAAAAAAAAAAAAAAAAAAAAAAAAAAAAAAAAAAAAAAAAAAAAAAAAAAAAAAAAAAAAAAAAAAAAAAAAAAAAAAAAAAAAAAAAAAAAAAAAAAAAAAAAAAAAAAAAAAAAAAAAAAAAAAAAAAAAAAAAAAAAAAAAAAAAAAAAAAAAAAAAAAAAAAAAAAAAAAAAAAAAAAAAAAAAAAAAAAAAAAAAAAAAAAAAAAAAAAAAAAAAAAAAAAAAAAAAAAAAyMDIwOjEwOjE5IDE1OjMwOjI3ADIwMjA6MTA6MTkgMTU6MzA6MjcAAABKAHUAbABpAGEAIABFAGwAIABaAGkAbgBpAAAA/+ELIGh0dHA6Ly9ucy5hZG9iZS5jb20veGFwLzEuMC8APD94cGFja2V0IGJlZ2luPSfvu78nIGlkPSdXNU0wTXBDZWhpSHpyZVN6TlRjemtjOWQnPz4NCjx4OnhtcG1ldGEgeG1sbnM6eD0iYWRvYmU6bnM6bWV0YS8iPjxyZGY6UkRGIHhtbG5zOnJkZj0iaHR0cDovL3d3dy53My5vcmcvMTk5OS8wMi8yMi1yZGYtc3ludGF4LW5zIyI+PHJkZjpEZXNjcmlwdGlvbiByZGY6YWJvdXQ9InV1aWQ6ZmFmNWJkZDUtYmEzZC0xMWRhLWFkMzEtZDMzZDc1MTgyZjFiIiB4bWxuczpkYz0iaHR0cDovL3B1cmwub3JnL2RjL2VsZW1lbnRzLzEuMS8iLz48cmRmOkRlc2NyaXB0aW9uIHJkZjphYm91dD0idXVpZDpmYWY1YmRkNS1iYTNkLTExZGEtYWQzMS1kMzNkNzUxODJmMWIiIHhtbG5zOnhtcD0iaHR0cDovL25zLmFkb2JlLmNvbS94YXAvMS4wLyI+PHhtcDpDcmVhdGVEYXRlPjIwMjAtMTAtMTlUMTU6MzA6MjcuMjg2PC94bXA6Q3JlYXRlRGF0ZT48L3JkZjpEZXNjcmlwdGlvbj48cmRmOkRlc2NyaXB0aW9uIHJkZjphYm91dD0idXVpZDpmYWY1YmRkNS1iYTNkLTExZGEtYWQzMS1kMzNkNzUxODJmMWIiIHhtbG5zOmRjPSJodHRwOi8vcHVybC5vcmcvZGMvZWxlbWVudHMvMS4xLyI+PGRjOmNyZWF0b3I+PHJkZjpTZXEgeG1sbnM6cmRmPSJodHRwOi8vd3d3LnczLm9yZy8xOTk5LzAyLzIyLXJkZi1zeW50YXgtbnMjIj48cmRmOmxpPkp1bGlhIEVsIFppbmk8L3JkZjpsaT48L3JkZjpTZXE+DQoJCQk8L2RjOmNyZWF0b3I+PC9yZGY6RGVzY3JpcHRpb24+PC9yZGY6UkRGPjwveDp4bXBtZXRhPg0KICAgICAgICAgICAgICAgICAgICAgICAgICAgICAgICAgICAgICAgICAgICAgICAgICAgICAgICAgICAgICAgICAgICAgICAgICAgICAgICAgICAgICAgICAgICAgICAgICAgIAogICAgICAgICAgICAgICAgICAgICAgICAgICAgICAgICAgICAgICAgICAgICAgICAgICAgICAgICAgICAgICAgICAgICAgICAgICAgICAgICAgICAgICAgICAgICAgICAgICAgCiAgICAgICAgICAgICAgICAgICAgICAgICAgICAgICAgICAgICAgICAgICAgICAgICAgICAgICAgICAgICAgICAgICAgICAgICAgICAgICAgICAgICAgICAgICAgICAgICAgICAKICAgICAgICAgICAgICAgICAgICAgICAgICAgICAgICAgICAgICAgICAgICAgICAgICAgICAgICAgICAgICAgICAgICAgICAgICAgICAgICAgICAgICAgICAgICAgICAgICAgIAogICAgICAgICAgICAgICAgICAgICAgICAgICAgICAgICAgICAgICAgICAgICAgICAgICAgICAgICAgICAgICAgICAgICAgICAgICAgICAgICAgICAgICAgICAgICAgICAgICAgCiAgICAgICAgICAgICAgICAgICAgICAgICAgICAgICAgICAgICAgICAgICAgICAgICAgICAgICAgICAgICAgICAgICAgICAgICAgICAgICAgICAgICAgICAgICAgICAgICAgICAKICAgICAgICAgICAgICAgICAgICAgICAgICAgICAgICAgICAgICAgICAgICAgICAgICAgICAgICAgICAgICAgICAgICAgICAgICAgICAgICAgICAgICAgICAgICAgICAgICAgIAogICAgICAgICAgICAgICAgICAgICAgICAgICAgICAgICAgICAgICAgICAgICAgICAgICAgICAgICAgICAgICAgICAgICAgICAgICAgICAgICAgICAgICAgICAgICAgICAgICAgCiAgICAgICAgICAgICAgICAgICAgICAgICAgICAgICAgICAgICAgICAgICAgICAgICAgICAgICAgICAgICAgICAgICAgICAgICAgICAgICAgICAgICAgICAgICAgICAgICAgICAKICAgICAgICAgICAgICAgICAgICAgICAgICAgICAgICAgICAgICAgICAgICAgICAgICAgICAgICAgICAgICAgICAgICAgICAgICAgICAgICAgICAgICAgICAgICAgICAgICAgIAogICAgICAgICAgICAgICAgICAgICAgICAgICAgICAgICAgICAgICAgICAgICAgICAgICAgICAgICAgICAgICAgICAgICAgICAgICAgICAgICAgICAgICAgICAgICAgICAgICAgCiAgICAgICAgICAgICAgICAgICAgICAgICAgICAgICAgICAgICAgICAgICAgICAgICAgICAgICAgICAgICAgICAgICAgICAgICAgICAgICAgICAgICAgICAgICAgICAgICAgICAKICAgICAgICAgICAgICAgICAgICAgICAgICAgICAgICAgICAgICAgICAgICAgICAgICAgICAgICAgICAgICAgICAgICAgICAgICAgICAgICAgICAgICAgICAgICAgICAgICAgIAogICAgICAgICAgICAgICAgICAgICAgICAgICAgICAgICAgICAgICAgICAgICAgICAgICAgICAgICAgICAgICAgICAgICAgICAgICAgICAgICAgICAgICAgICAgICAgICAgICAgCiAgICAgICAgICAgICAgICAgICAgICAgICAgICAgICAgICAgICAgICAgICAgICAgICAgICAgICAgICAgICAgICAgICAgICAgICAgICAgICAgICAgICAgICAgICAgICAgICAgICAKICAgICAgICAgICAgICAgICAgICAgICAgICAgICAgICAgICAgICAgICAgICAgICAgICAgICAgICAgICAgICAgICAgICAgICAgICAgICAgICAgICAgICAgICAgICAgICAgICAgIAogICAgICAgICAgICAgICAgICAgICAgICAgICAgICAgICAgICAgICAgICAgICAgICAgICAgICAgICAgICAgICAgICAgICAgICAgICAgICAgICAgICAgICAgICAgICAgICAgICAgCiAgICAgICAgICAgICAgICAgICAgICAgICAgICAgICAgICAgICAgICAgICAgICAgICAgICAgICAgICAgICAgICAgICAgICAgICAgICAgICAgICAgICAgICAgICAgICAgICAgICAKICAgICAgICAgICAgICAgICAgICAgICAgICAgICAgICAgICAgICAgICAgICAgICAgICAgICAgICAgICAgICAgICAgICAgICAgICAgICAgICAgICAgICAgICAgICAgICAgICAgIAogICAgICAgICAgICAgICAgICAgICAgICAgICAgICAgICAgICAgICAgICAgICAgICAgICAgICAgICAgICAgICAgICAgICAgICAgICAgICAgICAgICAgICAgICAgICAgICAgICAgCiAgICAgICAgICAgICAgICAgICAgICAgICAgICA8P3hwYWNrZXQgZW5kPSd3Jz8+/9sAQwAHBQUGBQQHBgUGCAcHCAoRCwoJCQoVDxAMERgVGhkYFRgXGx4nIRsdJR0XGCIuIiUoKSssKxogLzMvKjInKisq/9sAQwEHCAgKCQoUCwsUKhwYHCoqKioqKioqKioqKioqKioqKioqKioqKioqKioqKioqKioqKioqKioqKioqKioqKioq/8AAEQgANAFLAwEiAAIRAQMRAf/EAB8AAAEFAQEBAQEBAAAAAAAAAAABAgMEBQYHCAkKC//EALUQAAIBAwMCBAMFBQQEAAABfQECAwAEEQUSITFBBhNRYQcicRQygZGhCCNCscEVUtHwJDNicoIJChYXGBkaJSYnKCkqNDU2Nzg5OkNERUZHSElKU1RVVldYWVpjZGVmZ2hpanN0dXZ3eHl6g4SFhoeIiYqSk5SVlpeYmZqio6Slpqeoqaqys7S1tre4ubrCw8TFxsfIycrS09TV1tfY2drh4uPk5ebn6Onq8fLz9PX29/j5+v/EAB8BAAMBAQEBAQEBAQEAAAAAAAABAgMEBQYHCAkKC//EALURAAIBAgQEAwQHBQQEAAECdwABAgMRBAUhMQYSQVEHYXETIjKBCBRCkaGxwQkjM1LwFWJy0QoWJDThJfEXGBkaJicoKSo1Njc4OTpDREVGR0hJSlNUVVZXWFlaY2RlZmdoaWpzdHV2d3h5eoKDhIWGh4iJipKTlJWWl5iZmqKjpKWmp6ipqrKztLW2t7i5usLDxMXGx8jJytLT1NXW19jZ2uLj5OXm5+jp6vLz9PX29/j5+v/aAAwDAQACEQMRAD8A+kaKKKACiiigAooooAKKKKACiiigAooooAKKKKACiiigAooooAKKKKACiiigAooooAKKKKACiiigAooooAKKKKACiiigAooooAKKKKACigHIyORRQAUUUUAFFFFAGD4g8Y6Z4evLawlW4vdUuwTbabYx+bPKB1bGQFX/AGmKqPWm6J4ui1jWrjSJNJ1PTb62gWeaK9iQBUY4Uh0dlbOG+6T905weK434WKNS8ffEDWtRy2qpqx09RIQWhtowPLVR2U9ffbmut8V+JbHw34Z1zxDaxQXt3pkHlyJGw3bwAUjcjleZAcdg2cc0AdLRXmMs+u6Lr/gyC81m5vNa1OeSXVoVf/R1txEzPtj+6io5QK3DHuTmjStU1Cb4oatYavq15brATqtm0cm62vNNaIoFA+6rJIQxbqfcUAemLIju6K6syEBlB5Xvz6Vz/ibxlbeG547ZdN1DVr14HuTZ6bEskqwoQGkIZl4ywAAJYk8A4OOf+DOnvF4LbV7i+u7u51q4e+l+1TCRlDH93k4HzeV5efoMACo/Culyaj8W/FmttqN88VhLDp0CNIuwgR+bImNv3Q0ox3yDz2oA9FRt6K2CNwzhhgilrw/UfHGrwaHqMFhqty+peI/ET6dorMQ32W2SQRvN0AC5WTB9x1wan8S6/wCIJPFXjG603Xru38N6BpKiVoipeS6KCQJC2MDcNgZiGIyQuC2QAe002SRIk3yuqKCBuY4HPFeb6Hf67ret6Z4WvNTkjTS9GgutZuoHCzXdw+UEQYcooKOWK4bIAyOc0Nf0W7u/EHgfw1qPia9vTHLPqFzdRusQljjYGAsOQzCR4lBJOdpOMngA9Ih1u2m8R3OirHcC5trdLh5GiIjKuSAA3Qn5TkVo15CnjLWrLRfEep6ddPf3F9r66RokV44McPz+V5hAA+XzBKffaBV6/wBTuvC/jMWR13ULy2tfD9zfa1NNIG2Mu3ypQCNsTHEmFUAEDocZoA9QorxHwdfeNGvPAn/CSa/dm71P7Re3NqdixraBTtMvGS7PLEBggAYAUEEn26gAorybxf4xu9N8W31nD8Qf7LSJlAs/+ETnvPJyinHnJw2c59s47V1Xw61qXW9Hu5p/EX9vtHcbPO/siTT/AC/lU7dj8t1zu98dqAOvrnvDvjOx8TalqNlp9peo+mTG3u3mjVUjlGMx5DHcec8ZHv0zratqUGjaLe6ndsFgs7d55CeyqpY/yrhfhMiaB8I4td1yRLeTUmm1i+lIP/LVi4PqTs28UAei0V5FqXiPU9W8G+LfF13ql1plnYvPaaJaWkvlkyRMY1kfHLu8vyhDlcAcEnNTeJ9W11dS8Mx3+o3Vjbanaf2bPcWL4+w6q6qY2kRfvKeRtPHOeODQB6vRXmWt6nqL/FTT9NbVbuDS9TgWPTbuzlzGl1byMbiGVRwS6KVy33dpxg5x6bQAUV5T4+17xWuvaBFH4NLQwa8ptpv7UiAu8RygDbjKZXJ56Yx716JoN9qWoaWs+taQdIui7A2puUnwAeDuXjkc4oAsanbJeaXc281zNaxyRlXmglMbovcq45U47jkdRg1l+CdaXxB4N07UEknlEke3zLhNkkm0lQ7DAwWADenzccVn+I7fxVrWn6lpC6RpIsrtJIBMuuywzNE2RnH2RgpK9QCcZ4J61XsLLxjpup3V3a6Lo4juVjBtD4hm8mMqoXco+xZBKqoPOPlGACTkA7aio7Zp2tYmvI44rgoDLHFIXRWxyFYhSwB6EgZ9B0rivi5feJdP8B3E3g5J3vfnEnkxqxEXlvubcXUpjqGXJ3BRg5oA7mmTyGG3kkSJ5mRSwjjxucgdBkgZPuRXO+AbnX7zwhbzeLozHqjMxlTy1RQM8BdrtuXHRicnqQK6WgDgPDvxWXxXaT3Og+D/ABDcx207W84Y2cbxSL1Vke4DA89xXT6B4gbXPtiTaTqGlT2cwikgv1jDHKhgymN3Urg9QeoI7Vw+u6Pc+FfjJpGt+E9kkniOQ22r6Vu2iWNBk3Y7AoCMk9SwHV+fTwACSAMnqfWgDgrn4i3MFlqk40+Imx8SRaKo8w/OjtGvmdOo8zp7V31eH6h/yCPEn/ZQbX/0ZbVa8VeLPEOh3Hj/AEbRbya6v7aBNRtpbgsRZWphBlwwXAbKkIvXLAnhWNAHpfjLXpPC/gvVdchgW4ewtnnWJ22h9ozjPasa58QWes6vreg6/HDb6VY6ba39zO821XRy5ZHzxsxHz6gkHiuY8aXsuu+AfG2t2V/LPokmiLb26iUPDJKocySR4H3fmVd2eSrdlGdPSNOstW+KPiOy1Szt721l0PTPMguYlkR8NMRlWBB5ANAG74C0y00mz1GLT0itLW5vDd2+nR4H2OJ1VQuwfc3Mjvt4wWI6g11dUdJ0PSdBt3t9D0uy02GR97x2dukKs2MZIUAE4AGfar1ABRRRQAUUUUAc1qXw/wDD+qa5LrDwXVpqE6BJ7jT76a0adR0DmJ13YHGTzitA+GNFPhyXQf7Oh/suZGSS2x8rhjliT1LEkktnOec55rVooAxtN8J6PpTXD20E0k1zCIJbi5uZZ5mjAwE8yRmYKOTgHGST1JNU9P8Ah94c023mht7SZ1lsTpxNxeTTMltz+6RnclF5/hx0HoMdLRQBzh01vBnhW3sfA+gx3MdtIiiyFwI2MZb52DufmfHPzEZ9af4L0K40HQZF1ExtqN9dTX14YjlRLK5YqDgZCjaoOBkLnAroKKAOPHwo8FizW1OiK0K3f2zDTysWk+bgktkp+8f5D8vzNxya0rjwT4fudG1PSpbD/Q9VuDc3iLNIpklJU7twbcvKrgAgDHFb1FAHNXPw+8NXN3b3P2GS3lt7cWwNpdS2/mQg58uQRsPMXOeGz1PqatP4P0CTxDY622mxfb9Pt/stq4JCwx5yAqZ2jHY4yK26KAOZi+HfheDRZ9Lg0sR209wLlts8gkWUMXVlk3b0IYkjaRjJx1NWf+EL0FtG1HS5LJpbbVCTfNLPI8tznj55S288DA54HAwOK3aKAMe78KaLfa7Y6xd2KyX2nxmK2cu22Ncg/cztOCAQSDgjIrYoooAKKKKAM3X9A07xNo02la1FJNZT8SxR3EkO8ehKMCR7Zwaw4/hd4VjSzjNrfyw2TxyW9vPq93LDGUIKYjaUrgEDAxjiuuooA5238B+HbXVPt8VlIXFw10kD3Mr28cxOTKkBYxq+STuCg5J9aVvA2gSa02qS2s0lw12t8Ue7laHz1XasnlFtm4ADBx2B6gV0NFAHPWPgXQNO1ZNRtrWYzx3E11Est3LJHFLMSZHSNmKqTk9AMbjjGTnoaKKAKl9pVnqclnJfQ+a1lcC5tzuI2SBSobg88MeDxzVuiigDhNX0fRpfHun3lp5Eeq2V0Lm/1GSQCSOJkZUt93U7iy4j6AAseSu7nv8AhY/jCTS3vYLTSGhawur2F9kn+qEu20crv5M3QJn/AGtw+5XoknhHw3Lq51WXw9pT6iX3m8ayjM27+9v27s++asvoOjyWj2smlWL28kCW7wtbIUaJMlIyMYKrk4XoMnFAFu3k862ik3I+9A26M5U5HUH0qSgAAAAYA6CigApk0nk28koR5NiltiDLNgdAPWn0UAeS6H4k8T2urahrWr/DrXbjU7xjGrRy25S3tlY+XEmXB77mPdiewUDs/CeueINdv9Rm1rQJ9CsohElpBcsjSSt8xdyVJAHKgD2JzzgdPRQB5LeeFtbl03XI006Uvc+Nbe/hGR81uskBMnXphG/KvSLrw9pd4mpi4tFJ1aHyL1lJVpowpUKWByMBjjHTJrSooA5Lx9oclx8J9Z0TQLEF205re0tIFCj7uFVR0AqLQNIv7X4ma1qFxbPHaTaVYwRykjDuhl3qPpuH512VFABRRRQAUUUUAFFFFABRRRQAUUUUAFFFFABRRRQAUUUUAFFFFABRRRQAUUUUAFFFFABRRRQAUUUUAFFFFABRRRQAUUUUAFFFFABRRRQAUUUUAFFFFABRRRQAUUUUAf/Z)\n",
        "\n",
        "Here, lambda is the regularization parameter. It is the hyperparameter whose value is optimized for better results. L2 regularization is also known as weight decay as it forces the weights to decay towards zero (but not exactly zero).\n",
        "\n",
        "In L1, we have:\n",
        "\n",
        "![l1.JPG](data:image/jpeg;base64,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)\n",
        "\n"
      ]
    },
    {
      "cell_type": "markdown",
      "metadata": {
        "id": "TuAABjcpudww"
      },
      "source": [
        "Now, let’s try the L2 regularizer over it and check whether it gives better results than a simple neural network model."
      ]
    },
    {
      "cell_type": "code",
      "metadata": {
        "id": "eP1HvNZnq-AO"
      },
      "source": [
        "from keras import regularizers\n",
        "\n",
        "# --\n",
        "\n",
        "model = Sequential() # neural network\n",
        "\n",
        "# The input layer requires the special input_shape parameter which should match\n",
        "# the shape of our training data.\n",
        "model.add(Dense(units=h_units[0], activation='relu', input_shape=(image_size,)))\n",
        "\n",
        "for u in range(1, len(h_units)):\n",
        "  # --\n",
        "\n",
        "model.add(Dense(out_units, activation='softmax'))\n",
        "\n",
        "model.summary()\n",
        "# --"
      ],
      "execution_count": null,
      "outputs": []
    },
    {
      "cell_type": "markdown",
      "metadata": {
        "id": "D0zID8xLvMdS"
      },
      "source": [
        "Train the new model"
      ]
    },
    {
      "cell_type": "code",
      "metadata": {
        "id": "IYrqqEguvPOH"
      },
      "source": [
        "# --\n",
        "# --\n",
        "\n",
        "plt.plot(history.history['accuracy'])\n",
        "plt.plot(history.history['val_accuracy'])\n",
        "plt.title('model accuracy')\n",
        "plt.ylabel('accuracy')\n",
        "plt.xlabel('epoch')\n",
        "plt.legend(['training', 'validation'], loc='best')\n",
        "plt.show()\n",
        "\n",
        "print(f'Validation loss: {loss:.3}')\n",
        "print(f'Validation accuracy: {accuracy:.3}')"
      ],
      "execution_count": null,
      "outputs": []
    },
    {
      "cell_type": "markdown",
      "metadata": {
        "id": "963SkNpjrBuq"
      },
      "source": [
        "### Dropout"
      ]
    },
    {
      "cell_type": "markdown",
      "metadata": {
        "id": "pNx-AWEV2Fmn"
      },
      "source": [
        "This is the one of the most interesting types of regularization techniques. It also produces very good results and is consequently the most frequently used regularization technique in the field of deep learning.\n",
        "\n",
        "Consider the following neural network\n",
        "\n",
        "![nn.JPG](data:image/jpeg;base64,/9j/4AAQSkZJRgABAQEAYABgAAD/4RD0RXhpZgAATU0AKgAAAAgABAE7AAIAAAAOAAAISodpAAQAAAABAAAIWJydAAEAAAAcAAAQ0OocAAcAAAgMAAAAPgAAAAAc6gAAAAgAAAAAAAAAAAAAAAAAAAAAAAAAAAAAAAAAAAAAAAAAAAAAAAAAAAAAAAAAAAAAAAAAAAAAAAAAAAAAAAAAAAAAAAAAAAAAAAAAAAAAAAAAAAAAAAAAAAAAAAAAAAAAAAAAAAAAAAAAAAAAAAAAAAAAAAAAAAAAAAAAAAAAAAAAAAAAAAAAAAAAAAAAAAAAAAAAAAAAAAAAAAAAAAAAAAAAAAAAAAAAAAAAAAAAAAAAAAAAAAAAAAAAAAAAAAAAAAAAAAAAAAAAAAAAAAAAAAAAAAAAAAAAAAAAAAAAAAAAAAAAAAAAAAAAAAAAAAAAAAAAAAAAAAAAAAAAAAAAAAAAAAAAAAAAAAAAAAAAAAAAAAAAAAAAAAAAAAAAAAAAAAAAAAAAAAAAAAAAAAAAAAAAAAAAAAAAAAAAAAAAAAAAAAAAAAAAAAAAAAAAAAAAAAAAAAAAAAAAAAAAAAAAAAAAAAAAAAAAAAAAAAAAAAAAAAAAAAAAAAAAAAAAAAAAAAAAAAAAAAAAAAAAAAAAAAAAAAAAAAAAAAAAAAAAAAAAAAAAAAAAAAAAAAAAAAAAAAAAAAAAAAAAAAAAAAAAAAAAAAAAAAAAAAAAAAAAAAAAAAAAAAAAAAAAAAAAAAAAAAAAAAAAAAAAAAAAAAAAAAAAAAAAAAAAAAAAAAAAAAAAAAAAAAAAAAAAAAAAAAAAAAAAAAAAAAAAAAAAAAAAAAAAAAAAAAAAAAAAAAAAAAAAAAAAAAAAAAAAAAAAAAAAAAAAAAAAAAAAAAAAAAAAAAAAAAAAAAAAAAAAAAAAAAAAAAAAAAAAAAAAAAAAAAAAAAAAAAAAAAAAAAAAAAAAAAAAAAAAAAAAAAAAAAAAAAAAAAAAAAAAAAAAAAAAAAAAAAAAAAAAAAAAAAAAAAAAAAAAAAAAAAAAAAAAAAAAAAAAAAAAAAAAAAAAAAAAAAAAAAAAAAAAAAAAAAAAAAAAAAAAAAAAAAAAAAAAAAAAAAAAAAAAAAAAAAAAAAAAAAAAAAAAAAAAAAAAAAAAAAAAAAAAAAAAAAAAAAAAAAAAAAAAAAAAAAAAAAAAAAAAAAAAAAAAAAAAAAAAAAAAAAAAAAAAAAAAAAAAAAAAAAAAAAAAAAAAAAAAAAAAAAAAAAAAAAAAAAAAAAAAAAAAAAAAAAAAAAAAAAAAAAAAAAAAAAAAAAAAAAAAAAAAAAAAAAAAAAAAAAAAAAAAAAAAAAAAAAAAAAAAAAAAAAAAAAAAAAAAAAAAAAAAAAAAAAAAAAAAAAAAAAAAAAAAAAAAAAAAAAAAAAAAAAAAAAAAAAAAAAAAAAAAAAAAAAAAAAAAAAAAAAAAAAAAAAAAAAAAAAAAAAAAAAAAAAAAAAAAAAAAAAAAAAAAAAAAAAAAAAAAAAAAAAAAAAAAAAAAAAAAAAAAAAAAAAAAAAAAAAAAAAAAAAAAAAAAAAAAAAAAAAAAAAAAAAAAAAAAAAAAAAAAAAAAAAAAAAAAAAAAAAAAAAAAAAAAAAAAAAAAAAAAAAAAAAAAAAAAAAAAAAAAAAAAAAAAAAAAAAAAAAAAAAAAAAAAAAAAAAAAAAAAAAAAAAAAAAAAAAAAAAAAAAAAAAAAAAAAAAAAAAAAAAAAAAAAAAAAAAAAAAAAAAAAAAAAAAAAAAAAAAAAAAAAAAAAAAAAAAAAAAAAAAAAAAAAAAAAAAAAAAAAAAAAAAAAAAAAAAAAAAAAAAAAAAAAAAAAAAAAAAAAAAAAAAAAAAAAAAAAAAAAAAAAAAAAAAAAAAAAAAAAAAAAAAAAAAAAAAAAAAAAAAAAAAAAAAAAAAAAAAAAAAAAAAAAAAAAAAAAAAAAAAAAAAAAAAAAAAAAAAAAAAAAAAAAAAAAAAAAAAAAAAAAAAAAAAAAAAAAAAAAAAAAAAAAAAAAAAAAAAAAAAAAAAAAAAAAAAAAAAAAAAAAAAAAAAAAAAAAAAAAAAAAAAAAAAAAAAAAAAAAAAAAAAAAAAAAAAAAAAAAAAAAAAAAAAAAAAAAAAAAAAAAAAAAAAAAAAAAAAAAAAAAAAAAAAAAAAAAAAAAAAAAAAAAAAAAAAAAAAAAAAAAAAAAAAAAAAAAAAAAAAAAAAAAAAAAAAAAAAAAAAAAAAAAAAAAAAAAAAAAAAAAAAAAAAAAAAAAAAAAAAAAAAAAAAAAAAAAAAAAAAAAAAAAAAAAAAAAAAAAAAAAAAAAAAAAAAAAAAAAAAAAAAAAAAAAAAAAAAAAAAAAAAAAAAAAAAAAAAAAAAAAAAAAAAAAAAAAAAAAAAAAAAAAAAAAAAAAAAAAAAAAAAAAAAAAAAAAAAAAAAAAAAAAAAAAAAAAAAAAAAAAAAAAAAAAAAAAAAAAAAAAAAAAAAAAAAAAAAAAAAAAAAAAAAAAAAAAAAAAAAAAAAAAAAAAAAAAAAAAAAAAAAAAAAAAAAAAAAAAAAAAAAAAAAAAAAAAAAAAAAAAAAAAAAAAAAAAAAAAAAAAAAAAAAAAAAAAAAAAAAAAAAAAAAAAAAAAAAAAAAAAAAAAAAAAAAAAAAAAAAAAAAAAAAAAAAAAAAAAAAAAAAAAAAAAAAAAAAAAAAAAAAAAAAAAAAAAAAAAAAAAAAAAAAAAAAAAAAAAAAAAAAAAAAAAAAAAAAAAAAAAAAAAAAAAAAAAAAAAAAAAAAAAAAAAAAAAAAAAAAAAAAAAAAAAAAAAAAAAAAAAAAAAAAAAAAAAAAAAAAAAAAAAAAAAAEp1bGlhIEVsIFppbmkAAAWQAwACAAAAFAAAEKaQBAACAAAAFAAAELqSkQACAAAAAzkyAACSkgACAAAAAzkyAADqHAAHAAAIDAAACJoAAAAAHOoAAAAIAAAAAAAAAAAAAAAAAAAAAAAAAAAAAAAAAAAAAAAAAAAAAAAAAAAAAAAAAAAAAAAAAAAAAAAAAAAAAAAAAAAAAAAAAAAAAAAAAAAAAAAAAAAAAAAAAAAAAAAAAAAAAAAAAAAAAAAAAAAAAAAAAAAAAAAAAAAAAAAAAAAAAAAAAAAAAAAAAAAAAAAAAAAAAAAAAAAAAAAAAAAAAAAAAAAAAAAAAAAAAAAAAAAAAAAAAAAAAAAAAAAAAAAAAAAAAAAAAAAAAAAAAAAAAAAAAAAAAAAAAAAAAAAAAAAAAAAAAAAAAAAAAAAAAAAAAAAAAAAAAAAAAAAAAAAAAAAAAAAAAAAAAAAAAAAAAAAAAAAAAAAAAAAAAAAAAAAAAAAAAAAAAAAAAAAAAAAAAAAAAAAAAAAAAAAAAAAAAAAAAAAAAAAAAAAAAAAAAAAAAAAAAAAAAAAAAAAAAAAAAAAAAAAAAAAAAAAAAAAAAAAAAAAAAAAAAAAAAAAAAAAAAAAAAAAAAAAAAAAAAAAAAAAAAAAAAAAAAAAAAAAAAAAAAAAAAAAAAAAAAAAAAAAAAAAAAAAAAAAAAAAAAAAAAAAAAAAAAAAAAAAAAAAAAAAAAAAAAAAAAAAAAAAAAAAAAAAAAAAAAAAAAAAAAAAAAAAAAAAAAAAAAAAAAAAAAAAAAAAAAAAAAAAAAAAAAAAAAAAAAAAAAAAAAAAAAAAAAAAAAAAAAAAAAAAAAAAAAAAAAAAAAAAAAAAAAAAAAAAAAAAAAAAAAAAAAAAAAAAAAAAAAAAAAAAAAAAAAAAAAAAAAAAAAAAAAAAAAAAAAAAAAAAAAAAAAAAAAAAAAAAAAAAAAAAAAAAAAAAAAAAAAAAAAAAAAAAAAAAAAAAAAAAAAAAAAAAAAAAAAAAAAAAAAAAAAAAAAAAAAAAAAAAAAAAAAAAAAAAAAAAAAAAAAAAAAAAAAAAAAAAAAAAAAAAAAAAAAAAAAAAAAAAAAAAAAAAAAAAAAAAAAAAAAAAAAAAAAAAAAAAAAAAAAAAAAAAAAAAAAAAAAAAAAAAAAAAAAAAAAAAAAAAAAAAAAAAAAAAAAAAAAAAAAAAAAAAAAAAAAAAAAAAAAAAAAAAAAAAAAAAAAAAAAAAAAAAAAAAAAAAAAAAAAAAAAAAAAAAAAAAAAAAAAAAAAAAAAAAAAAAAAAAAAAAAAAAAAAAAAAAAAAAAAAAAAAAAAAAAAAAAAAAAAAAAAAAAAAAAAAAAAAAAAAAAAAAAAAAAAAAAAAAAAAAAAAAAAAAAAAAAAAAAAAAAAAAAAAAAAAAAAAAAAAAAAAAAAAAAAAAAAAAAAAAAAAAAAAAAAAAAAAAAAAAAAAAAAAAAAAAAAAAAAAAAAAAAAAAAAAAAAAAAAAAAAAAAAAAAAAAAAAAAAAAAAAAAAAAAAAAAAAAAAAAAAAAAAAAAAAAAAAAAAAAAAAAAAAAAAAAAAAAAAAAAAAAAAAAAAAAAAAAAAAAAAAAAAAAAAAAAAAAAAAAAAAAAAAAAAAAAAAAAAAAAAAAAAAAAAAAAAAAAAAAAAAAAAAAAAAAAAAAAAAAAAAAAAAAAAAAAAAAAAAAAAAAAAAAAAAAAAAAAAAAAAAAAAAAAAAAAAAAAAAAAAAAAAAAAAAAAAAAAAAAAAAAAAAAAAAAAAAAAAAAAAAAAAAAAAAAAAAAAAAAAAAAAAAAAAAAAAAAAAAAAAAAAAAAAAAAAAAAAAAAAAAAAAAAAAAAAAAAAAAAAAAAAAAAAAAAAAAAAAAAAAAAAAAAAAAAAAAAAAAAAAAAAAAAAAAAAAAAAAAAAAAAAAAAAAAAAAAAAAAAAAAAAAAAAAAAAAAAAAAAAAAAAAAAAAAAAAAAAAAAAAAAAAAAAAAAAAAAAAAAAAAAAAAAAAAAAAAAAAAAAAAAAAAAAAAAAAAAAAAAAAAAAAAAAAAAAAAAAAAAAAAAAAAAAAAAAAAAAAAAAAAAAAAAAAAAAAAAAAAAAAAAAAAAAAAAAAAAAAAAAAAAAAAAAAAAAAAAAAAAAAAAAAAAAAAAAAAAAAAAAAAAAAAAAAAAAAAAAAAAAAAAAAAAAAAAAAAAAAAAAAAAAAAAAAAAAAAAAAAAAAAAAAAAAAAAAAAAAAAAAAAAAAAAAAAAAAAAAAAAAAAAAAAAAAAAAAAAAAAAAAAAAAAAAAAAAAAAAAAAAAAAAAAAAAAAAAAAAAAAAAAAAAAAAAAAAAAAAAAAAAAAAAAAAAAAAAAAAAAAAAAAAAAAAAAAAAAAAAAAAAAAAAAAAAAAAAAAAAAAAAAAAAAAAAAAAAAAAAAAAAAAAAAAAAAAAAAAAAAAAAAAAAAAAAAAAAAAAAAAAAAAAAAAAAAAAAAAAAAAAAAAAAAAAAAAAAAAAAAAAAAAAAAAAAAAAAAAAAAAAAAAAAAAAAAAAAAAAAAAAAAAAAAAAAAAAAAAAAAAAAAAAAAAAAAAAAAAAAAAAAAAAAAAAAAAAAAAAAAAAAAAAAAAAAAAAAAAAAAAAAAAAAAAAAAAAAAAAAAAAAAAAAAAAAAAAAAAAAAAAAAAAAAAAAAAAAAAAAAAAAAAAAAAAAAAAAAAAAAAAAAAAAAAAAAAAAAAAAAAAAAAAAAAAAAAAAAAAAAAAAAAAAAAAAAAAAAAAAAAAAAAAAAAAAAAAAAAAAAAAAAAAAAAAAAAAAAAAAAAAAAAAAAAAAAAAAAAAAAAAAAAAAAAAAAAAAAAAAAAAAAAAAAAyMDIwOjEwOjE5IDE1OjMyOjI3ADIwMjA6MTA6MTkgMTU6MzI6MjcAAABKAHUAbABpAGEAIABFAGwAIABaAGkAbgBpAAAA/+ELIGh0dHA6Ly9ucy5hZG9iZS5jb20veGFwLzEuMC8APD94cGFja2V0IGJlZ2luPSfvu78nIGlkPSdXNU0wTXBDZWhpSHpyZVN6TlRjemtjOWQnPz4NCjx4OnhtcG1ldGEgeG1sbnM6eD0iYWRvYmU6bnM6bWV0YS8iPjxyZGY6UkRGIHhtbG5zOnJkZj0iaHR0cDovL3d3dy53My5vcmcvMTk5OS8wMi8yMi1yZGYtc3ludGF4LW5zIyI+PHJkZjpEZXNjcmlwdGlvbiByZGY6YWJvdXQ9InV1aWQ6ZmFmNWJkZDUtYmEzZC0xMWRhLWFkMzEtZDMzZDc1MTgyZjFiIiB4bWxuczpkYz0iaHR0cDovL3B1cmwub3JnL2RjL2VsZW1lbnRzLzEuMS8iLz48cmRmOkRlc2NyaXB0aW9uIHJkZjphYm91dD0idXVpZDpmYWY1YmRkNS1iYTNkLTExZGEtYWQzMS1kMzNkNzUxODJmMWIiIHhtbG5zOnhtcD0iaHR0cDovL25zLmFkb2JlLmNvbS94YXAvMS4wLyI+PHhtcDpDcmVhdGVEYXRlPjIwMjAtMTAtMTlUMTU6MzI6MjcuOTIwPC94bXA6Q3JlYXRlRGF0ZT48L3JkZjpEZXNjcmlwdGlvbj48cmRmOkRlc2NyaXB0aW9uIHJkZjphYm91dD0idXVpZDpmYWY1YmRkNS1iYTNkLTExZGEtYWQzMS1kMzNkNzUxODJmMWIiIHhtbG5zOmRjPSJodHRwOi8vcHVybC5vcmcvZGMvZWxlbWVudHMvMS4xLyI+PGRjOmNyZWF0b3I+PHJkZjpTZXEgeG1sbnM6cmRmPSJodHRwOi8vd3d3LnczLm9yZy8xOTk5LzAyLzIyLXJkZi1zeW50YXgtbnMjIj48cmRmOmxpPkp1bGlhIEVsIFppbmk8L3JkZjpsaT48L3JkZjpTZXE+DQoJCQk8L2RjOmNyZWF0b3I+PC9yZGY6RGVzY3JpcHRpb24+PC9yZGY6UkRGPjwveDp4bXBtZXRhPg0KICAgICAgICAgICAgICAgICAgICAgICAgICAgICAgICAgICAgICAgICAgICAgICAgICAgICAgICAgICAgICAgICAgICAgICAgICAgICAgICAgICAgICAgICAgICAgICAgICAgIAogICAgICAgICAgICAgICAgICAgICAgICAgICAgICAgICAgICAgICAgICAgICAgICAgICAgICAgICAgICAgICAgICAgICAgICAgICAgICAgICAgICAgICAgICAgICAgICAgICAgCiAgICAgICAgICAgICAgICAgICAgICAgICAgICAgICAgICAgICAgICAgICAgICAgICAgICAgICAgICAgICAgICAgICAgICAgICAgICAgICAgICAgICAgICAgICAgICAgICAgICAKICAgICAgICAgICAgICAgICAgICAgICAgICAgICAgICAgICAgICAgICAgICAgICAgICAgICAgICAgICAgICAgICAgICAgICAgICAgICAgICAgICAgICAgICAgICAgICAgICAgIAogICAgICAgICAgICAgICAgICAgICAgICAgICAgICAgICAgICAgICAgICAgICAgICAgICAgICAgICAgICAgICAgICAgICAgICAgICAgICAgICAgICAgICAgICAgICAgICAgICAgCiAgICAgICAgICAgICAgICAgICAgICAgICAgICAgICAgICAgICAgICAgICAgICAgICAgICAgICAgICAgICAgICAgICAgICAgICAgICAgICAgICAgICAgICAgICAgICAgICAgICAKICAgICAgICAgICAgICAgICAgICAgICAgICAgICAgICAgICAgICAgICAgICAgICAgICAgICAgICAgICAgICAgICAgICAgICAgICAgICAgICAgICAgICAgICAgICAgICAgICAgIAogICAgICAgICAgICAgICAgICAgICAgICAgICAgICAgICAgICAgICAgICAgICAgICAgICAgICAgICAgICAgICAgICAgICAgICAgICAgICAgICAgICAgICAgICAgICAgICAgICAgCiAgICAgICAgICAgICAgICAgICAgICAgICAgICAgICAgICAgICAgICAgICAgICAgICAgICAgICAgICAgICAgICAgICAgICAgICAgICAgICAgICAgICAgICAgICAgICAgICAgICAKICAgICAgICAgICAgICAgICAgICAgICAgICAgICAgICAgICAgICAgICAgICAgICAgICAgICAgICAgICAgICAgICAgICAgICAgICAgICAgICAgICAgICAgICAgICAgICAgICAgIAogICAgICAgICAgICAgICAgICAgICAgICAgICAgICAgICAgICAgICAgICAgICAgICAgICAgICAgICAgICAgICAgICAgICAgICAgICAgICAgICAgICAgICAgICAgICAgICAgICAgCiAgICAgICAgICAgICAgICAgICAgICAgICAgICAgICAgICAgICAgICAgICAgICAgICAgICAgICAgICAgICAgICAgICAgICAgICAgICAgICAgICAgICAgICAgICAgICAgICAgICAKICAgICAgICAgICAgICAgICAgICAgICAgICAgICAgICAgICAgICAgICAgICAgICAgICAgICAgICAgICAgICAgICAgICAgICAgICAgICAgICAgICAgICAgICAgICAgICAgICAgIAogICAgICAgICAgICAgICAgICAgICAgICAgICAgICAgICAgICAgICAgICAgICAgICAgICAgICAgICAgICAgICAgICAgICAgICAgICAgICAgICAgICAgICAgICAgICAgICAgICAgCiAgICAgICAgICAgICAgICAgICAgICAgICAgICAgICAgICAgICAgICAgICAgICAgICAgICAgICAgICAgICAgICAgICAgICAgICAgICAgICAgICAgICAgICAgICAgICAgICAgICAKICAgICAgICAgICAgICAgICAgICAgICAgICAgICAgICAgICAgICAgICAgICAgICAgICAgICAgICAgICAgICAgICAgICAgICAgICAgICAgICAgICAgICAgICAgICAgICAgICAgIAogICAgICAgICAgICAgICAgICAgICAgICAgICAgICAgICAgICAgICAgICAgICAgICAgICAgICAgICAgICAgICAgICAgICAgICAgICAgICAgICAgICAgICAgICAgICAgICAgICAgCiAgICAgICAgICAgICAgICAgICAgICAgICAgICAgICAgICAgICAgICAgICAgICAgICAgICAgICAgICAgICAgICAgICAgICAgICAgICAgICAgICAgICAgICAgICAgICAgICAgICAKICAgICAgICAgICAgICAgICAgICAgICAgICAgICAgICAgICAgICAgICAgICAgICAgICAgICAgICAgICAgICAgICAgICAgICAgICAgICAgICAgICAgICAgICAgICAgICAgICAgIAogICAgICAgICAgICAgICAgICAgICAgICAgICAgICAgICAgICAgICAgICAgICAgICAgICAgICAgICAgICAgICAgICAgICAgICAgICAgICAgICAgICAgICAgICAgICAgICAgICAgCiAgICAgICAgICAgICAgICAgICAgICAgICAgICA8P3hwYWNrZXQgZW5kPSd3Jz8+/9sAQwAHBQUGBQQHBgUGCAcHCAoRCwoJCQoVDxAMERgVGhkYFRgXGx4nIRsdJR0XGCIuIiUoKSssKxogLzMvKjInKisq/9sAQwEHCAgKCQoUCwsUKhwYHCoqKioqKioqKioqKioqKioqKioqKioqKioqKioqKioqKioqKioqKioqKioqKioqKioq/8AAEQgBYwFvAwEiAAIRAQMRAf/EAB8AAAEFAQEBAQEBAAAAAAAAAAABAgMEBQYHCAkKC//EALUQAAIBAwMCBAMFBQQEAAABfQECAwAEEQUSITFBBhNRYQcicRQygZGhCCNCscEVUtHwJDNicoIJChYXGBkaJSYnKCkqNDU2Nzg5OkNERUZHSElKU1RVVldYWVpjZGVmZ2hpanN0dXZ3eHl6g4SFhoeIiYqSk5SVlpeYmZqio6Slpqeoqaqys7S1tre4ubrCw8TFxsfIycrS09TV1tfY2drh4uPk5ebn6Onq8fLz9PX29/j5+v/EAB8BAAMBAQEBAQEBAQEAAAAAAAABAgMEBQYHCAkKC//EALURAAIBAgQEAwQHBQQEAAECdwABAgMRBAUhMQYSQVEHYXETIjKBCBRCkaGxwQkjM1LwFWJy0QoWJDThJfEXGBkaJicoKSo1Njc4OTpDREVGR0hJSlNUVVZXWFlaY2RlZmdoaWpzdHV2d3h5eoKDhIWGh4iJipKTlJWWl5iZmqKjpKWmp6ipqrKztLW2t7i5usLDxMXGx8jJytLT1NXW19jZ2uLj5OXm5+jp6vLz9PX29/j5+v/aAAwDAQACEQMRAD8A+kaKKKACiiigAooooAKKKKACiiigAooooAKKKKACiiigAooooAKKKKACiiigAooooAKKKKACiiigAooooAKKKKACiiigAooooAKKKKACiiigAooooAKKKKACiiigAooooAKKKKACiiigAooooAKKKKACiiigAooooAKKKKACiiigAooooAKKKKACiiigAooooAKKKKACiiigAooooAKKKKACiiigAooooAKKKKACiiigAooooAKKKKACiiigAooooACcda5LXvid4T8O3Btr/VY3uV6wW4Mjj8BWF4y1nVfE/i5PA/hidrVVjEuqX6dYUPRFP948103hzwD4e8MWypp+nQmbq9zKoaRz6ljzQBj6d8ZvBeoXCwnUZLN2OF+2QtEGP1NdzDPFcwrLbyLLGwyrocgj61Q1Tw7pGt2zQarp1tdRsMESRg//AKq82ntbr4P69az2dxNceE76URS28jFvsLk8Mp/umgD1uikVg6hlOQRkGloAKKKKACiiigAoorH8VeIrbwr4bu9Wu/mWBCVQdXbso+poAtatrem6FZtd6xew2cC9XlcCuKk+OPgtJtiXV3Kuf9bFaOyfnVLwt4Dm8UvH4o+IY+2Xdx+8ttPk5htUP3Rt6E4616PFptlBb+RDaQxxYxsWMAflQBneH/GGg+KIi+h6nBdY+8it8y/Uda2q4PxT8L9O1JjqfhzGi63CN0N1ajYGP91wOoNXPh34suPEmkT2+rReRq+mym3vIv8AaH8Q9jQB2FFFFABRRRQAUUUUAFBIAyTgCivMfFGoap448ZSeDfD93JY2FmofVb2LhuekSnsTQBva58VPCOgXTW13qizXK/ehtVMrj8BVbS/jF4M1S5W3GpNaSucIt5E0W4+2a2fD3gfw/wCGbVYtK02BHH3pmQGRz6ljzVvWPDGi69atBq2m210jDHzxgkfQ9qANOORJo1kidXRhkMpyCKdXk0K33wl8UWdo11Ld+FNTl8mLzm3NYyHoM/3TXrIIIBHQ0AFFFFABRRRQAUUUUAFFFFABRRRQAUUUUAFFFFABRRRQAUjHCk+gpaKAPN/hGgubjxTqk3zXNxq0iMx6hV4Va9Iry7wzdr4J+KWseHtRPlWuty/brCVuFdzw6Z9eleo0AFc18RLCHUfh5rMNwoKi1eQZ7MoyD+Yrpa84+MviiLSvCjaNBMov9VPkopP3EP32PoAKAMjwr8WZoPBujrdeG9ZvZjZxl54YMo5x1B71q/8AC4P+pQ17/wAB67Lwva2Fp4W0610uWO4tILdY45EIYMAPUVrbF/uj8qAPN/8AhcH/AFKGvf8AgPR/wuD/AKlDXv8AwHr0jYv90flRsX+6PyoA83/4XB/1KGvf+A9H/C4P+pQ17/wHr0jYv90flRsX+6PyoA+afH37QHiPRvGNsdI0+azsxCC9nfw4aQ+vrV2b4nSfFCbw1pt3otzp0balG07yf6qUryAtezaz4H8L6vrUWt63ptvPdW6bVlm6KPp0rhfi1rPh2DQLGbStSsVv9Ku47iC2hddzgHlQB6igD11VCqFUYAGAKWsrw14gsvE/h+11TTpRJFOgJAPKt3U+4NatABXj+q65/wAIX8a9RuLewur6O/0+N5be0Tc24MRuxXrk88VrbyT3DrHFGpZ2Y4AA6mvKvh5rNh4q+Juv6/8AaYgWRbWygZhuaNc5cD0NAGh/wuD/AKlDXv8AwHo/4XB/1KGvf+A9ekbF/uj8qNi/3R+VAHm//C4P+pQ17/wHo/4XB/1KGvf+A9ekbF/uj8qNi/3R+VAHm/8AwuD/AKlDXv8AwHrJ8VfGa6t/Cuoy6f4a1mzuVgYxXE9v8kbY4J9q9e2L/dH5VU1PSrPWNLuNO1GBZrW5jMcsZ43KeooA+cPA37Seuyyx2Ou6K+qliFEtmuHyfUdK9R+CRF74Y1HWJVP2q/1GZpSw+bAYgA/QV0FhpXgvwJaeTax6dpaAYJdlDfmea4n4WeKdJsfGGueF7W+imtZrl7qwlVvlk3cuoPqDQB7BRRRQBxnxZtI7r4Y6u0gG63h8+Nj/AAuvINbnhO6e98H6TczZ8yW0jZie52iuP+LOq/bLG18HaafN1HWZVjeNeTHDn52PoMV32nWaadpdtZxfct4ljX6AYoAs0UUUAFFFFABRRRQAUUUUAFFFFABRRRQAUUUUAFFFFABRRRQBgeLvB+neMdK+yagGjljO+3uYjiSB+zKa46C6+Jfg9RaTafb+KrKMYjuY5BFMF7Bgep969QooA8i8RfEfx5a6Fc3tv4PGlwwJukuryYN5Y9do61xvgHWrKbX4dc8WkaxBrim1a/uBkW0wJzFt6KpBGD719BazpkWs6JeadcAGO6haJs+4xXzH4L06307XNR8I+Ijizv5ms23HmC4TmOQem4EY+lAHq954K13wLePqvw5mNxYsd02iTvlGHfyz/D9K6bwl8QtK8UlrU77DVIuJrC5G2RD3x6j6VjfDvxHf2V9N4K8WSbtXsF/cXDf8vcI6OPU+tbPjD4e6V4sVbjL2Gqw8wahanbLGfr3HsaAOsory6z8a694EuI9N+IkJuLHOyHW4E+Ujt5gH3T716VZXttqNnHdWM8c8Eg3JJG2Qw+tAE9IzBVLMQAOpJ6Vj+JPFekeE9ON5rV2kCnhEzl5D6KOpNcC0Pi74pMPPM3hrw0T9xeLm6X3/ALooArfFDxLF4z0y58H+D4bjVNScjfNavsjtyD/E/Q/SvC/CFlpvgDxDc6t8RLeR7uxJFrpzDLTSf3jn+EetfX+g+HNI8LaWtno9pHawIMsVHLH1Y9Sa8J+JGh2fxa1vU77T/JsdN8PwOs2qlf8Aj4kAzsHqB0zQB5/ofxfv9H8Sz6l4dEdgl/cktpZBaADt9CT3Fe/r498dxoIrn4fytcY+9FdKY/zr5M0rwlrkuswCx024uzG0cx8lCxCFuCQOmcV9/J/q1+lAHzX4v8W+KvFXidvC/iBo9JPll00yBzidgNyxvJ33Y7d67zSfDfhr4j+ErW70mJtB1jT1EIktTsltZF/hbHUfWue+Pvhgx69pHiK0JhlkYQGVeqyg5iPt8wA/GnadrNxpkNp8RdDiLWswFv4hsEH3XHBlA9RQB1Fh451vwVdx6V8R7cvbk7INagXMcnpvH8J969KtLu3vrVLizmSaGQZV0bIIqpG2meJ9CSQpDe2F5GCAwDKymvPbnwb4h+H95JqPw/na80xjum0O4bKqO5iPUH2oA9TorlfCPxA0jxZut4maz1OHiewuBtljP0PUe9dSzBFLOQqgZJPagBaxPE3i7R/CdgbrWbtYs/ciHLyH0VRya5XW/iVNfai+ifD60GsakDskuf8Al3tj6sw6kelT+F/holpqH9ueL7ttd1xju82Yfu4PaNeg+tAHzv8AEzwv4k8Q68/ihtNu9P0bUZsr9pkz5S93Yfwima/418K6foeleGPCtqw+wSrLJrQOyXfnLFO/519J/FDxBY6T4VfTZrNNQvNV/wBFtbEjPmsfUeg618o+P/hhc+D7+G3juo7q4a3FxdRRjAttxAC/mcCgD2f4cfFjxvrWjSPb6IniG2tW8szpIIph6ZB4Jx3rsJPE/wASddH2bSPCsOjb+Dd30wby/cKOtcx+zNomq6JourRatYT2m+VWTzkK7uB0zXulAHjPhu1k+H3xMMfjFvt9xrKAW+tSE/6zvFg/dHpXs3XpWF4w8LWvi7w7Npt18rkboJh96KQfdYH61zvw58V3c8k/hTxP+717SxtYtx9pi/hkHrx1oA7+iiigAooooAKKKKACiiigAooooAKKKKACiiigAooooAKKKKACiiigArwn4peFFi+IAmhPkrr0AEUg48u6i+ZGz6nOK92rh/izocureCZbqzH+m6Y63luw6gpyf0oA5gRXHxL8A2HiHSj9j8V6M2OBgiVeGjb2Ndx4D8Yw+MNBE7J5F/bt5N5bN96KQcEY9K8/8Ma5DpHjjT9atT5eieMYVkIzxFd45B9Ceat/ESWL4beJ4PG+nSxpDcusWp2IYAzr03qvdhQB6re2tte2ckF9FHNA6kOkgBUj3zXgV9eX3hXxhNp/wYmm1RTuN5puDJb2x9Vbsc9q6m0fxN8XYFuBM+g+FpeVWJ/392vuR90V6N4e8NaV4X0xLDRbSO2hUc7Ryx9Se5oA8q+GNroviXW5NS8X3kl94thJ32V8Notf9xD2969qAAGAMAelcn4v+Hmk+Kyl0wax1SHmC/tjtkQ/UdR7VwWt/EjxP8MrJ9N8YWiX7yqU07UomAEzejr2xnJNAHRfELxDeanqkPgfwvIRqV8ubydP+XWDuT6E9q53x1b2WiaPpPw+0f8Ad2oiN1qTr18hOWLH1Yg103gTSrLwr4RvPE+q3sV5qF8hu729Dhh0ztB9BXm10t7rGlyaldhhqfje+W3t0P3obNT29PlGfxoA7/4KaPs0C78RTR7JtYnLRjH3YF+WMfkK9NqrplhFpelWtjbqFit4ljUAdgMVaoA5n4h+G18VeBtR03H77y/NgI6iRPmX9QK8n+G+uRWGu28F+i/2X4ojMUiMPlS8Th1/GvfiMjBrwbWPDOPEniPwpCfKnmxrOjv02yj7yj24oA6LRbmX4W+MR4e1F2Ph3VZSdNnY8W8h6xE9ge1erg5HFef6c1h8U/hYI9UCpPs2TE8Nbzp39iDXF+H/AIpa+4bwRpVrHqviK0doVvTKPJMQ/wCWhPcgdhQB1fxW0jwnFYLrGq3f9k6tF/x6XdqcTM3ZQB976V5rL4k8Y6tb6ZZ/EqW80Xw5cDD3kMRRp+eBIf4MivVvDXwzhttSGu+Lbptb1xuRLMMxweyL0Fdre2FrqNnJaX1vHPbyLteORQVI+lAGf4Y0jRNH0OCHw1DBHZFQUeHB357k9yasa5rVl4e0W51TU5hFbW6F2Y9/Ye9eeXXg7Xvh7NLqPw/mNzpmTJPo1xJ8oHUmNj936Vg6X4kt/jZ4xgtJz9k0bStss1jK433MwPQjuoIoA2fDMUl7JffE7xiphRIGbT7aX/l3hHIP+8a4PTdMuPHHjTTRqAIuNZuf7Tu1I/1dtEcxIfQNgGvQviRMfEfiDS/A1i/l2zYu9UK9Et0/hP1OOKf8KrRNW1rW/Fgj2xTyfYrIY+7DF8vHsSKAPTkUIgVRgKMAUtFFABXCfEbwpd3y23iPw5+613SjviK/8t07xn1zXd0UAc94K8XWfjLw7FqNp8kg+S4gb70Mg6qRXQ15X4qs5/hx4tPjHSImbSb1wur2sY4Un/lsB/OvTbK8t9QsYbuzlWWCZA6OpyCCMigCeiiigAooooAKKKKACiiigAooooAKKKKACiiigAooooAztd17TvDeky6lrFyltbRDlmPU+gHc1wMPjTx14rbzfCPhyOx05v8AV3mqNtMg9Qg5xUMNn/wsf4p3k1+TJofhxxFDbn7s1x1YsPbivVERY0CooVQMAAYAoA80n1T4q6Gvn3mlaXrkK8vHYsUkA9g3U10Phbx1o/jSyuIY91reQqVu7C5G2SH6j0966uvKvjF4UjXTf+Ep0tGhvLTC3YhJQ3EB4ZSR6DNAHmtxcTTWutfDnwxYvq9zZ6g1zptzBINlsmd2S2eoPGK7z4V+GrDxdp3/AAkfi2aTWNZjkeCaG75S1dTgqF6VFqOnaN4H1fwl4r8NQLb6VcYtLkr3STkMT3Oa1yf+EE+LyuvyaN4m7j7sdyP/AIr+dAEGmzP8KfGi6Rds3/CMaxKTZyt920lP/LMnsD2r1gEEZHIrI8T+HLHxVoFxpepJujmX5WHVG7MPcGuR+HviO70+8ufBnimTGpaaube4c4F1B2Ye/rQB3Gr6taaHpNxqOoSrFb26F3Yn0rzjwj4dk8e6vN4z8X22+3mUxabp865WKH++R6tUV403xY8bHT4WZfCmjyhp5FPF5OOQv+6K9Mvru10PRprmbbDbWsRY9gABQB83/GK0i8A3H9keGdRnXT71PtF5pbPmKJQeMH+HJ4xUfwY8b/8ACXfE61/4Sa4jjaztmi0y3AwiZPQe4HArqbC40iTwx4i8Y+M1tZ7/AFhGks7G4ILCAcRgA88nmsK/+Gei+Hfhlo2prayR+KNQlQW8schXY8jZHA7KD+lAHrHiT4mLZ6u2heE9Nl1/WV/1kUBxHB/vt0FU1f4uXCfaAmg2vf7M+5m+m4cV0vgjwfZ+D/D8NrAoe6cb7q4bl5ZDyST9a6SgDzW0+J2paFqMVh8R9EbRxK22LUIm327HsCR0/Gs74y6lZ+HpPD3jO3uIjc2FyB5SuN1zC/3gPUd69O1bSLLXNMmsNTt0uLeZSrI4zXjPhXwJpVx4j8ReF/EMTX15ZQYsJp3LbYGB24HQEHvQBzNlFqmqeOI4tQ+3eGvC/iqczRQowBmcDOCR93cDn3r1DxR8MrSy0O0vPBFulhq2j/vbZoxgzDqyMe+6uf0nTpvF3wkutEkJGueG7gpA/wDEskZyh/EcV6J4A8TDxV4PtL5xtuVXyrmPuki8MPzFADvA/i238YeHY72MeVcxsYrq3b70Mq/eBFdHXlni/TLjwB4qHjfQYnexuCI9Xs0HBXtKB6jPNb3jD4gW2k+Fbe60Qrf32qAJp0MZz5jN0P0FAGX8QNbvNe1qLwJ4alZLq6XdqFyn/LrD359SKb4m+GnhbSvB63UDNo8+kW5ePUbY7ZBtGcsf4sn1rc+Hvgz/AIRfSXuNQl+1azft597ct1LnnaPYdBXOfE69HiDxBpvg2OcRWjH7XqspbAjgU5wT2zQB83T/ABO8SWFzfSNPm/1JcXF03LvEVwF9uDmvqLwr4n8LeFvhHpeoJfxppyQKA2cs8h6qB1J3ZrjL3wf4T+IHxbWxtbG2k0rTbISXMttx5sjcKNw9qd8N/AGkX3jPU7q2jd/D+j3Ji0+1lYshl/ifB9DQB0kHiz4heKT53hrw9BpVg3+quNUb5nHrsHOKdPrXxR8Pjz9R0bT9ctl5kGnsUkA9lbrXpYAVQFAAHQCloA53wj420nxlZPJpsjR3EJ23FpKNssDejCuirzD4j6T/AMIvqln470JPIntpVj1FEGFnhJwSfcV6VaXKXlnDcwnMcyB1PqCM0AJd2kF9Zy2t3GssMylHRhkMD2ry/wAOXE3wy8YDwpqUjNoOoOX0u5kPETHkwk/yr1asLxh4UsvGHh6bTb3KMfmhmX70TjlWH0NAG7RXA/DnxReytceFvFBCa5pfyFj/AMvMfaQetd9QAUUUUAFFFFABRRRQAUUUUAFFFFABRRRQAUjZKnHXHFLRQB5v8HyEj8T278XEeszGUHqc4wfyr0ivLPEa3fw68fP4rtYHn0HVFWPU441yYHH3ZQPTnmvRtK1iw1uwjvNKuormCQZDRsDQBdrnvH00MHw/1t7kgJ9jkHPclTgVvSyxwxtJM6xooyWY4Arxzx74juPiHcv4Y8GRHULS0YTajNG2EcLyIlbuSRQBlWvw78aeIvhNptqfEcMdmdPjdLN7bLIyrkDdnr71n6Z4Y8bfEf4dxzSeJ4jNYuQtq9viSKaI4A3Z4OR1r1nwb8QNI19RpjRPpWp267JNOuRtdcenqPpWJ4b/AOKT+MOsaEfks9ZT7dajsH6OB7nrQBz3giL4g+LfD63cHjSG3lhcwz272mWjdeCDzXI/ELw34z1XxZY6RZ+IE1fWoI3lZ7eDyjbx7SPmbPfpiux8W6zcfCjx7d3Wm2xuLfxJGfJt1P3bocA49DkV3Pw78HyeHtNlv9Xb7RrmpHzr2c88n+AewoA8z+GOieL77wqtvofi23042jmO4sns/nifPO7nnPrUXjDSPHOq+IbLwPL4uivnv1Mt0qW20QxDoW57ntXX+PNPu/Amv/8ACfeHYjJBjZq9kvAlT/noB6ip/hPbf2tHqXj3U/8Aj61dz5OT/qrdfur7d80AeFfEzwD4tufiHp2gpcDWL0Wi+SYYxGI0H48Yrs4vC/jPwtd+E5fHWsrfWa6iixwZLeQSMAEn3rpdF8TWdlqXij4ma3HNJZrMLGy8tNxESnBOPr3rmfEXxji+KoTwr4Y8P3D3U0qvDcySD90ynIfHbFAH0gOnFFcB4A+IMOpxf2D4iZbHxDY/ubiCRseYRxuU989a7+gArx7XbHVtY+N15D4W1JdNuoNMTz52j3gZY4BFd54w8daR4O05pb+dXumGILWM5klbsAK828LeIL7wRrN1rHj3SZ4P7ecSnUE+ZLcfwxsByAKAMa58PeNfCXxOgtv+EphifxIDuuhbfI0qDoVzwcE80h8PeNfAvj2HTk8Uw21v4hdpPtQtv3fnj+HbngmvRvidaQ+IfAKa5okqXE+lypf2ssRznb1GR/sk07xPaQfEH4VQ6lZMFuUhW9tJehSVBnr9RigDA8R6F440nw9d3eteO7QWSRnzA9l94enXvXknhTw54s0bXdEvNR1L+yba+R1024uId6Q5PC7c/ITXpXhnUNR+NOoWLajA0Hh/R9v2hc/8fd0ByD/sjg/jXqvijwtYeKfDc2kXiBUZf3TqMGJh91h6YoA4HV9F+IGi6Lc6ne+PLZLe2iMjH7H1AGfWvOm8I+NL/wCG+veNdR11FbU7N3mgeD55IQDgZz8uR2rebVNf8Sanp/wt8QKRc2txuvbkHi4tkwU/76GM12nxXczaTo/grS/3cmsXCQEJ/BAuNx+mOKAPEvhL8NviPKI9X0K//sOyuFDebKx/fJ/uj+te3/A4GLwXd207brqHUbhZzjBLbzzj3rG8UfHjw38Prx/DsGl3c81goi8tQEUYHGCe1c74Q8dahomrzeNNT0h7Dwv4gm2uoOfIkHCvj0NAH0LRVXT9Ss9Vs0u9OuY7mCQZV42BBqae4htYWmuJUijUZZ3bAH40Acn8V5YovhdrnnYO+2ZVHqx6CtfwfHJF4K0eOf8A1i2UQbP+6K8v8a+IL34iX403wjYyajpGkyC4vZVO1bl1OREhPWu98HePtG8Tx/ZIN1jqEA2y6fcDbJHj27j3FAHWUUUUAcH8RvCd5fJB4k8MkRa/pX7yEj/lug6xt65rc8F+LLXxf4fiv7ceXMvyXEDfehkHVT+NdBXlfimzufhz4tHjDRomfR7xgmsWqDhM9JgPbvQB6pRVexvrfUrGG8spVlgmQOjqcgg1YoAKKKKACiiigAooooAKKKKACiiigAooooAZNDHcQtFOiyRsMMrDII+lefaj8HNJe+e98OalqHh+dzllsZsRsfUocivRKKAPMJPg0+pKV8Q+L9a1NMcRNKI0P1CjkV59oUuo+C9WubqxhIvNAk+z6nZRjC3FoTlJQP7wycn2r6Qry/4kWg8M+KNO8aW8O63bFlqq44eFuAT9CTQBtax4W8OfEvQ7bVbSTyp3QSWupWh2yRntz3+hryrx3f8Ai/wVfaJqHiWD+0E0e6UxaxAvMkJOGSQdiRXX6bOPhX4sSzMn/FI61JvtZCcraStztz2U0zWIW+MviabSYZHXwrpjFZ5kOPtUw7A+gNAGRF4UvPi5o9/4w1KRoZnTdocCt/x77eQx9ya9M+HXiZvE/hC3uLr5b+3zBeRnqkq8HNeP/DvQvE/hy31MeEbwy3mk3TQ3mj3LExzLnKlCfunFS6B8S9N8MfEy9lvoZtMg1aIteWU64NtcqMkj1BAPI70Adx8TrqbxLrWl+AtMc7r5xPqDKf8AV26HJB+vSuI8XalqHwWs9S0OyDXGjavE39mjOWt5TgMn0weKh8G+M9R1vXNW1Xwtpral4g1aUr50gxDYwDhQW7+uKhm+G7+Lfi1/ZXiHVLjU7q0s/tF/c7iEjdshI0XsBgmgDb8M+CvEvjTwfY6NqgfQPDMMQBt1H+kXZ67mJ6DNeb+K9M1b4C3tzb6EoZ9TBEOqOuWjj/uL7+pr2nwt48PhK3v/AA347n8m90eLfBcP0u4B90j1PbFczqUA1nw9qvj3xzZrOLqE2+i6ZMM7FbhTj+8TzQB5B8KYH8cfEOz0nWpppEnMs01wshEpbbwd3UYr6LHwj1KBfIs/HmuxWnTymdGOP94jNZXwq+CVt4SvtP8AEs11IL97cmS2wNiFuw+gNex0AeA+Ovh3p/go2GqSTXd9ZXLG01C7upS8sRk4SUN/DtYiuz8A6612s/gjxiI7i+tY/wB08oyt5B2cZ6nHWu68QaLbeIfD95pV6geG6iZDkdCRwfqDzXjWm6Pf694fa0hl+z+MfB0xS3mzgzxj7oPqGHFAHQ6p4B1rwfLcX3w/m8/T5wftOhXLZjcHr5Z6qfavOfCPijW9Xs5vhnp1vNp1w92/myTcNBbE5ZfrzgV6TP8AF+CTwPFLaRbvEdxJ9jTTv41uOhyPQdc1574q+GLeH9Q8Oa5qd/cJf6hcGLUL2KQgxTOco30B4xQB2ugaWvwo+JMWkwsy+HtdiUQbjxHcqPm/76GK9S1jVbfRNGutSvHCQW0Rkck9hXh/ju98Q6b4bOk+OITOtuwm03XrZMgSLyocDoe2azvFXxb0vxh4Y8O6ZLO6LdYl1OOEFm+Q/wCrAHUscUAalh4K1nXdDufiMsr2/iWW4N5ZhjgfZx92I+xUfrWNpHjrxD4++Iz6n4a0Xzby1tRaxvP/AKm0c8O5Pf2FbXi6bxLrvge71PWRJ4d8O20AW102I4mueMIGI6DpxUOg+FdQ+EOg6R4q09JJreaFf7btQScKeRIB6jNAEPjb4D3NxpreJb7Up9Z1qEm4vIiAq3AH8C46CvEvEnxJ17X9QtxeOILOxYC30+IbYo9vQEd+nOa+nfFniqXx1dWvhLwTdbkvo1l1C9jPEFuewP8AeNcVefCbw9448fT6LpFuthpuh2ohnu4FG6acjjPrjrQBpfDf4XnVvAun61Z+INU0i/ulLv8AZZB5Zyeuwgiutj+DcV7Mr+KPE2sa1Gpz5EswSNvZgoGa7bwxoUXhnw1ZaPbyGVLSIRh2GC2O9atAFTTNKsdGsY7PS7WO1t4xhY41wBXOeL/h3pfirbdIX07VYeYNQtflkU+/qPY111FAHl9l4513wRcx6b8SIPMtc7IdagU+W/p5g/hNelWl3b39rHc2cyTwSKGSRGyGHrmkvbG21G0ktb6CO4gkG145FBBH0rzS58F6/wCALmTUPh3K11p7Nvm0S4clffyyfu/SgD1Korq1hvbSW2uo1lhlUo6MMhge1cz4Q+IOleLA1uhay1OHiexuBtkQ+wPUe4rq6APKfD15N8MfFw8LatIx0HUZC2lXLniJzyYif5V6t1rC8YeFrPxd4dn029XDH54ZR96KQcqwPsa534deKrqaS48KeJm2a7pfB3cfaIv4ZB6+9AHf0UUUAFFFFABRRRQAUUUUAFFFFABRRRQAUUU2SWOJd0rqg9WOKAHVQ1vSbfXdEutNvEDw3MZRge2R1q1FcwTnEM0cn+6wNc14+8YJ4S0MNAn2jUrtvJsrZfvSSHp+AoA8eNxrOvaK3whntvO1G0n8ma9lXKx2y/dkB9cYrufhVdnwncTfD7WI44LyyJktJVGBdxE53e59a5qTw1qXwyvNK8c6lcyXl7czbNcbOQFkPUeynirPxF11PGurWVr8OLd9R1/T5BKmownEMA6lWfoc+lAGh4p1y0+GfxZXWrwsNO1u1KTLGMkzJ93AHc5rzj4h23iH4teLbCwi0SLTWaJ7iNZE/wBIEQHDSHsCcAD3rT/sCHxJ8OdV8UapqE9x4t0mQTTrcnH2Zozkoq9ADjrXoXwbtZ9as7zxxqoU3usNtjUHIihU4CigDh/hj8QbrwL4PWDXtEC6XC7xNfWcf+rkUkYlA5B969A+D0Iu9C1HxXdkG51q6eYuTysQ4RT9OfzrhPihYX3hvxm+k6YyLp3jKWKOVG6ROGAY49xmq3ivw/qHh/Xh4U+FV9dSS3NsX1GwD5ihT1DH7rNzxQBo+M9MvfjH4jmufDsEP2Dw6SIbqRM/a5gclAf7vFXdB1iX4seMNKtJ7N7Oy8NqJL63cYH2oHAXHoMZq5pHxK8PeGvhvcWFnayaZq2nxeV/Zlwu2RpTxkf3gT3ryLX/ABJd/DWe1uvDd7I2t6hA76tNjdEZHYtj/eXOPwoA+v6K4X4O+LJ/GPw1sNSv5vOvFLRXD+rA/wCBFdo17ao+xrmIN6FxmgCavKPiPK3gDxhYePbdGNlIPseqRp/Ep+42O5Br1UyIIy5YbAMls8Yrx/VLOT40eI7mzEjx+FdLLJvU4+13HqPVRQBy1vpWs2Gup8XpdMi+zzzFpbER/PFbngSj/a9favWvF9tZeOPhldSWEqSxzW/2m2lB4DqNyn8DXI+GPH+meHPB194f8Zyg3ukSGz+z7dz3KfwbV75FcHp9nrMWrWWl+JGvtA8E6xcM9rb7vmUk8Rueqg+lAHRP8XZ9d+HwsdI0j+0LqG126lcXSf6PARwdxPUnGcD1rzTwh4b8ReCte0LxEum2l02sIz28FwmBnOQgz91iOldnL4dnsfiZP8MtJZItCv5YtRfDZYR/xKfXJUV7B8Q/Cia34Hkt7LEN1p6iezccbHTkfyoA4HUfGUPxN8VeH/DC2txYSQXH2nU7S5TayGPkD3BP6V3nxH8UxeHtAXT7S2W91PU/9Gs7LGfMJ4yR/dFeQeHrTT/GfhrXfiF4rvG069hZYree2fDxNGoHHqWParHg3WtW0LxFa+KPijZXUsF3CI7DUWXK2ydi6j7pPHNADdNGp/Aazu7S9tVvDrEANpcwpyLk4Hlk+nORXsHw38MP4Y8IQQ3Z3390TcXch6tI/J/LOK8q+I2uaP451y7+03bSaFodsZIWtm+a5umHyhPXHWsP4O/GLxBqvxGsNE1+9LWDwvAiuoB3BTtJ9+AKAPp2imSTRQrmWRUHqzYpIriGf/UzRyf7rA0ASUUUUAFFFFAHI+L/AId6X4pdb1C+navDzBqNsdsiH3Pce1c5a+Odb8C3cem/EeAyWTEJDrkK5jb08z+6a9RqC9sbXUbOS1voI54JBteORcgigBbS7t7+1jubOZJ4JF3JJG2VYexriviL4SudQW38R+HMQ6/pfzxOvHnp3jb1FZN34L8QeA7iTUvh5Obqwzum0W4b5SO/lnsfaul8I/ELSPFcTQhmsdSh4uLC5+SSM9+D1HvQBb8FeLLXxj4di1C2+SVT5dxA33oZB1Uiuhr5Z+Kfj9/BPxAvJ/h9cNCL6LF66qDC0mfvL2z1zXvXwy8Tt4t+Hel6tNJvnki2TN6uvDH8xQB1lFQG9tQ+w3MIb+7vGanBBGQcigAooooAKKKKACiiigAoooJwMmgDjPHfjiXw+9rpGhW32/X9QOLa2zwg7u57AVjWnwqutZAvPHev3uoXUgy1tBKYoI/9kAdfrR8OYF13xr4n8U3g3zrdmxtiefLjT09Mk16ZQB5zcfBnR4l3+H9R1LR7leUkguGIz7qetchDdXXhD4jLc/FAzahLDbFNKvYl3RyYzkbO0h4r3WuL+K2hx6z4BvZANtzYr9qt5B1Rk54/KgDlp9I8U/FyCQa0JPDvhqQHy7Qf8fFwOxf+6Par3waMeiWOo+ELqGOG/wBHuGUsFAM8ROUc+vFdB4a+IGiaj4V0y9vtUtIJ7m2SR43lAKkj0riPHvibRfDnjLSvGuk6lbzqpFrqUMMgLPEejY9jQBz3xusIbbxjCmhi5LXsXm63b2vR7dT94++M11vwV1m0jn1fw5ZSiSzgcXdgc9YH6AfQ8VX+G2taLqMmreKvEOpWaXesyFY4JZBmOAcKuPevN/E2oQfCn4lx674Yv4bzSLuOSPyYXDGLcCdn03YIoA1vijqVv4k8ZarNI0s0mlBLLSIbc/O90SGLD2HrXo3wNtLV/CEuqSs82tXM7LqMsw/eCRf4D7D+tcL8EdO0eDf4s8WavanULh3a2t5ZR+5DHJYg9zVvxF41sfhv441HUdGu4bzTNctyRDA4byrocZx2ByPyoApfGHTdQ+IXi+5tPCOmi6l0GEedNEQrtKx4Xd/sjnFefeCodR8JazPp/wARPD11Lod+cXTTwlhE3/PQN616V4c+Knhz4Yx2mlaqsl5damv2y/1CBg4WR+x7nFb3jzxvofjrRtJ0Xw3qUN2uqX0cU6ofmWPqwI7ZFAHO/DnwNq+qxX8fhnVL7RPB09wzwEn9/cDoSv8AdHvXoafBXwt5f7831xN/z3kunL59c5ru7Gyg07T4LO0jEcMCBEVRgAAVPQB414s8BeKfDWg3Z8Ja3fahproRc6fcSZlEf8Xlv64zxS6R43aXw9p/h34UaLJLOYgJbi5XbFaHuXP8Te1eyEZGDXlWh3dl4I+LWvaXPPHaabfwpexB2CqshJDfnigDmtX8E3Hw+8U6N421i6OtSTXHk6rLMgKxb/uuo7AHj8a9T8d2mj6r4Bv21cr9jW3MyyjqhAyrL71D4g1vwn4g8P3ml3msWTRXMRQ/vV4PY/nXi1v4xPiCz0r4d31/HGtldH+0L1pMJLbxnKgN3yMUAc54e1GXSryDxFqrXS+IbK5jmL3HHn2DAICPXGCfxr3z4p+Jf7O+Hbmxk/0jVNttblT/AH+p/AZrm/ilpXhXxX4SVdJ1iwg1OwiItXWVRuXH3D7GvGrDxHf/ABDfwz4Vvb1LCDSUZLu5lkAyAcbgfXHFAHQeFNN0uT4kWGmK9x/wijyqibv9Tc3kaAMfoWB+te8fEnW7Tw74DvJJreO4eRPItrZlBEkjcKuK5XxZZeEpvhuuj6Bqthb3Gmqs1iyyrkSpyD9SR+tcQPiZZeLr6z1rWdotPDNl9pltC4BuLoDoM9cYz+NAHmWufDPx74duIpIdIvDDEyzo0B3r5mOSAP8ACuxK2Xi06DcaDok1l49jnVpo0Xy41CEZkkHpxn3r1zwp8ffBniWJVmuzpd0ePJuuOfZuhp3wlgi1m917xfKqtcX968MbY+7Gh2jHscZoAfafCRtTUXXjfXr/AFa7cZeJJTHCvsFH86fc/BvTbdfN8M6rqWjXS8o8U5ZM+6nqK9HooA868LeMdY0vxIPCXjxEW+Zc2WoR8R3ij+Te1ei1wXxg0tbnwPJqsQ23mjut5BIPvAqeRn3Fa+l+OtBuNHs57rVrSKaWBHdGlAKkqDigDpqKw/8AhNPDf/Qasv8Av8KP+E08N/8AQasv+/woA3KKw/8AhNPDf/Qasv8Av8KP+E08N/8AQasv+/woA3K8r+Nngy41bw2dQ8LaQ02vo4Vbi3cRyKnc54z9K7j/AITTw3/0GrL/AL/CuF179oDwv4e8YjRrtZJbby1Y30DB0Untgc0AeHeCFuPDV1c6J8TdAum0K8yXlmhJMEn95W7e9ej/AA28A69qmjT29lqt9onhKS4eS1iDf6ROhPXP8INb/jfxRovxD/4R7QtA1CG9t76+VrryzyI1GSp9K9dt4I7W2jggUJHEoRVA4AHAoA4EfBXwr5fz/bnn/wCfhrp9+fXOayr/AEXxX8NVOp+HtQudf0aLm4067bdKid2Ru+PSvV6RlDKVYAgjBB70AZvh7X7HxNodvqulS+ZbzrkeqnuD7g1p15n4DQeHfiX4l8MQfLZMVvbaPsm/72Pxr0ygAooooAKKKKACgjIIPeiigDzT4YzDSPFHinw1dHZcx3zXkSn+KKToR69DXpdcL478GXuoajaeJfCsy22v6eCF3fcuY+8bVS074wafbEWfjOyutC1BOHWWItG3uGHGKAPR64/4pa1Fo3w91Iucy3UZtoUHVnfgAfnVG++MvhK3j22F1Lqdw3EcFpEzlz6e1cQRe/Enx6tl41ebQRFbefpenjhiTkeYW6Fhjp2oA7bwz8KvDVv4U0u31bRba4vIbWOOWRgcswHWuN+IPgXw3qviTSvBnh/Sbe1ubpvPvbiIHdDAv8s9K2R4t8S/DJfs3jmN9W0dBiLWIF+ZR2Ei+vvVv4SQnXjqXji+Kvc6vMRAM5MUCnCr7dM0AYHwz8HeGTFqXhvxFotrJqeiylWlcEGWI8q/X0rzrxno2mfED4iReGfAulwWllaLI8t1Cv8ArCoPP+7nA/Gut+NupJZeOLd9Au5re4eD7PrM1uuRFAxwC2Oh610nwV8P2Y1LWNdsE/0IEWFix/iiTq2e+480Acn8E4vCmuWzeG/E+hWo1i1LCOV1I+0KpwfxFO8W/D3SvG/jW80Xwpp8NhaaHbGWa4hX/W3B+7Hz2GP1ql8RtOh8KeNNXCyvY3U+3UNGuIhz53Roh7E9q9K+Bc1pJ4KmDOx1drl31JZRiQSn1HpjFAHnmk/BvRPifDYavHcDSEtY/s2oWVtH83nLweT0z9K6Lxb8OdA+HGn6Jrfhyw8oadfxveTFizMh4LNnjj2xWX8UNY1b4T+Kr+98LzwxQ+II/MMbJv8ALnU8kL7iuB8J614n+JmrTnxn4kntvD1oN99ufYhH9wD1NAH13bXEd3axXEDh4pUDow6EEZFS14B8P/iVceH4buztbe813wpZzmO31COImSBfQjqQK9Hi+MXgmWDzf7YWPj7kkbK35YoA7ivJrTSdO8efGDW7m+tY73TNNtktBvGVaXJLD8M1B4q+K2oavo12vgXTro2qIftGrTQkJCn8RVTyTiotF8Iax4d0Wz8QfDXWf7SimiEl1ZXJyl2x5Zgf4WoA6zWfAfgPRdGutSvNBs0htojIxIPb8a8WsvBVto76X4+1TS4pNL1O7Mdzp7L8lvC5xG47+ldhrfjhviXq+keCo7abTJpJ/M1iCf5SiJzsHrk46V6X43j0ey+HmoW+rbIrBbUxgfhhQPegDgfiXZeA/BfhP7XbeH7Ke/u0Is4gCdxxnd16Ac14po+gSeB7vw94k8Q6XHqGm61GzzwOnEa54x745rV0WG48SNb6Zq9zPPr11cR2MFtMpBtrNQG3j3YHH4V7t8V/DC3Xw4RrCFTLoxS4hQLnIX7y49xmgDH8W6T4B0v4etrulaHZXD3cYSxCAnzJH4UdfU/pXn9p8K7Tw9eQaDr0cWfE1jshvHTP2W7IzgfmMCofCt9pg+JOl2rXc0nhSKVbi2VxmKC6kQN5ZPTAJ49K90+JnhtfEngu4WCRYby0xc2k+7GyReRz2zigDifCH7NvhbQVWfXGk1m6AyPMOyNT6gDn8ya2fg+6aQmt+FJcJc6bfSOE9Y3O5SPbmvAfEHxy8favcx2+n6g1tHJtjUWsW07+hGe5zXTpJP4Gl0XUYfELX3jq7lVLizZvMWZHI/dv6HnrQB9R0V51p3xj0dMW3iq2utC1Bf8AWRXER2/UMOMVNf8Axl8Lwr5ekyz6tdtxHBaQsxc+megoAl+L+pJafD66sVObnVCLOBB1ZmOOB7VJpfwu8Kro9kmoaHay3KW6LK7A5ZgoBPWsrw94a1zxX4oh8V+N4hax2o/4l2lA58nP8b+rfyr0ugDk/wDhV/gv/oXrT8j/AI0f8Kv8F/8AQvWn5H/GusooA5P/AIVf4L/6F60/I/40f8Kv8F/9C9afkf8AGusooA5P/hV/gv8A6F60/I/41wHiP9m7Rdf8Zf2jHdnTtM8tQbO2jwSw/wBo5/lXtdeb/GjxveeEfCJbw/qFvDq7yDZC6eY7p3wv9aAOe8S+CNB+GN14c1rw/ZC2tra+WO8k3FiVcbd7E/55r2eKRZoUkjIZHAZSO4NfInhDUdf+JF1dXnj/AMS3Fv4bsxm43vtRm7Io9a9D+HnxTvNI0mSK8tLzV/DVrO0Frq0URLog6B16nA70Ae9UE4HNcOvxh8ENb+b/AGyq8Z8tkYP+WKwtR8aa58QFfSPANlPbWcw2T6xcxlFRT12A8k0AWfBbrr/xZ8Ta/bHfZwKljFIOjsv3vyNemVjeFPDNl4R8PW+k6cDsiGXdvvSOeWY+5NbNABRRRQAUUUUAFFFFABUF1ZWt9EY7y3inQ9VkQMP1qeigClZaNpmnMTYWFtbE9TFEFz+Vc58Q/B7+JdLiu9Mk+z6zpzedZTrwQw/hPseldhVXVNRg0nS7m/u3CQ28bSOx7ADNAHi1/wCMLn4ow6X4MWCSzv5Jf+J3CQR5KIfmH0JqTxno0vwquLa9+Hd40NxqEohTQmy8c7HjKj+HHrWHanXNHhm+MeAovZy89g2FzaE/Lj36Gu4+HFlN421ZviFrYB83dHpdsTkW8WcZ/wB40AcBBr2m6d8Nde0zVYZv+Ez1d/JuoLuPEkjyHAK+qj2r0P4KXcum6Hc+DtTRYtR0R9rKP40bkNWX428OWvxH+LVto2TBFo9qZ7i6hwJFkb7nPtiuE8ban4t+E3jKz1jUJ4dQDwvai6UgPcR4yodfUHBzQBufFjULjX/HkN7ptolxY+EJYpbyQrncxYErn2HJqt4r8WmPxe/ib4UwzXUwtturyRxE2+3sT6sMmnfD3wN4i8deD5H1fURYaRqDvPLHbtmW7c55duwHTFd98Glgg8J33hq4hjW50q6ktpk2gGRf4WPrkH9KAMGL4W2PirwPNr82qya1r15CJ7e/kfiJhyEQfwjPGK8h8UaFP42Wzt/B1rMdRjheTVtNhXakcykqWPbccV6l4g1bUvgtrE+m6UgutK1ss2nxM+Pss5OCP93nNS+E9Ju/hb47spNXuPtMXilM3VxjhLrO7GfQ5oA674JeFp/CvwvsbO/tzBdzM008bjlWJ6H8BXYS+HdGnuPPm0qzklzne0ClvzxWlRQBEbaFrdoDEnlMpUpjgj0xXkf9on4MeIZ7W93nwrqJaW1k6i1m6+X7A9q9hryj4qRN458Q6b8P7JsJKfteoTAZMUa/d+hJoAzvDnw6tfGmh3vizxI0tpqupTG5tbqNyklpGPuYP061xy+I9U1XWrFfG81zqXg/SLsoNShhOy5kU/K0nqB61rwa94jvrpPhJ5ix3UD+XcairgZtB0x/tEYFen+I4tL8DfCu7tre3j+zW9sYoYmAIkcjAHuSaAPJLjXw/wAYX+IOl20Uvh2zeLTHuEXhsjl8+24DNex/EHxPD4f8D3N4oE0tynk20fXzHfgD9a8pg+E+uaJ8OPO0K+Dm+tjLqGl3RxE5Izlf7rDj8q4bw34t8VePdW0Dw5aRwPc6KrYe4k+XeDgSH1IHagDpPDjaL4W8C694I8dRbL/zFngjgTMsjyKGUpjqQf5Vf8IR+I/HWoQ+EvH2o3Wm2tnArpZf6uW/j7F278dQK073wc3gDx34f8UazfPq817P9mv7m4UEIz8JtHYA8V3vxG8Jy6zYQ61okq22uaVme1nzgMByUY+hoA8s8ceFdC8B65d21zF9i0XUbcyafPEmWs7pR/D7sK5z4N/C/wAQJ8UNP1fxFp062KxPdLPNzvJB2E++cGukkn1f482E95EBY2+iRB4YQQxluxg8/wCzxj8a9i+HviZfFXg20vWUR3EY8i4i/uSJ8rD9KAN+70+z1CPy761huE/uyoGH61HZaRp2m5/s+xt7bPXyogufyq5RQAUUUUAFFFFABTJpo7eF5Z3WONBlnY4Cj1JrnvF3jvRvBtqralPvupeILOH5pZm7ALXHxeG/E/xJkW68ZPJo+iE7o9JhbEko7eYf6UAWNS+Iep+Jr+TR/hraC7ZTsn1WUf6PB67T/Ea1fCvwz0/RLl9U1mRtZ1yYfvb66+YjP8Kg8KPpXV6XpNjomnx2WlWsdrbxjCxxrgCuX+IvjCXQLCDTNGX7Rrupt5NnAvJHq59hQB4H8W/Ac2reOLnS/h9FNdw2kRmu7KAYit5Ce3bcfzr334T+GG8K/DPStMuIvLn8vzZkYchn+Yg/TOKueA/B8PhDQfIZvPvrlvOvLlvvSyHrk109AGa3hzRXuPtD6VZtNnPmGBd2fritFUVFCooUDoAKWigAooooAKKKKACiiigAooooAKKRmVFLOQqjkknpXE6v8WvC+mXb2dvcS6neIcGCxiaUg/UDH60AdvXmXxOu38Qa1pngixl2/a2+0aiwP+rgXnn0zU6fGrw/Erf2vZ6lpRwdn2u1ZQx9MgYH415tpk+q+K9cuhp0hGseJHJuLhTkWNgpwoB7FueKAOxS3T4oeKl0+1QDwdoThDtGEvJV4wPVRSSXP/CmfFEgn3f8IjqbM6EDIs5uu32BrrrjVfC/wr8K29iZFgjhTbDbRjdLM3sBySfWvI/iFP4v+IP9k6fqUP8AY2n6teLHbacRmZ485Mr+mB2oAk8B+MNZ1aXVZPB+nG91rWbppJ72YEQWkecLz3OOcUyz+GqeM/ifc2euajNq39mwFr+6c/K8zDAjUdABkn8K2NE8V/8ACpvDmq+FNYgjS/skP9myxpt+3BuF/wCBZr0T4Z+G5fD/AISibUBnU75jdXjnqZG5I/CgDyTwJ4d8ReGrvVbHwnqBTVtImIuNLuW/dXcR5Vl9DjjPrTrP4mWOgfFqXVtUtp9KbULTydRspUOUmjyVYHuDnANdz8RYZPCHizS/Hlgn7pGFnqaqPvQucBz/ALtcJ8QtPuvjBJqOraFDHHpWhQk292EG+7lHLAH+6AKAOt0LwM/xHjvvE/jeJg1/GY9OtT/y6Rfwt7MeDWRdzzSeGdU8DeMblLbVdHT7TpWoSttE6JyjAnuOhqx4U+Imu+FPDun3PiyE6n4enhUw6vbLloOPuyr1/EV5l8RNa1P413k194Wg8230nKfY8ATMmf8AWD1B9OvtQB7N8NPjRpPi+aw0FhN/bAt/37bP3ZZeDhs85xmvVK+Jfg3eJ4S+I1jq+tsbWyj82KZmU5VtvQjrX0m3xo0hm3Wmjazc23/PzHZtsx6880Ad1rGqW+i6PdaleuEgtomkcn0AzXjGl+ILnQdAuvEs0BuPFHiyfbp1r1ZY+ifRQOaX4g/EHRvGsFjpGnXrLpisbrVC6sjhI/mEW04JLEAcV0fw80GW+un8b+J4lt5Hj2afbScCztx0+hIoApS/CKW28JxalaTk+L4JDe/bc8ySHrGf9ntXI+MvilZeJF8N6XqUcsMsM/2jU7NELOZIzgRge5GRXe678Sb7WryXSPhzai9kjBFzqsnFtajuc/xH6V5T4V8P6zpFzN8TpCusql8yXCvECzwg4aVfQgjP0oA6jxvc+J9d8Jzat4mZ9F0p8RWOjwN++uWPC7z29cVg658I7TwVovhrV5JJoGyItRuLdiGidzkSD6HjFd9aanD8VPidavZnzvD2gxLOHx8s1w46f8BGPpmvSvEGi23iHQLvSrxQ0VzEUPt6GgDxbxpfeIdJ8G3Wh+M0bUtOliD2Gu2y5KMOU8wDp25qWw8bX/xS8OaN4V0GVopprdf7Zu0/5YRjgqD6tils/Ht5pfgm68E39sL7xPbznTra2kXPnR9EkI/uhcGub8NeFPF3w18e3On+H7uC4u57Vbs2kq7Uu/76KexFAHea94Yb4WXtr4n8IWrHTYUWDVLNOd0Q/wCWgH94VhP8RvD3w68fXN/HercaFr1t9rEVrh2hmA7rnjNSeMfjxaHQP7ENnNpmuXgNtcR3SfLZk8bm9QfavnfXvA3iDQ9Vjt9TtGX7U3+jzrzHNnptYcc5oA+7dA1u28RaDaatYhhBdRiRA4wQD61o14h8Nvipo2ifD3TdLnivLvU7ZCklrawNIy4OOoGP1rrrT4y+HGnWLV4r7Rmc4X7dbMqn8QMD8aAPQaKhtLu3vrVLizmSeGQZV42yCKwvFnjnR/CFqG1CYyXUnENpCN0sregAoA6CaaK3haWeRY40GWZzgAfWvNdU+IWp+J9Sk0X4aWwunU7Z9WlBEEHrtP8AEar2/hzxR8SZFvfGbyaNoucxaRC+JJB/01Yfyr0nStJsNE0+Oy0q1itbeMYWOJcAUAcv4T+G9joN0dU1WZ9X1qTmS9ueSp9FH8IrtKKZNNHbwvNM4SONSzMxwAB3oAzPE3iKy8LaBc6pqMgWOFflXu7dlHqSa4/4eeG7u+1Cbxv4pjP9rX64t4W5FrB/Co9D61m6fBL8V/Gn9q3isPC+kS4soj0u5h/y0PqAelesABVAAwBwBQAUUUUAFFFFABRRRQAUUUUAFFFFABRRSMcKSOwoA8w8W3uo+OfGw8FaLcSWmm2iCXV7qI4Yg/diB967nQvC2jeHLFLTSLCGBFHJC5Zj6k9Sa474QqJj4nvpObibWJQ5PUAYAFekUAVrvT7O+t2hvLWKaNxhldAQRXjvizQbz4U6i2veDHWDTNQIgu4JF3JaseFkXvjJ6dK9rrnPiDaQ3nw91qK5AKC0kYZ7EDINAGP4S+HFnp1wuta9dtrutSjcbycfKmeyL0ArM0Yf8JZ8atQ1T79joEX2SD0MrfeI+nSub0/4r63oPwt065uPDF5NGunx4vvMUK7FcA+vWsnw7471v4efDxnu/Cd4bu+dpjduwAlmkOV469xxQBseP9IvPib4/ez0GRIv+EZiMvn7Qd9x1VM+nHNei+APGA8VaKVu4/s2q2Z8m+tTwY3HXj0Nec+Add8R+FdBaOXwPqV1e3cjXFzc71BkdufyrlvHPjjXfDni628RaP4butH1C8RobiCUhlulCkhsDnI65oA9J+JOq3fizUB8PvDLKbi6XdqNzjK20Pcf7xp/whlWw0bUPA+pKq32jyNGy7cedC33X/Hn8q5D4Z+KtV0vw+2oW3g+/wBVvNRczXOoLIv71s9PYDpioPFPi3XdI8ZWXjhPB1/YLBGbfUN7jbNGfu9OhBPWgDW0bwumrQeKfhfqV7PZxQ3H2qzkixuaBznv2zxXJX3wh1b4O3C+LNC8QxzrbsF+zSxENNk42cHnNYXxG+KHiHT/AIm2PiLTdPfSLn7GqrFPhxMh9cdRXWHx9rvxAufC1p4k8PSaXbtqUbGds7LggZGAR6/WgDv/AAF8NYMnxR4vgju9cvz55RlGy3B6Ko6Zx3r0pYIlXasSBfQKMU8DCgDoKKAON8afDXRvFtmziFbPU4xugvIVCsrDpn1Hsa4Pw9p2v/Ea8m0bxfq7WltorCC60+1Gxrojo7N/dPtXt1eP6zq134Y+N19caNpc2pvd6ahmtoCASQxweaANz4gtZ+DPhw+k+H7aO1m1BlsbSOMYyz8H9M1JrUtr8O/hCliiCSUW4tYIiP8AWyuMY/M151qnjTW/FvxN0+X/AIRG+kh8OgyS2SupPmsMKW7cDNJqHjTW/HPj6znHhG9n0/w+5Mtojg5uOxJ6celAGn4Dt9T+D2oWmna+6vouuYlWfaB9mumHzI3seMV6/wCIfENj4a0GfVdRlCQQpuHq57AepNeZ+KPFmqeIvDt1p+rfD7UPs7oTvMijyyOjA9sV5X4e8ca94p1fRtK13S7nV7PS1Z4LdCFN0ynAZieGx7UAdfHBrek+K9P+KniOFY4tQuPIlttn/HtbtgRsffoSa7n4rKdOXQ/G2n/OdJuVaYp/HA+A34Y5qhr3i3WvEHh670i8+Huom3uYjHjevy8cEfSuCPxD19PhTrXhHVfDt1Jd6dZvBNcuw/dpj5WYewoA6Xxt+z7a+PNYn8R6f4iljlvgJQJYw6AY4xjBxWR4a8JeIPEl6Ph/rWpJc6LoEoe5u4V+eU9ViBPQetc18KvjV4ytLeDQ49FbX7WBVjTylIkiXpy3OQK9l+B5+0+EL7UJlxdXeoztNu+8CHICn6dKAO30fw5pOgWKWmk2ENvEg4CoMn3JqxfaVY6lbPb39pDcROMMsiAgirdFAHinibTNZ+FuoB/Cd75Ohau4t2jnBdbCVjgOvsfSu28I/DjTtDlGq6lO+s6zMN0l/c8nnso6AVJ8WLeOf4X60ZcZitzIjH+FhyDWz4RnkufBmkTTZ8x7OItnudooA2KKKKACvL/G2p3njbxIngbw5KY7dSH1i8Q/6uP/AJ5g+prb+InjGbQbGHStDT7Tr+pnyrOEc7SeC59hV7wH4Pi8I6CIXfz9QuD5t5ct96WQ8k59KANvSdLtNF0uDT9OiWG3gQIiqO1XKKKACiiigAooooAKKKKACiiigAooooAKKKKAPLNIvF8AfFTUdJ1H91pniGT7VZztwom6OhPqeMV6mDkZHIrH8T+FtM8W6O+navD5kZO5HHDxt2ZT2NcTBpPxJ8Ix/ZtIvLTxDp6cRrekpOo7DcODQB6dXmPxn8Vw2Xh//hHrSYG+1L5ZNvPkw/xuwHbFPa8+KutKYIrDTNDVuGneQyso9VA4z9a2PCvw80/w0LrUNTnfV9VukP2q9u/mLL/dA6BfagDjdcl0vxPJ4P8ABfhy6S6035LmdomyPJj6A/j2rTv1Hjj4tW2mRgPo/hrE04H3Xnx8q/h1rzKOGfQ31/4i+C54NNtjetaWVmY8pdLnHHoSfSvQfg1r2m6ZYS6Lrnmaf4mnle5vIrwbGmZjncueoxQB6brut2XhzQ7nU9SlWK3t0LEnv6Ae5rhPAmg3PifV5/HHimDMl2hj0+0lGRbQHvj+8RVLDfFvxoCdx8KaLN0/hvZ1P6qCK9YRFjQKgCqowAB0oA8nheX4S+NPIl3f8InrMv7o9RZTn+H2UmvStX02217Q7mwuVWS3uoih7jBHBpniHQrLxLoVzpepRiSC4Tacj7p7MPcVwvgTxLc+HtUn8EeLZ9t3ZJ5lldynAuYO3PqMc0Acjp+iaTrXhXXPDfiuG0TX9AjaC3vbjAfyusbBj9MVnaz8Q9D1r4XaGP7RjHiTS5o3jtVBLSPGcEcf3sfrWV8a77TvF+sNfeEopbmKCP7LqV+in7P94bcsOpBqn8E/Af8AYnxRhj8X2RWVoGm04vgxy4ONw9fagD6Q8IeKLLxb4ct9SsZAS64ljz80bj7ykdua3K871j4b3ljrkuu+ANS/si9mO64tWGbe4PqV7H3FRf238VIP3EnhzTLiTp58dwQn1weaAPQr69t9OsZbu9mSGCFS7u5wABXjXg7xppF34w8TeKtTu0tpng22VvN8paBM4cZ9TW8fAPiXxldRS/ETVYxYRsGGlWGVjcjpvJ5P0rK+NHh3SdWg8PeF7Cwgj1G+uVigmjTDW8K/ePHagCPQdUfwp8LdU8WXQzq3iC4aS3Q/eZnOI1/Ac13nw48NN4Y8H28Fz819cE3F3IeryNycn2zivEo9Uv8AT/G9jY+KpJtV8NeE5tgvLaHKLIRhTJj+6M8ivXPF/wARbO08N2h8MTx6jqOsHytPSFt2SeN/HYUAZvjrWbrxZ4gXwH4amZGYB9Vuk6QRf3Qf7xwau+LPhzC/hexHhRFsdT0QB7CRBjOOqH1BrX8A+Dk8JaGRcN9o1O7cz3t033pJD1GfQdhXVUAcv4C8ZQ+MNC810NvqFqxhvbZuGikXg8ehPSuR+JVhD4e8VWPima3WbS7wCw1iJhlXibgMw9s1P430u68G+JF8d+H4maLATV7SMf62P/npj1FXfGvjbwje+Atl7crexazb4trW3+eWYsONo9c0AcqNR8MfDH4teZBcWVjourWQV1iI2wyL04HTIp3wv8baLaeNNX0Oyu1fStQuWuNOuCNqM55dMnvmvnu88CeJtTlu5jYytc2OBdW7A+bEgXIdgfUV9ReG/AHhTxH8I9JsLWH/AEfylmhuYziSOXqXDDvuoA9MorzKGy+JvhWMW1lPY+I7JOI2uSY5wPQkcGnPN8VNeQwLbaboETcPNvMsij1Xtn60AHxS1b+2JbPwPpDedfalIpugnPkwA5Yt6Zr0SxtEsdPt7SEYjgjWNfoBiuc8GeArDwis1z5sl/qt0c3V/cHMkh9PYe1dVQAVkeKPElj4U8P3Gq6nJtihX5VHV27KPcmtSaaO3heWZwkaKWZieAB3ryrTEf4seMl1i4UnwtpMpWzjYfLdzKcGT3APSgDT+Hfh2+vtQn8a+KY8apqA/wBGhb/l0h7KPQ+tei0AAAADAHQUUAFFFFABRRRQAUUUUAFFFFABRRRQAUUUUAFFFFABRRRQAVxnxU16TQ/A1yLQ5vL4i1t1B5LPxxXZ14f8VvFML+OobbHmxaBB9pKDnzLmT5Y1x6gjNAEnh/w/Fqfi7SPCluPN0jwnCsl02PlmuiOh9SKt/FKytfHviay8HaTbxm/QiW71BB81nF6ZHc+lOtLmb4X/AA5gg2fbfFmuSb/LHLSTv1J9l9a7H4f+Df8AhFdJeW/k+06xfN519cnks57fQdKAON0m+1v4OWsOl65ZnUvDSHbHqNrH88A/6aKOv1r1PSdYsNc0+O+0q6jureQZV42yKsXXkfZZPtmzyNp8zzMbcd85r5+v/tg8ZTJ8CxOQN32/bgWQOP4c/wAWfSgD2TxZ440bwfZiTU5908nENrEN0srdgFHNeX+JPBHi34sWf9r6wkeix2qM+n2QXMr5/vt2Bx0qx8Lf7BfXJD4v84eNVY+YNU+9/wBsu2PpXtVAHnHgSXRfFvw7ufD/APZ8VhNbobS+sQu0xvjGfx65rzua7vdN0mKK9Lf2t4FvwGc9ZbNjw302kflXfePNFu/C+vJ488NRM0kQC6paxj/j4i/vY/vCsT4gixvodL8daSyy6bfQ/Y9SKjrDJxuPupP6UAew2N3Hf6fb3cDbo541kUjuCM1PXnHwX1lp/C8+hXUm+60adoMk5LRHmNvxBr0egArwvXPEyDxf4i8Xf63+yoxpOlp/fuH64/PrXqnjrxFH4W8F6jqkhw0cRWIesjcKPzIrx34d6B/bPiGyivmzp3h5TeXjMflkvH5OT32igD0DQrHT/h58LJbnxFseSVDcXu8ZM0r/AMOO5ycV5/4Y+G/iO2k/4T3w/HBaX0ztJBo0yfIsJ/hBP3WIrqbaOX4s+NPtk24eFdFmxAh+7ezD+L3UV6wqhVCqMADAA7UAcZ4R+JOn+ILltL1OJ9I1yHiWxuflJ91J+8K7GaeK3haWeRY40GWdzgAfWvOfiz/whw05H17P9rj/AI8fsf8Ax9b+23HP58V5lI3jMW+l/wDC1V1EeF2Hzm3ILDn5fP284x1oA9H1bx7qHjC7n0H4d2i3iHMVzqk6/wCjwjocf3zXKeG/Cdt8IPHlqdeCX9lqgEcOpSJ/x7TH+HHRQSa9j8MjQ10G3Hhf7N/Z20eX9mxt/TvS+JvDtj4q0C50rU4w8My4B7o3Zh7g0AcD8QoB4U8Xad4xgj3WF5iw1VVHBibo5+nrVj4TXI0q81rwi8m4afP59qc/fgk+YY9hnFVPDc8t/Zap8M/GzeZeRwFLe4k/5eof4WHqRxXD6FrNx4R8b6VNqrN9q0+c6NqBJ5eJ/wDUyH2HFAH0fRSAhlBHIIyKWgAoori/iL4vm0Gxg0vRU+0a5qbeTaQryVz1c+gFAGH421O68beJh4E8PzMkCYfV7qM8Rp/zzB9TXoulaXaaNpdvp+nQrDb26BERR0AFYfgTwdD4O0EW5kNxfXDebeXTfemkPUk109ABRRRQAUUUUAFFFFABRRRQAUUUUAFFFFABRRRQAUUUUAFFY/ibxRpnhPSW1DV5vLjBwiKMtI3ZVHc1w0WsfEvxf+/0WxsvDumv/q5L0GSdx2O3gD6UAej6nfxaVpVzf3BxFbxNIxPoBmvmLwhe23iHxXqPibxAdun2MzahdO3/AC0c8QxY9QBn8a9E8U+F/inc+HLuwbVdP1m3uI9ssflmCQj0U5Irjvh34etNQ1SDw9q//EtstHzeXtndHbLczE9T2KKAMfjQB6T8P9FvvEesSeO/FELRXFwNunWb/wDLrD24/vGup8V+N9G8IWfmanPunfiG1iG6WVuwCiuU1X4hahr942h/DK0W7lU7JdTkGLe3+h/iNa/hT4bWWiXP9q6zcPrOtycyXtzztPoi9FFAGBBoHij4mSrd+LXl0TQSd0WlQtiSZf8Apoe30r0jSdH0/Q9PjstKtY7a3jGFSNcVdooA53xV4I0bxdahNSg23EfMN1F8skR9Qwri4vEHin4Z3C2viyOTWvD+cR6rCuZYR6SKO3vXq1MlhjniaKZFkjYYZWGQRQBT07U9N8QaWtzp1xFeWsy/eQhgQexrwjx3qln8JLzVdGnQahoGvQO8Vgrjfayn0B6KTzXRfEHQD8MtPufF/gu/bTdrDz9OYF4JyT2X+E/SvE/DlxZ/FzxBdWHjW/a21e5Jaxvf4VP/ADzI9PSgDm9E8f8AiOw1uNtJ1GWzacxwuY+rqrcZ9Tg4r7zQ5Rc+lfE2lfCrV7vxLLpOkRDUL2wuSJLiB/3AA6Evjg+3NfRq6F8V5kE83iXS7aUD/j3itSyfTJOaAOY/aA8Tot/pPh+LMjK4upIl5LODiJSO4LYqGw02+k0+z+Hmgylbu7AuvEF+h/1Qbkpn1PSua8W6P4n0Pxt/wk/jSwinnCbbe6gYtbLLjCMwxlQCc9+a9M0TU/Dvww8JxTXt8NS1fU/37m3/AHkt3I390elAHoOm6fp3hjQYbO2EdtZ2seMk4AA7k1wmq/EHVfFGoPonw0tftLKdtxq8oxBB67T/ABGq9v4a8TfEi4W98ayvpOiA7odHgbDSj1lb+lelaZpVjo1jHZ6ZbR21vGMKka4AoA5fwp8N9P0C5Op6nK+r61JzLfXPzEH0UdAK6+eCK5haG4jWSNxhkcZBFSUUAeZap8PtU8L3kmsfDS5FuxO+bSZW/cT+uP7prZ8JfEiw8QTHTdUhk0fW4uJbC5+U59VP8QrtK5vxZ4F0fxfbgX8Riuo+YbyA7ZYj2IagDK+J3hhNU0Ua1ZXKWGraRm4trpjtHHVWP9018vfEX4oJ4r1OO70+x+x3L26xXzFgyzOpBDD6EZBrc+JHxC8TaLq0ng3UNTXVdPsJdk0hTY1yn9x/p6is3xJ8OdDTRtM8U+G9TE2lahIsb2TnM8bE4KoB94igD2T9nHxTrnifR9Ul12/lvPJlVI/M/hGBwK9sr53+FngP4i6Dos8WjSWmjWd2/meZeIXnPHB2jAHHau5ki+LHh4faEudL8RQLy8JQwyEf7JyRmgDuPE/iOz8K6BcapqDYSJflTvI3ZR7k1yPw78N317fTeNvFSk6rqA/0eBulpD/Co9z1Nc/ot6/xV+IIfXF+w2WhqrLo8p/eNP3Zx3A7GvZQAqgAYA6CgAooooAKKKKACiiigAooooAKKKKACiiigAooooAKKKKACiikYZUgdxQB5bpNmvj/AOKuo6tqP73S/D0n2WzgblTN1dyPUcV6mBgYHArzf4QsIT4nsZOLiHWJWcHqQ2CDXpFABXmPxm8KxXmgf8JFZwj7dpp3ybePOh/jRvUYr06uc+IN3DZfD3WpbkgJ9kkXnuSMAUAWvCcWkp4YsZNAtYraymhWSNIlAGCK2a8a8JfDnxTP4L0Z4vG+pacv2KMfZUjjKxfL0GVzWv8A8Kz8W/8ARR9V/wC/Uf8A8TQB6dRXmP8AwrPxb/0UfVf+/Uf/AMTR/wAKz8W/9FH1X/v1H/8AE0AenUV5j/wrPxb/ANFH1X/v1H/8TR/wrPxb/wBFH1X/AL9R/wDxNAHZavrnhxNQTRNbu7MXFwu5ba4I+cfQ15r8WPBnhWz0S1k0fRrWDV7+6S3tbi3XaUZj97jrivP/AIi/Bjxzq/je1S2vrnWlaEA6hc7UEXtxitn/AIQLX/AF14WvPEviGXVLZdSjQwOxZICRgYJ96APcfCHhey8JeHLbTbCMAooMsn8Urn7zE9+a3KAcgEdKKAIL6xttSsZbS9hSaCZSrxuMgg15P8OPDmm+H/iNreh3lqk91ZhZrC5lG5lgbogJ9K9frx3XNIvfFHxsvrfQ9Xn0mWz01BNc26qWyWOF5BFAHsVFeY/8Kz8W/wDRR9V/79R//E0f8Kz8W/8ARR9V/wC/Uf8A8TQB6dRXmP8AwrPxb/0UfVf+/Uf/AMTR/wAKz8W/9FH1X/v1H/8AE0AenVXvr6202xmvb6ZYbeBC8kjHhVHUmvOf+FZ+Lf8Aoo+q/wDfqP8A+JrG8XfC/wAXzeD9Tjj8banqbtbuBZtHGBPx93he9AHeHSfBHjm2N39k0zVkkGTIFVif61wHww8FaLeeNtX1yys1TStPuGt9OtzyiOOHfHrmuD+HnwJ8eQSJfS6xL4dXglI5CZG9iBxXrnwPH2bwfe6dO+66tNRnWbd94ksSGP160AelUUUUAeafFLSTo0tn440dfJvtNlUXRTjzoCcMG9cV6JY3aX2n293Fyk8ayL9CM1yvxYuIrf4X60JcZltzGin+JjwBWz4RgktvBmkQzZ8xLOINnsdooA2KKKKACiiigAooooAKKKKACiiigAooooAKKKKACiiigAooooA8w8WWeo+BvGp8a6NbvdabdoI9XtYhlgB92UD25rudB8UaP4l09LzR76G4jYcgMNyn0I7GtVlDKVYAg9Qe9cNq3wh8Majfvf2kM2lXjnLT2EpiJPrgcUAdnd31rY27z3lxFBEgyzyOAAK8q1bVH+Lmuw6JoSyHw3ZzCS/vsYS4KnIjX1GeprYi+C+gSzK+t3up60qHKx310zr+Xeu8sNPtNLso7TT7eO2t4xhI4lCqo+lAE0aLHGqIMKowAO1OoooAKKKKACiiigArC8ZeGovFnhe60uVvLeRd0Mo6xyDlWH41u0UAeceC/H5tZE8LeNiNP1y1Hlq8vypdKOA6nocivRRKjLuV1I9QayPEXhPRPFdmLbXtPiu0X7pcfMnuD1Fcj/wpjTI/3dpr2uW1t/z7x3rbMelAGv4x+IuleF4fs8L/AG/VpvltrC3O53Y9MgdB71F8N/C97o2n3eqa8Q+s6tL59z/0z9EHsKveGfh54b8JymfSbBRdN966lO+U/wDAjzXT0AFFFFABRRRQAUUUUAFeWeIY774ceN7jxVZW0t3oWp7RqUMK5aBxwJQPT1r1OkdFkQpIoZWGCCOCKAM7RfEWleILBLzSL6G5hccFHGR7EdjVi+1Oy0y1e51C6ht4YxlnkcAAVxmpfB3wxd3z3umrcaPdSHLSafMYs/gOKht/gx4ea4SbWrnUNbZDlVv7lpFH4dDQBkXF7N8XfE9rb6dHInhXTJxNNdMMC8kU8KvqoPevWVUIoVRgAYAqK0tLextY7azhSCGMbUjjXAUegFTUAFFFFABRRRQAUUUUAFFFFABRRRQAUUUUAFFFFABRRRQAUUUUAFFFFABRRRQAUUUUAFFFFABRRRQAUUUUAFFFFABRRRQAUUUUAFFFFABRRRQAUUUUAFFFFABRRRQAUUUUAFFFFABRRRQAUUUUAFFFFABRRRQAUUUUAFFFFABRRRQAUUUUAFFFFABRRRQAUUUUAFFFFABRRRQAUUUUAFFFFABRRRQAUUUUAFFFFABRRRQAUUUUAFFFFABRRRQAUUUUAFFFFABRRRQAUUUUAFFFFABRRRQAUUUUAFFFFABRRRQAUUUUAFFFFABRRRQAUUUUAFFFFABRRRQAUUUUAFFFFABRRRQAUUUUAFFFFABRRRQAUUUUAFFFFABRRRQAUUUUAFFFFABRRRQAUUUUAFFFFAH/2Q==)"
      ]
    },
    {
      "cell_type": "markdown",
      "metadata": {
        "id": "psQ5B-212pAa"
      },
      "source": [
        "Dropout methods randomly selects some nodes, at every iteration, and removes them along with all of their incoming and outgoing connections as shown below if their weight is negligible as shown below: \n",
        "\n",
        "![nn_dropout.JPG](data:image/jpeg;base64,/9j/4AAQSkZJRgABAQEAYABgAAD/4RD0RXhpZgAATU0AKgAAAAgABAE7AAIAAAAOAAAISodpAAQAAAABAAAIWJydAAEAAAAcAAAQ0OocAAcAAAgMAAAAPgAAAAAc6gAAAAgAAAAAAAAAAAAAAAAAAAAAAAAAAAAAAAAAAAAAAAAAAAAAAAAAAAAAAAAAAAAAAAAAAAAAAAAAAAAAAAAAAAAAAAAAAAAAAAAAAAAAAAAAAAAAAAAAAAAAAAAAAAAAAAAAAAAAAAAAAAAAAAAAAAAAAAAAAAAAAAAAAAAAAAAAAAAAAAAAAAAAAAAAAAAAAAAAAAAAAAAAAAAAAAAAAAAAAAAAAAAAAAAAAAAAAAAAAAAAAAAAAAAAAAAAAAAAAAAAAAAAAAAAAAAAAAAAAAAAAAAAAAAAAAAAAAAAAAAAAAAAAAAAAAAAAAAAAAAAAAAAAAAAAAAAAAAAAAAAAAAAAAAAAAAAAAAAAAAAAAAAAAAAAAAAAAAAAAAAAAAAAAAAAAAAAAAAAAAAAAAAAAAAAAAAAAAAAAAAAAAAAAAAAAAAAAAAAAAAAAAAAAAAAAAAAAAAAAAAAAAAAAAAAAAAAAAAAAAAAAAAAAAAAAAAAAAAAAAAAAAAAAAAAAAAAAAAAAAAAAAAAAAAAAAAAAAAAAAAAAAAAAAAAAAAAAAAAAAAAAAAAAAAAAAAAAAAAAAAAAAAAAAAAAAAAAAAAAAAAAAAAAAAAAAAAAAAAAAAAAAAAAAAAAAAAAAAAAAAAAAAAAAAAAAAAAAAAAAAAAAAAAAAAAAAAAAAAAAAAAAAAAAAAAAAAAAAAAAAAAAAAAAAAAAAAAAAAAAAAAAAAAAAAAAAAAAAAAAAAAAAAAAAAAAAAAAAAAAAAAAAAAAAAAAAAAAAAAAAAAAAAAAAAAAAAAAAAAAAAAAAAAAAAAAAAAAAAAAAAAAAAAAAAAAAAAAAAAAAAAAAAAAAAAAAAAAAAAAAAAAAAAAAAAAAAAAAAAAAAAAAAAAAAAAAAAAAAAAAAAAAAAAAAAAAAAAAAAAAAAAAAAAAAAAAAAAAAAAAAAAAAAAAAAAAAAAAAAAAAAAAAAAAAAAAAAAAAAAAAAAAAAAAAAAAAAAAAAAAAAAAAAAAAAAAAAAAAAAAAAAAAAAAAAAAAAAAAAAAAAAAAAAAAAAAAAAAAAAAAAAAAAAAAAAAAAAAAAAAAAAAAAAAAAAAAAAAAAAAAAAAAAAAAAAAAAAAAAAAAAAAAAAAAAAAAAAAAAAAAAAAAAAAAAAAAAAAAAAAAAAAAAAAAAAAAAAAAAAAAAAAAAAAAAAAAAAAAAAAAAAAAAAAAAAAAAAAAAAAAAAAAAAAAAAAAAAAAAAAAAAAAAAAAAAAAAAAAAAAAAAAAAAAAAAAAAAAAAAAAAAAAAAAAAAAAAAAAAAAAAAAAAAAAAAAAAAAAAAAAAAAAAAAAAAAAAAAAAAAAAAAAAAAAAAAAAAAAAAAAAAAAAAAAAAAAAAAAAAAAAAAAAAAAAAAAAAAAAAAAAAAAAAAAAAAAAAAAAAAAAAAAAAAAAAAAAAAAAAAAAAAAAAAAAAAAAAAAAAAAAAAAAAAAAAAAAAAAAAAAAAAAAAAAAAAAAAAAAAAAAAAAAAAAAAAAAAAAAAAAAAAAAAAAAAAAAAAAAAAAAAAAAAAAAAAAAAAAAAAAAAAAAAAAAAAAAAAAAAAAAAAAAAAAAAAAAAAAAAAAAAAAAAAAAAAAAAAAAAAAAAAAAAAAAAAAAAAAAAAAAAAAAAAAAAAAAAAAAAAAAAAAAAAAAAAAAAAAAAAAAAAAAAAAAAAAAAAAAAAAAAAAAAAAAAAAAAAAAAAAAAAAAAAAAAAAAAAAAAAAAAAAAAAAAAAAAAAAAAAAAAAAAAAAAAAAAAAAAAAAAAAAAAAAAAAAAAAAAAAAAAAAAAAAAAAAAAAAAAAAAAAAAAAAAAAAAAAAAAAAAAAAAAAAAAAAAAAAAAAAAAAAAAAAAAAAAAAAAAAAAAAAAAAAAAAAAAAAAAAAAAAAAAAAAAAAAAAAAAAAAAAAAAAAAAAAAAAAAAAAAAAAAAAAAAAAAAAAAAAAAAAAAAAAAAAAAAAAAAAAAAAAAAAAAAAAAAAAAAAAAAAAAAAAAAAAAAAAAAAAAAAAAAAAAAAAAAAAAAAAAAAAAAAAAAAAAAAAAAAAAAAAAAAAAAAAAAAAAAAAAAAAAAAAAAAAAAAAAAAAAAAAAAAAAAAAAAAAAAAAAAAAAAAAAAAAAAAAAAAAAAAAAAAAAAAAAAAAAAAAAAAAAAAAAAAAAAAAAAAAAAAAAAAAAAAAAAAAAAAAAAAAAAAAAAAAAAAAAAAAAAAAAAAAAAAAAAAAAAAAAAAAAAAAAAAAAAAAAAAAAAAAAAAAAAAAAAAAAAAAAAAAAAAAAAAAAAAAAAAAAAAAAAAAAAAAAAAAAAAAAAAAAAAAAAAAAAAAAAAAAAAAAAAAAAAAAAAAAAAAAAAAAAAAAAAAAAAAAAAAAAAAAAAAAAAAAAAAAAAAAAAAAAAAAAAAAAAAAAAAAAAAAAAAAAAAAAAAAAAAAAAAAAAAAAAAAAAAAAAAAAAAAAAAAAAAAAAAAAAAAAAAAAAAAAAAAAAAAAAAAAAAAAAAAAAAAAAAAAAAAAAAAAAAAAAAAAAAAAAAAAAAAAAAAAAAAAAAAAAAAAAAAAAAAAAAAAAAAAAAAAAAAAAAAAAAAAAAAAAAAAAAAAAAAAAAAAAAAAAAAAAAAAAAAAAAAAAAAAAAAAAAAAAAAAAAAAAAAAAAAAAAAAAAAAAAAAAAAAAAAAAAAAAAAAAAAAAAAAAAAAAAAAAAAAAAAAAAAAAAAAAAAAAAAAAAAAAAAAAAEp1bGlhIEVsIFppbmkAAAWQAwACAAAAFAAAEKaQBAACAAAAFAAAELqSkQACAAAAAzMzAACSkgACAAAAAzMzAADqHAAHAAAIDAAACJoAAAAAHOoAAAAIAAAAAAAAAAAAAAAAAAAAAAAAAAAAAAAAAAAAAAAAAAAAAAAAAAAAAAAAAAAAAAAAAAAAAAAAAAAAAAAAAAAAAAAAAAAAAAAAAAAAAAAAAAAAAAAAAAAAAAAAAAAAAAAAAAAAAAAAAAAAAAAAAAAAAAAAAAAAAAAAAAAAAAAAAAAAAAAAAAAAAAAAAAAAAAAAAAAAAAAAAAAAAAAAAAAAAAAAAAAAAAAAAAAAAAAAAAAAAAAAAAAAAAAAAAAAAAAAAAAAAAAAAAAAAAAAAAAAAAAAAAAAAAAAAAAAAAAAAAAAAAAAAAAAAAAAAAAAAAAAAAAAAAAAAAAAAAAAAAAAAAAAAAAAAAAAAAAAAAAAAAAAAAAAAAAAAAAAAAAAAAAAAAAAAAAAAAAAAAAAAAAAAAAAAAAAAAAAAAAAAAAAAAAAAAAAAAAAAAAAAAAAAAAAAAAAAAAAAAAAAAAAAAAAAAAAAAAAAAAAAAAAAAAAAAAAAAAAAAAAAAAAAAAAAAAAAAAAAAAAAAAAAAAAAAAAAAAAAAAAAAAAAAAAAAAAAAAAAAAAAAAAAAAAAAAAAAAAAAAAAAAAAAAAAAAAAAAAAAAAAAAAAAAAAAAAAAAAAAAAAAAAAAAAAAAAAAAAAAAAAAAAAAAAAAAAAAAAAAAAAAAAAAAAAAAAAAAAAAAAAAAAAAAAAAAAAAAAAAAAAAAAAAAAAAAAAAAAAAAAAAAAAAAAAAAAAAAAAAAAAAAAAAAAAAAAAAAAAAAAAAAAAAAAAAAAAAAAAAAAAAAAAAAAAAAAAAAAAAAAAAAAAAAAAAAAAAAAAAAAAAAAAAAAAAAAAAAAAAAAAAAAAAAAAAAAAAAAAAAAAAAAAAAAAAAAAAAAAAAAAAAAAAAAAAAAAAAAAAAAAAAAAAAAAAAAAAAAAAAAAAAAAAAAAAAAAAAAAAAAAAAAAAAAAAAAAAAAAAAAAAAAAAAAAAAAAAAAAAAAAAAAAAAAAAAAAAAAAAAAAAAAAAAAAAAAAAAAAAAAAAAAAAAAAAAAAAAAAAAAAAAAAAAAAAAAAAAAAAAAAAAAAAAAAAAAAAAAAAAAAAAAAAAAAAAAAAAAAAAAAAAAAAAAAAAAAAAAAAAAAAAAAAAAAAAAAAAAAAAAAAAAAAAAAAAAAAAAAAAAAAAAAAAAAAAAAAAAAAAAAAAAAAAAAAAAAAAAAAAAAAAAAAAAAAAAAAAAAAAAAAAAAAAAAAAAAAAAAAAAAAAAAAAAAAAAAAAAAAAAAAAAAAAAAAAAAAAAAAAAAAAAAAAAAAAAAAAAAAAAAAAAAAAAAAAAAAAAAAAAAAAAAAAAAAAAAAAAAAAAAAAAAAAAAAAAAAAAAAAAAAAAAAAAAAAAAAAAAAAAAAAAAAAAAAAAAAAAAAAAAAAAAAAAAAAAAAAAAAAAAAAAAAAAAAAAAAAAAAAAAAAAAAAAAAAAAAAAAAAAAAAAAAAAAAAAAAAAAAAAAAAAAAAAAAAAAAAAAAAAAAAAAAAAAAAAAAAAAAAAAAAAAAAAAAAAAAAAAAAAAAAAAAAAAAAAAAAAAAAAAAAAAAAAAAAAAAAAAAAAAAAAAAAAAAAAAAAAAAAAAAAAAAAAAAAAAAAAAAAAAAAAAAAAAAAAAAAAAAAAAAAAAAAAAAAAAAAAAAAAAAAAAAAAAAAAAAAAAAAAAAAAAAAAAAAAAAAAAAAAAAAAAAAAAAAAAAAAAAAAAAAAAAAAAAAAAAAAAAAAAAAAAAAAAAAAAAAAAAAAAAAAAAAAAAAAAAAAAAAAAAAAAAAAAAAAAAAAAAAAAAAAAAAAAAAAAAAAAAAAAAAAAAAAAAAAAAAAAAAAAAAAAAAAAAAAAAAAAAAAAAAAAAAAAAAAAAAAAAAAAAAAAAAAAAAAAAAAAAAAAAAAAAAAAAAAAAAAAAAAAAAAAAAAAAAAAAAAAAAAAAAAAAAAAAAAAAAAAAAAAAAAAAAAAAAAAAAAAAAAAAAAAAAAAAAAAAAAAAAAAAAAAAAAAAAAAAAAAAAAAAAAAAAAAAAAAAAAAAAAAAAAAAAAAAAAAAAAAAAAAAAAAAAAAAAAAAAAAAAAAAAAAAAAAAAAAAAAAAAAAAAAAAAAAAAAAAAAAAAAAAAAAAAAAAAAAAAAAAAAAAAAAAAAAAAAAAAAAAAAAAAAAAAAAAAAAAAAAAAAAAAAAAAAAAAAAAAAAAAAAAAAAAAAAAAAAAAAAAAAAAAAAAAAAAAAAAAAAAAAAAAAAAAAAAAAAAAAAAAAAAAAAAAAAAAAAAAAAAAAAAAAAAAAAAAAAAAAAAAAAAAAAAAAAAAAAAAAAAAAAAAAAAAAAAAAAAAAAAAAAAAAAAAAAAAAAAAAAAAAAAAAAAAAAAAAAAAAAAAAAAAAAAAAAAAAAAAAAAAAAAAAAAAAAAAAAAAAAAAAAAAAAAAAAAAAAAAAAAAAAAAAAAAAAAAAAAAAAAAAAAAAAAAAAAAAAAAAAAAAAAAAAAAAAAAAAAAAAAAAAAAAAAAAAAAAAAAAAAAAAAAAAAAAAAAAAAAAAAAAAAAAAAAAAAAAAAAAAAAAAAAAAAAAAAAAAAAAAAAAAAAAAAAAAAAAAAAAAAAAAAAAAAAAAAAAAAAAAAAAAAAAAAAAAAAAAAAAAAAAAAAAAAAAAAAAAAAAAAAAAAAAAAAAAAAAAAAAAAAAAAAAAAAAAAAAAAAAAAAAAAAAAAAAAAAAAAAAAAAAAAAAAAAAAAAAAAAAAAAyMDIwOjEwOjE5IDE1OjMyOjQwADIwMjA6MTA6MTkgMTU6MzI6NDAAAABKAHUAbABpAGEAIABFAGwAIABaAGkAbgBpAAAA/+ELIGh0dHA6Ly9ucy5hZG9iZS5jb20veGFwLzEuMC8APD94cGFja2V0IGJlZ2luPSfvu78nIGlkPSdXNU0wTXBDZWhpSHpyZVN6TlRjemtjOWQnPz4NCjx4OnhtcG1ldGEgeG1sbnM6eD0iYWRvYmU6bnM6bWV0YS8iPjxyZGY6UkRGIHhtbG5zOnJkZj0iaHR0cDovL3d3dy53My5vcmcvMTk5OS8wMi8yMi1yZGYtc3ludGF4LW5zIyI+PHJkZjpEZXNjcmlwdGlvbiByZGY6YWJvdXQ9InV1aWQ6ZmFmNWJkZDUtYmEzZC0xMWRhLWFkMzEtZDMzZDc1MTgyZjFiIiB4bWxuczpkYz0iaHR0cDovL3B1cmwub3JnL2RjL2VsZW1lbnRzLzEuMS8iLz48cmRmOkRlc2NyaXB0aW9uIHJkZjphYm91dD0idXVpZDpmYWY1YmRkNS1iYTNkLTExZGEtYWQzMS1kMzNkNzUxODJmMWIiIHhtbG5zOnhtcD0iaHR0cDovL25zLmFkb2JlLmNvbS94YXAvMS4wLyI+PHhtcDpDcmVhdGVEYXRlPjIwMjAtMTAtMTlUMTU6MzI6NDAuMzMzPC94bXA6Q3JlYXRlRGF0ZT48L3JkZjpEZXNjcmlwdGlvbj48cmRmOkRlc2NyaXB0aW9uIHJkZjphYm91dD0idXVpZDpmYWY1YmRkNS1iYTNkLTExZGEtYWQzMS1kMzNkNzUxODJmMWIiIHhtbG5zOmRjPSJodHRwOi8vcHVybC5vcmcvZGMvZWxlbWVudHMvMS4xLyI+PGRjOmNyZWF0b3I+PHJkZjpTZXEgeG1sbnM6cmRmPSJodHRwOi8vd3d3LnczLm9yZy8xOTk5LzAyLzIyLXJkZi1zeW50YXgtbnMjIj48cmRmOmxpPkp1bGlhIEVsIFppbmk8L3JkZjpsaT48L3JkZjpTZXE+DQoJCQk8L2RjOmNyZWF0b3I+PC9yZGY6RGVzY3JpcHRpb24+PC9yZGY6UkRGPjwveDp4bXBtZXRhPg0KICAgICAgICAgICAgICAgICAgICAgICAgICAgICAgICAgICAgICAgICAgICAgICAgICAgICAgICAgICAgICAgICAgICAgICAgICAgICAgICAgICAgICAgICAgICAgICAgICAgIAogICAgICAgICAgICAgICAgICAgICAgICAgICAgICAgICAgICAgICAgICAgICAgICAgICAgICAgICAgICAgICAgICAgICAgICAgICAgICAgICAgICAgICAgICAgICAgICAgICAgCiAgICAgICAgICAgICAgICAgICAgICAgICAgICAgICAgICAgICAgICAgICAgICAgICAgICAgICAgICAgICAgICAgICAgICAgICAgICAgICAgICAgICAgICAgICAgICAgICAgICAKICAgICAgICAgICAgICAgICAgICAgICAgICAgICAgICAgICAgICAgICAgICAgICAgICAgICAgICAgICAgICAgICAgICAgICAgICAgICAgICAgICAgICAgICAgICAgICAgICAgIAogICAgICAgICAgICAgICAgICAgICAgICAgICAgICAgICAgICAgICAgICAgICAgICAgICAgICAgICAgICAgICAgICAgICAgICAgICAgICAgICAgICAgICAgICAgICAgICAgICAgCiAgICAgICAgICAgICAgICAgICAgICAgICAgICAgICAgICAgICAgICAgICAgICAgICAgICAgICAgICAgICAgICAgICAgICAgICAgICAgICAgICAgICAgICAgICAgICAgICAgICAKICAgICAgICAgICAgICAgICAgICAgICAgICAgICAgICAgICAgICAgICAgICAgICAgICAgICAgICAgICAgICAgICAgICAgICAgICAgICAgICAgICAgICAgICAgICAgICAgICAgIAogICAgICAgICAgICAgICAgICAgICAgICAgICAgICAgICAgICAgICAgICAgICAgICAgICAgICAgICAgICAgICAgICAgICAgICAgICAgICAgICAgICAgICAgICAgICAgICAgICAgCiAgICAgICAgICAgICAgICAgICAgICAgICAgICAgICAgICAgICAgICAgICAgICAgICAgICAgICAgICAgICAgICAgICAgICAgICAgICAgICAgICAgICAgICAgICAgICAgICAgICAKICAgICAgICAgICAgICAgICAgICAgICAgICAgICAgICAgICAgICAgICAgICAgICAgICAgICAgICAgICAgICAgICAgICAgICAgICAgICAgICAgICAgICAgICAgICAgICAgICAgIAogICAgICAgICAgICAgICAgICAgICAgICAgICAgICAgICAgICAgICAgICAgICAgICAgICAgICAgICAgICAgICAgICAgICAgICAgICAgICAgICAgICAgICAgICAgICAgICAgICAgCiAgICAgICAgICAgICAgICAgICAgICAgICAgICAgICAgICAgICAgICAgICAgICAgICAgICAgICAgICAgICAgICAgICAgICAgICAgICAgICAgICAgICAgICAgICAgICAgICAgICAKICAgICAgICAgICAgICAgICAgICAgICAgICAgICAgICAgICAgICAgICAgICAgICAgICAgICAgICAgICAgICAgICAgICAgICAgICAgICAgICAgICAgICAgICAgICAgICAgICAgIAogICAgICAgICAgICAgICAgICAgICAgICAgICAgICAgICAgICAgICAgICAgICAgICAgICAgICAgICAgICAgICAgICAgICAgICAgICAgICAgICAgICAgICAgICAgICAgICAgICAgCiAgICAgICAgICAgICAgICAgICAgICAgICAgICAgICAgICAgICAgICAgICAgICAgICAgICAgICAgICAgICAgICAgICAgICAgICAgICAgICAgICAgICAgICAgICAgICAgICAgICAKICAgICAgICAgICAgICAgICAgICAgICAgICAgICAgICAgICAgICAgICAgICAgICAgICAgICAgICAgICAgICAgICAgICAgICAgICAgICAgICAgICAgICAgICAgICAgICAgICAgIAogICAgICAgICAgICAgICAgICAgICAgICAgICAgICAgICAgICAgICAgICAgICAgICAgICAgICAgICAgICAgICAgICAgICAgICAgICAgICAgICAgICAgICAgICAgICAgICAgICAgCiAgICAgICAgICAgICAgICAgICAgICAgICAgICAgICAgICAgICAgICAgICAgICAgICAgICAgICAgICAgICAgICAgICAgICAgICAgICAgICAgICAgICAgICAgICAgICAgICAgICAKICAgICAgICAgICAgICAgICAgICAgICAgICAgICAgICAgICAgICAgICAgICAgICAgICAgICAgICAgICAgICAgICAgICAgICAgICAgICAgICAgICAgICAgICAgICAgICAgICAgIAogICAgICAgICAgICAgICAgICAgICAgICAgICAgICAgICAgICAgICAgICAgICAgICAgICAgICAgICAgICAgICAgICAgICAgICAgICAgICAgICAgICAgICAgICAgICAgICAgICAgCiAgICAgICAgICAgICAgICAgICAgICAgICAgICA8P3hwYWNrZXQgZW5kPSd3Jz8+/9sAQwAHBQUGBQQHBgUGCAcHCAoRCwoJCQoVDxAMERgVGhkYFRgXGx4nIRsdJR0XGCIuIiUoKSssKxogLzMvKjInKisq/9sAQwEHCAgKCQoUCwsUKhwYHCoqKioqKioqKioqKioqKioqKioqKioqKioqKioqKioqKioqKioqKioqKioqKioqKioq/8AAEQgBUwFfAwEiAAIRAQMRAf/EAB8AAAEFAQEBAQEBAAAAAAAAAAABAgMEBQYHCAkKC//EALUQAAIBAwMCBAMFBQQEAAABfQECAwAEEQUSITFBBhNRYQcicRQygZGhCCNCscEVUtHwJDNicoIJChYXGBkaJSYnKCkqNDU2Nzg5OkNERUZHSElKU1RVVldYWVpjZGVmZ2hpanN0dXZ3eHl6g4SFhoeIiYqSk5SVlpeYmZqio6Slpqeoqaqys7S1tre4ubrCw8TFxsfIycrS09TV1tfY2drh4uPk5ebn6Onq8fLz9PX29/j5+v/EAB8BAAMBAQEBAQEBAQEAAAAAAAABAgMEBQYHCAkKC//EALURAAIBAgQEAwQHBQQEAAECdwABAgMRBAUhMQYSQVEHYXETIjKBCBRCkaGxwQkjM1LwFWJy0QoWJDThJfEXGBkaJicoKSo1Njc4OTpDREVGR0hJSlNUVVZXWFlaY2RlZmdoaWpzdHV2d3h5eoKDhIWGh4iJipKTlJWWl5iZmqKjpKWmp6ipqrKztLW2t7i5usLDxMXGx8jJytLT1NXW19jZ2uLj5OXm5+jp6vLz9PX29/j5+v/aAAwDAQACEQMRAD8A+kaKKKACiiigAooooAKKKKACiiigAooooAKKKKACiiigAooooAKKKKACiiigAooooAKKKKACiiigAooooAKKKKACiiigAooooAKKKKACiiigAooooAKKKKACiiigAooooAKKKKACiiigAooooAKKKKACiiigAooooAKKKKACiiigAooooAKKKKACiiigAooooAKKKKACiiigAooooAKKKKACiiigAooooAKKKKACiiigAooooAKKKKACuZ8Q/EPwx4XlEOrapGtwekEWZJD/AMBFYvxC8Sao2qWPhDwoduramC0tx/z6wDq/17CtPwv8N9B8NwiQWqXuoNzNfXK75ZG9cnpQBlW/xu8GzTBJ7m8swTgSXVo8a/mRXdWOoWmp2qXOn3MVzC4yskTBgfypl5pOn6jbmC+soLiIjBSWMMP1rzDxB4en+Ft2PE3hAyDRw4/tHSgcxhCeZEHYigD1qiq+n30Opabb3tqweG4jWSNh3BGRVigAooooAKKKKACiiorm4jtLWW4nO2OJSzHGcAUAFxcw2sJluZUijHVnYAVzlx8Q/D8Em1biafgHdBA7jkAjkD3Fee63reqR+IrHxD4wsWl8JXDbI415Fsc/K8i9wf0r2HT/ALE1hDJpgi+zOgaMwgBSuOMY9qAKeleJtI1okafepI46xtlW/I81q15f8UdRsElh0fQLIXHiy84tWt/le3zx5jMOgHvXS+CdW1N4ZNF8SsjavYqvmSIRtmUjhwOvtzQB1dFFFABRRRQAUUUUAFFFed+PNd1XVPENr4I8LTNbXl2nm3t6o5tYfUf7R7UAbXiD4k+FvDVx9n1LU0Nz/wA+8AMj/ktZNp8a/BlzOsc13dWW44DXlq8an8SK2PDPw88P+GLcfZbGOe7PMt3OoeWRu5LHmtvUNG03VbdoNRsbe5iYYKyxhh+tAE9peW99bJcWU8c8LjKvGwYH8RU1eR6xpFz8I9Sj13w68r+G5ZQl/pxOVtwT/rE9B616vbXEd3axXEDBo5UDqw7gigCWiiigAooooAKKKKACiiigAooooAKKKKACiiigAooooA828HKL74x+ML24+aW3WG3iB/gXGTj6mvSa8u1C6HgX4y/2jeZTSvEcSwvOfuxzr90H0BGa9QVgyhlOQeQR3oAWqmrWkV/o93a3KhopoWVge4xVuuR+JXiyHwr4PupQ+b24Uw2sQPzM7cDj0FAGZ8E7uW6+GdsszFvs9zPbof8AZSQqv6CvQa4/4W2tjYfD3TrbT7qK5KpvmaJgQJW5cfmTXYUAFFFFABRRRQAVy/xBkYeFWiU4E80cTHI6FhmuorI8U6W2r+Hbq1j/ANbt3xnOMMOR+ooAty6baXek/wBn3UCS2zxiNo2GQRivC/EfiTUvgvq02h6FcR6jp98pe2hncltOLHq3+wM8ZrtNW+JzLo1ppfh23N34mu18oWh627DgtJ6Ada1PCXw3s9K025k8QEavqupKTfXM4zuz1Rc9FHQUAO+Hng+10ew/ti5vF1XVtRUS3F/ncGz2X0WrurMLX4haNJHndcQyxPgE5AwRnmuNR774O6z5cplu/Bt1J8rnLNpzHsf9iuq0m7h8U+Mzq1mRLYafCYoZhysjt1IyOwA5BoA7GiiigAooooAKKKKACvNfh0BffEDxrqNx808d8LZCeqRhQcfnXfX2r6dpi7tRvYLYessgX+deS+H/ABjoekfGnUrax1GG40/Xdr+dG2VS5HG0npyKAPZqKAcjI5FFAGV4osodQ8K6la3KhopLZwQfoa5/4RXct78LdHkuGLOsZTce4DECk+KPiUaL4VksbM+Zqup/6NaQLyzM3BOPQCtvwdoY8OeD9N0odbeEK3+91P6mgDbooooAKKKKACiiigAooooAKKKKACiiigAooooAKKKKAMzxB4f07xNo82m6vAJreUd+qnsQexFcBb6d8RfAn+jaQYPFGkL/AKpLl9lxEvpu/ir1KigDy3UPHnxAOnzSWXggWrRIWeW7uAVUAckAHmneAfCSeI/s3jTxPqg129uEJt127YLZT1Coe/vXp0sazQvHINyupUg9wa80+F0p8PeIPEHgq6c5s7j7TZBv4oH9PYHj8aAH618Ob7RNRfXfhvdf2ddk759Oc/6Pc+vH8J960vC3xKtdVvP7I8QWz6LricPa3HAc+qN0IruKwPFXgvRvGFiYNVt/3q8xXMZ2yxN2KsKAN+ivKYdY8VfDFltvEiza/wCH1OE1KNczQL/00A6getej6Nrmm+IdNjv9Hu47u2kHDxtn8PrQBfooooAKKKKAOR1TwPEmvS+IvDZjsdakXbJIy5ScejD+o5qSHXPE8EMq33hwSyofla3uF2yDfgHnpxzXVUUAcVqOj+IfGNk9hrSw6XpkylZ4Ym3yyKcjG7oOx4rqNJ0iy0PTIdP0u3S3toV2oiDpV2igAooooAKKKKACs3XfEOl+G9Ne+1m7jtoVHVjy3sB3Ncr4l+JkNpqLaJ4Ttjrmt9DDCcpB7yMOlVdB+G1zqGqLr/xDvP7X1HO6K0/5d7X2Ve59zQB4v8VtD8SfEjVP+En8PaJfR6a2yBBIxDTdg4TsK9b8G/BbRdM+Gg0TWYBJd3QE1xOvDxyY42nqMV6kqKiBVUBRwABwK4n4vSa7F8N9Sk8N3MVrNHEzTTO20pGB820+uKAOC8PeM/FukeI7/wANaBLb+MbXTMbndvLmjHZd3RjXUSeLviNqa+RpXgyOwkbgz3twCqe+B1rzj9mnQdc03xHqN7qlhcxW93bq6XEiHbJkk5B719J0AeINpupeAvHmneJPHcq61Her5El/ghbCQngKvQKfWvbY5EljWSNgyMMqR3FUta0ez1/R7jTdSiWW3uEKsp7e/wBa4HwJrd54W15/AXieRnkjBfS7t/8Al4h/u5/vCgD02iiigAooooAKKKKACiiigAooooAKKKKACiiigAooooAKKKKACvMviDD/AMI3498PeMovli3/ANn3uO6OflJ+hH616bXP+OvD6+JvBeo6YQC8kRMRPZxyp/OgDfRg6BlOVYZBpa5H4Y+If+Ej8CWU0pP2q2BtblT1EkZ2nP1IzXXUANkjSWNklVXRhgqwyDXnGr/Dm+0PU5Nd+G92NOu2O6bT35t7j1+Xop969JooA4bwr8SrXVb7+xvENu2i64nDWtwcCT3RuhFdzXP+K/BWjeMbIQ6vbAyx8w3KcSQn1Vuoril1nxX8MXWHxGk2v+HgcLqMQ3TW6/8ATQdx70Aeq0VQ0bW9O8QabHf6Pdx3VtIMq8bZ/A+hq/QAUUUUAFFFFABRR061wXib4mRWmpf2F4StW1zXG48mA5jg95G6CgDq9d8QaZ4b017/AFm7jtoEHVjyx9AO5rztr7xZ8USYtLWbw74bY4a6cYuLpf8AZH8IPrWhovw0m1HU49d+Id3/AGvqKndDan/j3tvZV7n3r0VVCKFQAKBgAdqAMTwx4Q0fwjpwtNGtFjzzJK3Mkp9WbqTW5RRQAV5v8XriTU7PS/B1nIVn166WGUr1SEHLt9MV6RXmXhvb4t+MOr68fntdFT7BbHtvPLsPzxQB6LYWcWn6fBaQKFjgjVFA7ADFWKKKACuU8f8Ag8eK9EX7I/2fVLNvOsrleGRx2z6GurooA4/4eeMj4n0uW11FPs+s6c3kXtu3BDDjcPY9a7CvN/iDoN5ousReO/DERa9tFC39sg/4+oR6juQK7Xw9r1l4l0G11XTJRJBcIGGDyp7g+4NAGnRRRQAUUUUAFFFFABRRRQAUUUUAFFFFABRRRQBDd3cFjaSXN3KsMMY3O7nAArl4/E+sa8S3hfTENpnC3t2+1H91A5I4xUHiOxXxl4gbw7cO40y3h8y8VDjzGbhVznp1OPpXOaPq+ofCzWovD3iV3uPD1w23TtTbnyT2jk9PY0Adbu8bWjGV00y+TvFGWRup6E8dMVc0bxbZ6peNp10jWGpqCWs5+GIGPmX1XnrVfxj44sPCejrcH/Sru5+WztYeXnY9MD0964zT/AOs3VvceMdfumPihl822jRsJaoOfKH17nFAFvw2q+DvjHq+hfdstcT7fajt5n/LQfnXp9eU/EC4e48L6D45s1xc6TMksoGfuNhZB07c16fY3cV/p8F3btuinjWRD6gjIoAnooooAKbJGksbRyorowwysMginUUAeWeK/BTeDEvPFfgnURpDQqZrqzkObecDk8dj9K4P4Z/tA3+s/EGWy8UPFDY35C24XhYX9M+hr6JurSC+tZLa8hSaCQbXjcZDD0IryX4lfDPwJo/hS+1r+xUhuoVzCbdih3k/LgD3oA6zxZ8SLPQL6PSdJtJtZ1uYZSytRkqPVz/CKyUf4t6ivniPRdLB5Fu5Mh+hIrR+F/gqLwx4biurz/SNXvlEt1cycsSRwufQCu5oA8wb4heJ/CU6L8QdACWDNg6np7eZGnu69RXa33jDQdO8Prrd1qdulg6b0l3g7/Yep9q1bi2hu7d4LqJZYpAVdHGQw9MV4xpPgrSNF+MJ0PVbc3dhJC15pMUrEpCc/Ou3p1PFAGr9u8WfFJyulibw74aJwbl1xcXS/wCyP4QfWu88MeEdH8Jaf9l0e1WPPMkrcvIfVm6mtpEWNAqKFUDAAHSloAKKKKACiiigDnvHXiJPC3gvUdVf78URWIDqXbhcfiRWT8PtNt/Bfw4tptWmSCWZftV5K5xmR+T/AErJ+IB/4Sfx/wCH/CCktAr/AG+9A7Kn3R+daevaPB461y40G9Lf2RZxATRxnG+Q9BkHsOfrQBbi8R69rvz+HNKjjszyl3evtDjjlVHOCP5VJLL41sR5vkadqKDloo2aNsYPQnjriuX8PeIL/wCHmuReFPGErS6dMdul6ow+UjtG57H0rp/G/jq18KWEcdun23Vbw7LKyi5aVj0PsPegDQ0PxVZazcSWbBrTUYRmWzm4kUZxnHcH1rcryax8BarY2M/jHVLppfFbYmO1sJHGOTCOvGO+K9O0u+XU9KtryPpNGG+lAFplDqVYAqwwQe9eTzRv8JvG32iIN/wiutTfvR/DZTnv7Ka9ZqhrejWXiDRrjTNTiEttcIUdT79x70AXY5FljV42DIwyrA8EU6vMvAer3vhXXpPAniWYuYgW0q7c/wDHxF2XP94V6bQAUUUUAFFFFABRRRQAUUUUAFFFFABRRRQBynh/CeOvESPxIzROuT1Xbj+earfE7W9D07wvLZa1bi/lvR5VtYqMvM56Y9Oe9O8bpqOiSJ4o0K0e9uLWJo57RDzOnb8j+NYfw58PjWr1/GPia5jv9ZnJEUIOUsV/uKOx9SaAOG8Fabe+APF1le/Em2klhu4Vj0+9klMiWJ/55HPQ+9fQMs0ZsnmDgx+WW3A8EYqtrWjWGv6TNp2q26T20y4ZWHT3HvXk2iv4k03VrrwFY3A1bTJBmHU9xLWkXeNiMc+lAHa+FdMXWPhvLY3qZivTOAGUfdZjtPBPqKzvg9qc3/CO3fhzUCftug3L2jBurR5yjfiDXeWFnHYWEFpCMJCgQfgK861LHhL43Wd+o2WXiKH7PN6eev3SfcjigD02iiigAooooAK87+NiMfAcco/1UN9BJN/uBua9ErO8QaNb+IdAvNLvBmK5iKH29DQBbsnSSxgeL7jRqVx6YqavLvAnjNvD1x/whPjaZbbUrL5LW5lOEuov4SD616gCGUFTkEZBHegBa818Wf6R8bPCUNv/AK6KKaWXH/PPgfzrsPEvizR/CenNd6zdpCAMpHnLyH0UdzXk+m6/rek+KpfH3ibw/dPp+oJ5UJjG57GEHgsvXnqaAPcqKz9F13TfEOnJfaPdx3Vu44eNs49j6VoUAFFFFABTZJFiieSQ4VAWJ9AKdXD/ABa1ubSvA81rYk/btUcWduF+9ufjI+goAy/heD4j1/xB40nGVvLg21mT/wA8YztBH1xXQeEvk8R+JI5OJDehxkjlSoxWr4V0KHw14W0/SbcALawKjEfxNjk/iea5zx1NqnhaV/FOhWD6g6QGO4tI85cdm/D2oAj+LGsaJD4bbSNRs/7T1C/+SzsY+ZGfsw9MHnNef+ALS4+H/i+FfiTC0l3fRKlhqcshkSH/AKY5P3T7967j4beGkuGk8Wa7eR6prd5klwcraL/zzQdsd67LxD4f07xLo02navAssEi9T1Q9mB7EUAWdRmjTSLmVmBjELHOeMYrK8DBx4L0/zQQShOCAOCxx0Jrznw9N4lkvLrwEJhqWnQkFdYDE7Yf+eZIx83bNew21ulpaxwRDCRqFUewoAlooooA5Tx/4NXxZooNrJ9m1WzbzrG6XgxyDoPoah+HnjF/EulPaatH9m1vTz5N9bnqGH8Q9j1rsa82+IOg32iatD458KxFr2zGL+1T/AJeoO/HqOooA9JorM8O6/ZeJtDt9U0yQSQTrn3U9wfcVp0AFFFFABRRRQAUUUUAFFFFABRRRQAdetc7qPgrTL26N1btcafdHky2cnlk9+R0PNdFRQBzE/gsXrqNQ1nUp4FRV8kTbVbAwScDJzW3pukWOkWwg062SFO+0ck+pNXKKACuI+LOiS6r4HnubEf6fpjC9tmHUMnP8hXb02RFljZHAKsMEHuKAMnwnr0Pibwrp+r2/3bqFXI/unHIrYrzP4YsfDniPX/BUpIjs5zc2QPeFzn+demUAFFFFABXlPx0+IPiDwJoNu+gWaYuiUa8fnyj6BfX3r1C7u4bGzlurqRYoYULu7HAAFeNyTxeN7q98beKoh/wiulRuunWcw+W4YcGQg9c9BQB89+E9SvvF3j+ws9bnkvDqV7GLiV2JfbnoD2/CvqL/AIU/LZ/u9F8Y65Y2x/5YmfzMewJrkfhl8E7J59N8Z3jSWN007XUdlGoCIhPyj2r3qgDxPxf8OoPBOm23iyylu9Zu9MuFuLv7fJ5vmRD7wUHgetevabe2mt6Jb3ltsltbqIOoxkFSKs3NtFeWstvcoskUqlHRhkMD1FecfDSeXwzr+qeBb9zttHNxp7MfvwMc4H0oAfrXw4vdG1N9d+HF4NNvGO6ewfm3ufbb/CfetDwt8S7XVL7+xvEVu2i64nBtZzhZPdG6EV3NYHivwXo3jHT/ALPrFqrOvMU6fLJE3qrdRQBv9elFeVJq/iv4YsIfEKy6/wCHlOE1CMZmt1/2x3HvXoui65p3iHTY7/R7uO6t5BkMjZx7H0NAGhXmWoEeLPjfaWI+ey8OwefL3Bnb7v4gV6BrGpw6Not3qNycRW0TSN+AzXE/B3TJx4bufEOoqft2vXLXchPXYT8g/KgD0OgjIweRRRQBzl74J064uWubGW5024Y5L2cuwMeeo6d6hm8EJeyD+09Z1K5iAA8nz9qnjHOBn3rqaKAKun6bZ6XbCCwt0gjHZR1q1RRQAUUUUAFIyhlKsAQRgg96WigDya48z4S+NDcqCPCesTfvQOllOf4vZTXq8ciTRLJEwZHGVYdCKp61o9nr+j3OmanCs1tcIUdWFcB4F1q78Ka+3gPxNMWdQX0q5f8A5bwj+HPqOKAPTaKKKACiiigAooooAKKKKACiiigAoopCQBknA96AFopiTxSMRHIjEdQGBp9ABRRRQB5l8Qj/AMIt478PeL1+WBpfsF63YI/Qn8a9MBDKCOQRkVgeOfDyeKPBeo6W/DywkxNjlXHII/Gs/wCF3iCTxD4Ds5Lri8tc2typ6h0+U5/KgDsKKK4P4jeLriwFt4a8Ofvdf1U7IlXnyI/4pG9MUAY3ii/ufiP4tPg7RZGXR7Jg2sXaHhvSEH19aTxjBDr/AIm0X4daOojsbVVutQEf3UiX7qH6kdK6bStM034Y+AJ5ZGDG3iae5nb700nUk/U1nfCjRZxpt34p1dD/AGnrspnbd1ji/gT8ufxoA76KJIYUijAVEUKoHYCn0Ux54oziSRFP+02KAH15v8VtOudNOneNtIQm80WTM6r1ltyfnB9cda9IBBHBzUVzbxXdrLb3Ch4pUKOp7gjBoAh0rU7fWNJttQsnDwXMYkQj0Iq3Xmfw1uJPDXiHVfAl8xxZsbjTy38cDHoPoTivTKAGvGksbJIodGGCrDIIrzjV/hvd6LqUmt/Di6GmXbHfNYMf9HuT7r2J9RXpNFAHhfiv4gXPiuzs/A+o6dcaRrd9dpDdwyjCmLOWZG6EHFe3WdrHZWMFrAoWOGMIoHoBivH08PWPxX+JWv3mpK/9n6QosLSWJtp837zMCO4JxWgur+KvhfIsPiETeIPDucLqES5ntx/tqOoHrQB6tRWNaeLdBvdHi1S31W2azlIVZTIAMnoPY+1bCsGUFTkEZBHegBaKbJLHEpaV1RR1LHAqKG9tbhsQXMUh9EcGgCeiiigAooooAKKKKACuU8feDk8WaKpt28jVbNvOsbpeGjcds+h711dFAHHfDzxg3iXS5rPU18jWtNbyL6BuCGHG4D0NdjXz58evEE/gXxdp+t+GIp7XVJoWS5nEf7mROwPYsDXdfAzxrdeNfh8tzqk/n31tM0U7ngk9R+hFAHpNFV5L+zifZLdQo391pADU6urqGRgwPQg5oAWiiigAooooAKKKKAMHxf4oh8K6HJeNE9zckYgtYhl5m9B+GT+Fc34ViTx7pSazf61NcCQ82ltIY0hPdWHBzWtZRrqvxE1Cecb002FYYlbBALcsf5VzfifwzqfgvWn8XeB4y8THOp6UPuzr3dR2YUAdU/gTSFy9m1zZy/8APWGdgepPr6k1y+m/EI6T44bwzd3P9q2icPqKLgWzHhY5D0z7iqWo/Ea58f8AkeH/AIdl1uLhA19fOuBZIeq/7/Xiuw0zwFpOieDptGtIt3moWlnfl5JP75PXOaAOrBDKCDkHoaKwvBmoPqPhW1kmOZI8wucHkodp689q3aACvMvDp/4RT4yatoWNlnrMf262HYSD74Huetem15r8Y4JdM03TfF9iD9p0O7R3K9TCx2uPyNAHW+MfFVn4P8Oz6nencyjbDCv3pnPRQPWue+HPhW7gafxT4lAk1zVPmO7n7PH2jHp71ieFYJvij4pj8X6rC8eiWJxpdpIOJG7ykfyr0jXtXtvD+gXep3bBIbWIuffHQUAcB4+nk8X+N9K8D2RJto2F7qjL0WNfuofqcV6bFHHbW6xxgJHGoAA6ACuB+FGjTjTbvxPqqn+0tdlM7buqRfwL7cV0Pje9ksvCtx5DFZJysCkY43HHf60AcjffED+3fG6eG7K8bSrRs7b51/4+mB5WM9PzrqV8CaQ6L9sNzduAB5k07EnAAz19hUOs+AtK13wjBo88fktAgMFxHw8LgfeB+tcfp/xKu/Acc+hfEcM15ar/AKFdxLkXydFA/wBrpmgDW8XFfh7o8ms6drEsfl52WNy5kW4bsi9wSe9dP4Q8Tx+KtCjvfs8lpcYxPay43xN6EVyHhXwxqXi3Wk8YeOYthB3abpjcrbJ2Zh3auhmA0j4jW3kgLFqkDCRQDy6YwfToaAMT4raZc6eNP8aaMhN9osoM6qOZbduHH4Dn8K7zStSt9X0m21CzcPDcRiRGHoRU11bxXlpLbXCh4pUKOpHUEYNeb/DW6k8NeIdV8Cag5zaubnT2Y/fgY9B9DmgD02ue8d6+PDXgrUdS6yJEViXuztwoH4muhrzL4gSHxJ8QPDvhCL54Fk+3X4HTYv3QfqaAOg+GWgHw/wCA7GGYf6XcKbm5Y9Wkc7jn35A/CurkjSWNkkUMjDBUjIIpVUKoVRgAYFLQB8t/Gz4b+IV8TSHwdoFwmjMFldbVxseX+9sB4P4V0/gr4v6zYeCotC1LR7qfxVG4trO2kQqZ+OGYnoB3Ne+15j4St4/EPxe8S63corHSnWwtuOF4yWHvzigB1l8MdS14C+8fa9eXVxJ8xsrSUxQRZ/hwOtWrj4M+HlTOkXGoaVOOVltblgQff1r0KigDy/TPEniDwJ4ittB8cTC/028bZZawoxhuySDsfevUAQQCOQelc38QNCh8Q+CNRs5gNwiMsT90dRkEe9Yvgb4g6PdeBtKm1jVrW3vGgAkSSUBgQSOfyoA76isD/hOvC/8A0HbH/v8ACj/hOvC//Qdsf+/woA36KwP+E68L/wDQdsf+/wAKP+E68L/9B2x/7/CgDforA/4Trwv/ANB2x/7/AArjPGPx58OeEdasbQg6jb3ClpLi1kDeV9R3oA9B17S9K1bSJoNet4Z7MKWcTKCAMdfavCfAngjUNT1jWf8AhBtQutD8JXE/+uLZkuCOD5foPf6V0/jX4l6F4v8AAv2DwpqiS3WpzR2zRg4kjVmGcjtxkV6joml2+i6HaafZxiOG3iVFUD2oA46P4MeF/L/0z7beTd557lmfP1rOv/A3iPwap1LwHrFzdxw/NJpV/IZFlHcKT0Neo0UAc94L8X2fjLQlvrVWhnQ+Xc2z/fgkHVTXQ15lbRr4Z+O8ltaDy7XXrMzSRjoZlPLflXptABRRRQAUUUUAcpp7jTPiFqVvcfKNRjSaFieGK8MOn09a5/xd4t1HxHq7+DvAp3XTfLf6h1S0TuAe7Guo8a+Fn8UaI0NlePp+oRgm2vI+GjJHIz6HvXN+D59P+H2krpOq2E1lKGzLebTItw2fvFhzk9eaAMSf4f33wuki8Q+BTNeKiBdUsJGz9qA6yL6NXfad400nWvB8uuWM4aBIyZEP3o2x90jsafd+N9CtwqfaWnkkUMsUUbMzAjI4x6Vxek/D86r43m15baXSNImw82mk8XMg6OV6CgDtvBNk9j4TtVlBDzbp2BxwXO7HAHrW/SKoRQqjAAwBS0AFeTeMpbj4n+In8F6RM0Wj2p36reR87mHKxA/XrW78RvFl5ZLB4b8MAS69qnyRY5+zoesh+lbngvwla+DvDsWn2xMkp+e4nblppDyzE/WgDm/g5eyxeHLrw7e8XOhXLWu31QcqfyNU/H08vjDxvpXgeyJNojC91R17Ip+VD9SentVLxZq0Xw2+Ki+ILr93pWsWbRTkDgTJkrx6nit34UaPcrpt54l1dT/aOuS+e27qkf8AAv5UAd7DClvCkMKhI41Cqo7AVgeObOS78LTmBS0kDLMqg9dpz6HtXRUjKHUqwyCMEHvQBzmreNtJ0LwlHrd7ODFIg8pEOWlY/wAKjuc1wMPw61D4ned4g8etLZSSL/xK7OFsfY16q59W6E1c1D4fvofjVfEEkc2s6RBlrbTc5Fkx5LKvQj2967O28eeH54ZHN4YPKOHSWNlK4bb0x68UAc14P8W6jomrJ4O8dMFv0+Wxv8YS9Tt/wL2rduyNT+JFlHFlk023eSU8YDPgAdPbsa5/xs1n8QdFOl6Lp8t3dE7oL4qY1tXGcOG69R2rq/B/hj/hGdGWC4uWvL2TDXN04+aVsdTQB0FecfFbTJ9PGn+NtIjJvtEk3TKvWWA/eU/TrXo9RXNvHd2stvOoeOVSrKR1BoArafq1tqGhw6pBIpt5YRKGzwBjNcB8LYpNe1/xD4zvBk31ybW0JHSCM4FcXea/d+B9D1z4fO7G9mnWLRyf44ZSQcf7v9a9r8LaOmgeFtP0yNcfZoFRvc45P50Aa1FFFABXmng2RdB+LHijRbo7H1KRb+2z/EpGCB+Vel1478bdb0HSlstRt9WS08T2D77LyhvZv9hwP4TQB7FRXmWlfF6OxhitvHemXWjXu0fvPKLwye4YdKv3fxm8Hwx/6HeS38x4SG1hZ2Y+nSgDd8d61BoHgnUr64IAELIg7szDAA965jwN8MtBHgbShruj21xfeQGkkkXk5JP9aqWei6/8SdetdV8V2raXoNk/m2umMcvO/Z5P8K9SVQqhVGABgCgDlv8AhWfg3/oX7P8A74o/4Vn4N/6F+z/74rqqKAOV/wCFZ+Df+hfs/wDvij/hWfg3/oX7P/viuqooA5X/AIVn4N/6F+z/AO+K4jxr+z1oninW7G4sJU0i0gUieG3i5l57HPFew0UAeKeLvhV4f8CeCk1XwxYMLvTbiK4lmZizyIrDOe3TngV6/pOoQarpFrfWjiSGeJXVh3BFN1m40630m4bWpYYrMoRKZiApXHPWvCvA/wAQJ/D+qarZ+Gba68QeErSbKyRofMtN3JA/vL1oA+g6K4SD4y+CpYd8mptbt3imhZWH4YrK1D4k6l4p3ab8ONMuLiWT5G1G5jMcMHvz1NAEiuviL49iS1O+DQrIxyuOglc/d/KvTK5nwN4Ng8G6IbcStc3tw5mvLp/vTSHqfpXTUAFFFFABRRRQAUjKrqQ4DA9QRS0UARJawRNujhjVsAZCgcDpUtFFABWD4x8V2ng/w7NqV587/cghX700h6KB65rYvLuCws5bq7kWKGFC7uxwABXmHhu2n+Jni4eK9TiZdC09yuk27jiVgeZiP5UAa/w58K3sElx4p8UDfr2qfM6n/l2j7Rj0xXfUVn69rFtoGg3mqXzhIbaJnJJ6kDgfUnigDx/46SXfiu8h8LaHbrcTadEdSumxnaF+6vsTivVvB+rwa54Q03ULXaI5YF+VeikDBH4GuW+FmiXEmj3viPWkzf685mYMOUiP3U9uO1V/hhI2geIfEPg65bAs7j7TZg94XyePYH+dAHpdFFFABUUlpbzEmaCN89dyg981LRQAiqFGFAA9BS0UUAFFFU9X1GHSNHur+5cJFbxNIzHtgUAeGfFG6vL/AOK0Gr6PaJcQ+EIRJesFyTvYfL+CgmvdNK1KDV9ItdQtGDQ3MSyoR6EZrhPhVobXHg6/1PV499x4hmeeYOOdhyFU/h/OoPhrdT+GvEereBNTf/j1c3OnMx+/A5yFH09KAPTaKKOlAFHW7mC00K9mvLr7HCsD77jODGMdR718l+Dvhl4h1/4j6TrN3a3d5olxe+cb245MkStnLfUV7Zrs8vxR8Ynw3YO3/CO6ZIG1KdDxPIORED6A9a9StreK0tY7e2jWOKJQqIowFA7UANltLee38i4hjlixjY6gj8qgtNG0ywcvZafbW7HqYolU/oKu0UAFFFFABRRRQAUUUUAFFFcz478XweEPD7XGPOvp2ENnbL96WQ8AAelAHkX7QmkX/i3xHpuh+G7q6vNQETSTadG37tE7O3oSeOa7P4CeDbrwh8PPL1S2a2vrydpZo3HzL/CAfwGa2/h14Qm0Ozn1bWj52u6o3m3crclM8iMegFdrQBQn0LSbqbzrnTbSaX++8Kk/mRV2OKOGMJEioo4CqMAU6igAooooAKKKKACiiigAooJwMmuO174peGNBvDZSXb3l6Dj7NZxmVgfQ7en40AdjRXnKfGjSImB1bSNY0yE9Jrizbb+gpvi/4gx6jpNnpfgS6jv9T1gmOGSI5EKfxO3pjNAFPxPezfEjxd/wiGjyH+xrJg+r3SHhz1EIP869NsrODTrGG0s41ighQJGijAUCsfwZ4Ts/B/h+KwtBulb95cTH700h5ZifrW/QAV5f4+Y+NPG2meBrdj9kjYXupsOmxDlUP1OK7/X9ZtvD2g3mq3zhILWIyMT3x2rj/hPpF0dLuvE+sxldT1yTz2DdY4v4F/LFAHfRRJBCkUShURQqgdgK8z+IkT+GvHvh3xnBxAJP7Ovsd0kPyk+wIr0+sHxvoK+JfBmo6Ywy0sJMZ9HHKn8xQBuqyugZDlWGQR3pa5D4Ya62ueBLJ7g5u7UG1uAeodPlP8q6+gAoqtf6lZ6Zb+df3EcEecbnbGTXPyePbE4NlY6jeoQD5kFqxXBAI5x70AdTRWJpvi7SNTuPs8U7Q3H/ADxuEMb/AJGtugArzf4vXcmoWeleELF8XOu3SxSY/hhHLE+3avSOnWvMfDCf8JZ8YNY8RP8APaaRH/Z9p6b+rkfnQB6PY2kdjYQWsI2xwxqigdgBiuA+K2mzWA07xppiE3uiSbpQo5kgPDL+HWvRqiuraK8tJba4UPFKhR1I6gjFAEOlalBrGk2uoWjh4bmMSIw9CK4r4i+Jr03Fv4R8LtnWtSGHkX/l1i7ufT2rkdK8ZP8ACwa34T1RHmltpPM0OPGTcJJ0QfRs12vw58IXOlQT694ibz/EGqHzLiQ8+Up6Rr7CgDe8JeFrHwh4eg0vT14QZkkP3pXPVj7k1t0UE460AFFYF/410axujbCd7m4HWK2jMjDnHOPqKrf8J7p0LgahaX9ihOBJPbMF6E9ccdKAOooqG0vLe+t1ns5kmjboyHIqagAooooAKKKCQBk8AUAVdT1K10fTJ7/UJlhtrdC8jseABXnHgvSrnxx4mPjrxDCyQREpo9rJ0jTvIR6nioNUkl+K3jM6Nau3/CL6TIGvZVPF3KP+WYPcDvXqkEEdtbpDAgSONQqqBgACgCSiiigAooooAKKKKACiiigAooooA85+IWtapqmu2XgjwxMYLu+Uy3t2vW3txwce56V0/hnwVonhWxW30yzTzMfvJ5BukkPcljXK+CgLn4weM7qfmaLyYUB/hTBPH1r0mgCOW2hmjKTQo6kYIZQRXlfjLwiPA2or448GweSbY/8AEwsUHyTRE/MwHYj2r1iq2pQRXWl3ME6ho5ImVge4xQA3StSg1jSLXUbRt0N1EsqH2IzVuvPPghcSz/DK3WUlhDdXEKE/3FlYL+grstf1q28PaDearfNthtYi7e+B0oA4Hx6zeMvG+l+CbdibWJhe6mVP/LMfdQ/WvTYo0hhSKJQqIoVVHQAV5/8ACfR7ptLuvFOtJjVNdkNwwYcxx/wJ7cdq9CoAKOtFFAHl/hw/8Ih8ZtX0J/lstcjF9aZ6eYPvqK9Ivr2HTrCa7uW2xQoXY/SuB+L1jJbafpfiqyX/AEnQ7pZW29WiJw4+mDmtXxlqEd/4FguLd90F68PzA9VZhQBw2rXev6br1p4z8S2Yv9AmG02qgk2Kk/LJjv6nPSvX9MvrLU9NhvNMljltpkDRvHjBFSG1hmsBbSxrJC0ewowyCMdK+f8AxZrN98KPEN5pPga8FxY3qeZNaspk/swseZBjoOScUAdv8TNYi1O4Twn4bs473xDc8CZeBYg8eYzDoRXReCLrU7OOTw94in+1X9iikXRGPPQ98dsdKi+G3hnSdG8Px39hdjU7vUFE1zqJO5p2P8h7VPrLGD4iaE8ON00U0cnAzt4Pr/SgC5468QJ4Z8F6jqbnDxxFYh6yNwo/MiqXwy8Pt4e8C2UM4/0q4BuLgnqXfk/zrnfiBnxV8QfD3hCIk28Mn9o32Oyp9wH2JxXpyqEUKowAMAelAC1W1HULbStOnvr+VYbeBC7uxwABVknAyeBXlGt3M3xR8Zf8I7prsPDmlyBtSuFPFxIP+WQPoD1oA4/W4td8S3y/FN7fZY6VOv2GzZMtJbAnc59zyRXvmlajb6vpNtqFk4kguIxIjA9QRSnTrU6WdO8hBa+V5XlAcbcYxXnfw0nm8LeItU8B6g5KWrm5012P34GOcfhQB6dXEeOJ9Z1tpPDXhW6FnetF5s12RxEvYfUn9K7euU8Kt5/iTxHNJzIt2IgSc4UKMfzoAxvhn4gs3jfw9qVhHpmvWQ2zwt1mxx5ik8sDXZa9qum6Lo099rUkcdpEpLmTHPt7muR+Kfh7TJ9FPiFr5dI1XTR5ltfjg5H8BH8QPTFcH4I1C4+LHiiI+O51gXTY1kt9J2lBcN/z1IP3h7UAanh258RRapc+NbW2/s/w7IwjTSjkGSMnmY/3T3wBzXssEyXECTRnKOoYH2NVtRgiOi3MGxRF5LLtxwBisvwLLJN4K09pfvbCM4A4DEDoTQB0FFFFABXnXxF8R395eweC/Cj/APE21Af6ROv/AC6Q/wATH3x0rf8AHXjGHwfoJnCG4v5z5VnbL96WQ9B9Kz/h14QuNDsZtW15xPr+pnzbuU/wZ6IPQCgDf8L+G7LwpoFvpenJhIl+Zz1kbux9zWvRRQAUUUUAFFFFABRRRQAUUUUAFFFFAHluvXP/AAgHxYj1+5UjRtejW2upu0My/cY+gxkV6hHIksayRMHRhlWByCKqavpFjrulzadqlulxbTrtdGH6+xrz2Hwj448GEw+DtWh1LSwfksdRyWjHor/40Aen1xPxR8XR+GvC00Fs2/VL5TDaQJyxJ43Y9BWY+ofFbUV8iHSdK0ong3Ek3m49wBWh4W+G8el6s2u+JL6TW9ckGPtEw+SIHsi9BQBN8K5NHTwFYWei30V2bdMXGxuVlPL5Hb5s1iePZG8YeNtL8E2x3WkbLeant6eWD8qH6mmePvBtn4dhu/GXhm//ALB1C2QyTbP9TcezJ0yema534ReKYbDVr2Xxyklhr+uyCeOe4TbHNHgbVQn+VAHuMcaxRrHGAqqAAB2FOoBBAIOQe9FABRRRQBT1bTotW0e70+5UNFcxNGwPuMV5r4CE2reANV8I3jn+0NFne2G4kEqDujbjnGMflXq1eYapH/wiHxvs9UX5LHxHB9ln9POT7pP4HFAEWpfEe+vLO38M+GLcyeKJV8q4RhxZY4Luf1FdP4N8Aaf4X0eaK4/0+/vstf3c43NOzdQfbk8VY1fwdb3OptrOjuNO1hl2m6jX/WDsHHcUyG58Y20MiXFlY3br/q5ElKbhuxyMcfLzQBxt1aX3wf1iTUNMjluvCF1JuubVfmNiT1ZB/d9q6XQ9Th8UeIJfEdux/sqygMdtKcgSZ5ZvpxUt54c1rxPbta+JbyKHT5ARLZ2oP70c8Fj26VnfEy+j8K/Dr+ydCiWC4v2WwtIohjaX4Jx7CgCt8L4m13Xdf8ZTjP264NvaE9oUOOPYkZr0qsjwrocXhvwtp+kwgAW0Kocd2xyfzqn448XW3g7w897MPNuZD5drbr96aQ9ABQBg/EXxTdNdW/g7wwxbW9TB3OvP2WHozn0PPFdP4T8M2fhPw9b6ZYoMIMyyd5XP3mPuTWD8OvCNxpNvca5r5E+vaqwluJG58pe0a+gFdxQAV5z8VdPuNPXT/GekoTeaLJumC9ZID99T/OvRqiubeK7tZbe4QPFKpR1I4INAEOlalb6xpNtqFk4kguY1kRh6EZrkta1m28C+I7nVNVfydJvYt0kxJISVe34j0rJ+Gsz+FPEOp+A75yVtnNzprMfvQMc7R/u5xXoGs6Lp/iDS5tO1e1S6tZl2vG46/wCFAHm2kaNqHxR1qHxD4ohkt9Atn36fpj8ece0kg/kK6Txx4Bh8RW8F9pMn9na3p/zWV3EMEY/gPqp6YqaDSPEegJ5OjXUN/ZL/AKuC6+VkHPAYfgKmuJvGF03lW1vY2S4GZncyEcdl+vFAHJ2fxGvNR0qfw3qNm9v4rH7hrYA4cHjzVP8Adx3r0fSLAaZpFtZqc+TGFJPc96ytD8IWul6lLq125vdXmXbJeSAbseg9BXQ0AFU9V1S00XSrjUdRmWG2t0LyOx6AVcJABJ4A615PqU7/ABW8ZnR7NifDOjzD7dIPu3Uo/wCWYPcDvQBY8F6dd+OPEzeOdfhZLVMpo9pIP9Wn/PQj1NeoUyGGO3hSGFAkaKFVVGAAKfQAUUUUAFFFFABRRRQAUUUUAFFFFABRRRQAUUUUAFFFZ3iDWbfw9oF5ql4wWK2iLn39BQBwXj2V/F3jjS/BNqS1rGVvNTK9Ag5RT9TXa694T0bxJo/9matZRzW6qFTjBjwOCp7Vy/wn0O6i0y88TayCdT16U3DbuscR/wBWn4LjivQaAPKSPFnws5Xz/EnhpO3W5tV/9mArv/DninSPFemre6JdpPGfvL0ZD6MOoNa5GRg1594h+GeNSbXPBF5/Yer53MEGIbj2dR6+tAHoNFee+HPiYyamNB8dWn9iawDtjeQ/ubn3Run4GvQQQygqcg9CKAFrivivocms+B55bMf6bp7reW5HUMnP8q7WmyRrLE0cgDK4IIPcUAZPhPXIvEfhTT9VgbK3MIY+x6H9RWxXmPwwkbw54m8QeCbliFtbj7XYhv4oX/wNenUAFeZXqjxd8b7a2+/ZeG4fOcdvPf7v5CvQNZ1S30TRbvUrxtsFrC0rn2AzXFfCDTph4auPEGoDF5rlw125PZCflH5UAdzqF/baXp897eyrFbwIXkdjgAAV5r4Q064+IHir/hN9cjZLC2JTSLSQcAf89SPU9qj1yab4peMj4dsZGXw5pcgfUZ0PFzIDxED3Gev0r1O2t4rS1jt7dFjiiUKiKMAAdqAJKKKKACiiigDzj4radcacth400iMte6LIDKqjmSAnDj3wOa7vSdTt9Z0i11GycPBcxiRGB7EVYubeO7tZbedQ8UqFHU9wRgivNvhtNL4X8Rap4Fv3O22c3Omlv4oGP3R9DnigD02iiigAoormfHfi+Lwh4fa4VPPvp2ENnbLy0sh6ACgDB+IniO9vNQt/BXheQjVdQXNxMn/LrD3Y+hI6V1vhfw5ZeFPD9tpWnRhY4V+ZscyN3Y+pJrB+HXg6XQbOfVdaf7RruqHzruZuSmeRGPYdK7WgAooooAKKKKACiiigAooooAKKKKACiiigAooooAKKo6zrVhoGlTajqtwtvbQrlmY/oPU153H4n8f+N2MvhDT7bRNKJ+S81NS0kw9VQdPxoA9SrzDx7cN4v8c6V4HtfmtoyL3U2Xsin5UP1P8AKlfQ/ixpqme08SaVqTDkwXFqyA+wIJrP+GGrQ6f4q1e08WW81h4p1KfzWFxgpIgGAI27gUAetxRJBCkUShURQqgdgKfRRQAUUUUAZPiHwxpPijT2s9as0uIz0JGGQ+oPUGvPmHi34WSbkE3iTwyDyOtzaL7D+IV6vSEBgQwyD1BoAyfDvijSfFOnreaLdpOhHzLnDIfRh1BrXrzHx34JtdDtbzxf4WvG0PUbVDNL5SkxXAHOHQdc+teU/DL486vL8RJIvGN0DY6iQijG1IG6AgdgaAK3x08TeLtB+KH2yCH+ygsJhtby3z+/iJzyfXPavpXwhcT3fgnRbi7kMs8thA8rt1ZigJP515z8WdS0jxfAfCGmaVJr2rNhwbdwq2vozPg4+lTaT4S+KcOj2dq3ifTNPS1gSKKGK1aTCqoADMSMnA5NAGh8XLh9Ug0nwdauRLrl0sc23qsAOXP5UnjnXLq0hsfAvg0AareRiIuvS0hAwXPpx0rltUbxn4N8Sr4o8XaZDrwt7ZoIbuwJVbcH+JkIJ+pB6V2Pwq0SI6XL4nvL2LUtV1c+ZNcxnKovaNc8gCgDp/Cfhiz8JeH4NMsBkIMySH70r92PuTW1RRQAUUUUAFFFFABXz/8AtBeLLvwp4o0TUtHsJYtQtQWW/I/dup4MZ9a+gK5b4hp4Zfwfdf8ACZrGdP2nO4ZbPbb3zQBj/BbxXqPjD4ewajrMwmvPMZXcKBnnjgV6DXz/APDXw/8AEGy0Oey8JG30nRZZ2kguNTjLTMh6YUHj8a7J9I+LGkr9otdf0rV9vLW89s0ZYegIJwaAPQ9U1O10bS59Q1CVYbeBC7ux6AV5z4K0q88b+JW8deIo2S3TMekWTjiOP/noR6msObWL/wCJnjGw8MeJLf8AsG3sx597p8r5a7cHgKehSvaoYY7eBIYUCRxqFVQOABQA+iiigAooooAKKKKACiiigAooooAKKKKACiiigAooooA8t1q2/wCE9+Lsei3RLaP4fjW5uIe0s7fcB9QBk16giLGgSNQqqMAAcCvOPBbC1+MPjK0n4mm8maMnq6YI4+lek0AFcd8SvCy+IfDEs9oPL1Sw/wBIs51HzK684z6GuxqrqdzFaaVdXFwwWKOJmYnsMUAZPgXxAPE/gvTtTP8ArZIgs3tIvDfqDXQV4Z8OvAmu6t4Htryz8V3+jwzTzyJbQohXa0hIIyM8g10//CsvE3/RQ9V/79x/4UAemUV5n/wrLxN/0UPVf+/cf+FH/CsvE3/RQ9V/79x/4UAemUV5n/wrLxN/0UPVf+/cf+FH/CsvE3/RQ9V/79x/4UAdprniLQtGeC116+t7Y3hKxpOcCT25rg/ib4X8FW/ge91kaFYz3G0C3lhUAlycLgj3rz34rfB3xnqd1pUdjqt54hyWDPcbVEHvxioL34UeJPA/gcalrXiGW5t4J4Xl09WLRoocc5NAHtnwz8G23hDwjbR7RJfXKiW6uG5Z2I9fQDiuxqCwlSfT7eWIgo8asuPQip6AGuiyxlJFDKwwQRkEV5j4cg/4Qf4s3Xh2AldK1mJru0i/hhkB+ZR9c9K9Qryf4hWU+v8AxW8O6Vpl7JY3cdtNM1zCAWiXgZ5oA9YorzP/AIVl4m/6KHqv/fuP/Cj/AIVl4m/6KHqv/fuP/CgD0yivM/8AhWXib/ooeq/9+4/8KP8AhWXib/ooeq/9+4/8KAPTKbJIsUbSSHaqgliewrzX/hWXib/ooeq/9+4/8Kgvfhh4naxnVfH+qykxsAhRPm46dKAO80XxVofiKMvouqW14AcERyAnP0rhZLYePPjBNFefvdI8Nhf3B+69yeckd8CvGvBHwB8dT3wupr2Tw8isf3iyHzD9ADXsHwhtJdE8S+LdH1C6e6vY7xZDPLw0y7AN1AHqqqFUKoAAGAB2paKKAOF+KXhn+0/Dp1jTR5Ws6SftNrOnDfLyVJ9CK6LwnraeI/Cmn6rH0uYQx+vQ/rUviW6isvC+pXFywWNLZyxP+6a5z4P20tr8K9HSdSrNGzhT2BYkUAdtRRRQAUUUUAFFFFABRRRQAUUUUAFFFFABRRRQAUUUUAed/EHQtUsdbsvGvheIzX1gpju7Vf8Al5gPJA9x1rofC3jrRPFliJtPu0SZeJbaU7ZIm7gqa6OuP8QfC7wv4hvzqFxY/ZtQPP2u1YxyZ9SR1oA6ua6gt4zJPNHGgGSzsAK8t8VeJ5PiHeHwf4MZpraRsalqSD93FHnlAe5NaQ+C+iTsF1fU9W1WAf8ALC7vGZPyzXb6Poum6Bp6WOjWcNnbJ0jhQKPrQBJpenwaTpNrp9ou2G2iWJB7AYq1RRQAUUUUAFFFFABVLWNKt9b0e6069XdDcxmNh9RV2igDynwl4rn8B3S+DvHDtCkR26dqT/6uePPCluzCvUYrmCeMPDNHIhGQysCKq6zoemeIdPax1qyhvLZuscyBhn1+tcSfgvosBK6Tqmr6ZB/zwtbxlT6YzQB0Hivx7ofhKyMt9dLLcMMQ2sJ3SSt2AArD+Hmg6ncapfeMfE0Xk6jqQCwWx/5doR0X6+tafh74Y+GPDd8L+1sRPqAOftlyxkkz6gnpXXUAFFFFABRRRQAUUUUAFeb+OtK1Pw94nt/HXh23e7aGPydRs4/vTQ9cj3FekUUAYPhrxponiqwW50q9jY/xwudrxn0KnkVsXF7bWkLS3VxFFGoyWdwABXI658KfC2t6g2ofYzY37HJurJzE5PqSOtZ6fBfQZ3H9tX+qaxEpyIb27Z0/LNAGT4i16X4pakPC3hXe2jrIDqepAYQqD/q1PfNeqWdrFY2UNrbrtihQIgHYAYqLTNKsdGsI7LSrWK0toxhIolCqPwFW6ACiiigAooooAKKKKACiiigAooooAKKKKACiiigAooooAKKKKACiiigAooooAKKKKACiiigAooooAKKKKACiiigAooooAKKKKACiiigAooooAKKKKACiiigAooooAKKKKACiiigAooooAKKKKACiiigAooooAKKKKACiiigAooooAKKKKACiiigAooooAKKKKACiiigAooooAKKKKACiiigAooooAKKKKACiiigAooooAKKKKACiiigAooooAKKKKACiiigAooooA//Z)\n",
        "\n",
        "So each iteration has a different set of nodes and this results in a different set of outputs. It can also be thought of as an ensemble technique in machine learning.\n",
        "\n",
        "Ensemble models usually perform better than a single model as they capture more randomness. Similarly, dropout also performs better than a normal neural network model.\n",
        "\n",
        "We just need to choose the probability of choosing how many nodes should be dropped at every iteration. "
      ]
    },
    {
      "cell_type": "code",
      "metadata": {
        "id": "5m-PvBrYrEcK"
      },
      "source": [
        "from keras.layers.core import Dropout\n",
        "\n",
        "# --\n",
        "\n",
        "model = Sequential() # neural network\n",
        "\n",
        "# The input layer requires the special input_shape parameter which should match\n",
        "# the shape of our training data.\n",
        "# --\n",
        "\n",
        "for u in range(1, len(h_units)):\n",
        "  # --\n",
        "  # --\n",
        "\n",
        "# --\n",
        "\n",
        "model.summary()\n",
        "# --"
      ],
      "execution_count": null,
      "outputs": []
    },
    {
      "cell_type": "code",
      "metadata": {
        "id": "84nmjVb1zKqX"
      },
      "source": [
        "history = model.fit(X_train, y_train, batch_size=128, epochs=5, verbose=2, validation_data=(X_val, y_val)) # talk about validation_split\n",
        "loss, accuracy  = model.evaluate(X_val, y_val, verbose=False)\n",
        "\n",
        "\n",
        "plt.plot(history.history['accuracy'])\n",
        "plt.plot(history.history['val_accuracy'])\n",
        "plt.title('model accuracy')\n",
        "plt.ylabel('accuracy')\n",
        "plt.xlabel('epoch')\n",
        "plt.legend(['training', 'validation'], loc='best')\n",
        "plt.show()\n",
        "\n",
        "print(f'Validation loss: {loss:.3}')\n",
        "print(f'Validation accuracy: {accuracy:.3}')"
      ],
      "execution_count": null,
      "outputs": []
    },
    {
      "cell_type": "markdown",
      "metadata": {
        "id": "6O8dSCiIrFEl"
      },
      "source": [
        "### Early Stopping"
      ]
    },
    {
      "cell_type": "markdown",
      "metadata": {
        "id": "MW8HSWhj3Lhl"
      },
      "source": [
        "Early stopping monitors the validation set. When we see that the performance on the validation set is getting worse, we immediately stop the training on the model.\n",
        "\n",
        "![es.JPG](data:image/jpeg;base64,/9j/4AAQSkZJRgABAQEAYABgAAD/4RD0RXhpZgAATU0AKgAAAAgABAE7AAIAAAAOAAAISodpAAQAAAABAAAIWJydAAEAAAAcAAAQ0OocAAcAAAgMAAAAPgAAAAAc6gAAAAgAAAAAAAAAAAAAAAAAAAAAAAAAAAAAAAAAAAAAAAAAAAAAAAAAAAAAAAAAAAAAAAAAAAAAAAAAAAAAAAAAAAAAAAAAAAAAAAAAAAAAAAAAAAAAAAAAAAAAAAAAAAAAAAAAAAAAAAAAAAAAAAAAAAAAAAAAAAAAAAAAAAAAAAAAAAAAAAAAAAAAAAAAAAAAAAAAAAAAAAAAAAAAAAAAAAAAAAAAAAAAAAAAAAAAAAAAAAAAAAAAAAAAAAAAAAAAAAAAAAAAAAAAAAAAAAAAAAAAAAAAAAAAAAAAAAAAAAAAAAAAAAAAAAAAAAAAAAAAAAAAAAAAAAAAAAAAAAAAAAAAAAAAAAAAAAAAAAAAAAAAAAAAAAAAAAAAAAAAAAAAAAAAAAAAAAAAAAAAAAAAAAAAAAAAAAAAAAAAAAAAAAAAAAAAAAAAAAAAAAAAAAAAAAAAAAAAAAAAAAAAAAAAAAAAAAAAAAAAAAAAAAAAAAAAAAAAAAAAAAAAAAAAAAAAAAAAAAAAAAAAAAAAAAAAAAAAAAAAAAAAAAAAAAAAAAAAAAAAAAAAAAAAAAAAAAAAAAAAAAAAAAAAAAAAAAAAAAAAAAAAAAAAAAAAAAAAAAAAAAAAAAAAAAAAAAAAAAAAAAAAAAAAAAAAAAAAAAAAAAAAAAAAAAAAAAAAAAAAAAAAAAAAAAAAAAAAAAAAAAAAAAAAAAAAAAAAAAAAAAAAAAAAAAAAAAAAAAAAAAAAAAAAAAAAAAAAAAAAAAAAAAAAAAAAAAAAAAAAAAAAAAAAAAAAAAAAAAAAAAAAAAAAAAAAAAAAAAAAAAAAAAAAAAAAAAAAAAAAAAAAAAAAAAAAAAAAAAAAAAAAAAAAAAAAAAAAAAAAAAAAAAAAAAAAAAAAAAAAAAAAAAAAAAAAAAAAAAAAAAAAAAAAAAAAAAAAAAAAAAAAAAAAAAAAAAAAAAAAAAAAAAAAAAAAAAAAAAAAAAAAAAAAAAAAAAAAAAAAAAAAAAAAAAAAAAAAAAAAAAAAAAAAAAAAAAAAAAAAAAAAAAAAAAAAAAAAAAAAAAAAAAAAAAAAAAAAAAAAAAAAAAAAAAAAAAAAAAAAAAAAAAAAAAAAAAAAAAAAAAAAAAAAAAAAAAAAAAAAAAAAAAAAAAAAAAAAAAAAAAAAAAAAAAAAAAAAAAAAAAAAAAAAAAAAAAAAAAAAAAAAAAAAAAAAAAAAAAAAAAAAAAAAAAAAAAAAAAAAAAAAAAAAAAAAAAAAAAAAAAAAAAAAAAAAAAAAAAAAAAAAAAAAAAAAAAAAAAAAAAAAAAAAAAAAAAAAAAAAAAAAAAAAAAAAAAAAAAAAAAAAAAAAAAAAAAAAAAAAAAAAAAAAAAAAAAAAAAAAAAAAAAAAAAAAAAAAAAAAAAAAAAAAAAAAAAAAAAAAAAAAAAAAAAAAAAAAAAAAAAAAAAAAAAAAAAAAAAAAAAAAAAAAAAAAAAAAAAAAAAAAAAAAAAAAAAAAAAAAAAAAAAAAAAAAAAAAAAAAAAAAAAAAAAAAAAAAAAAAAAAAAAAAAAAAAAAAAAAAAAAAAAAAAAAAAAAAAAAAAAAAAAAAAAAAAAAAAAAAAAAAAAAAAAAAAAAAAAAAAAAAAAAAAAAAAAAAAAAAAAAAAAAAAAAAAAAAAAAAAAAAAAAAAAAAAAAAAAAAAAAAAAAAAAAAAAAAAAAAAAAAAAAAAAAAAAAAAAAAAAAAAAAAAAAAAAAAAAAAAAAAAAAAAAAAAAAAAAAAAAAAAAAAAAAAAAAAAAAAAAAAAAAAAAAAAAAAAAAAAAAAAAAAAAAAAAAAAAAAAAAAAAAAAAAAAAAAAAAAAAAAAAAAAAAAAAAAAAAAAAAAAAAAAAAAAAAAAAAAAAAAAAAAAAAAAAAAAAAAAAAAAAAAAAAAAAAAAAAAAAAAAAAAAAAAAAAAAAAAAAAAAAAAAAAAAAAAAAAAAAAAAAAAAAAAAAAAAAAAAAAAAAAAAAAAAAAAAAAAAAAAAAAAAAAAAAAAAAAAAAAAAAAAAAAAAAAAAAAAAAAAAAAAAAAAAAAAAAAAAAAAAAAAAAAAAAAAAAAAAAAAAAAAAAAAAAAAAAAAAAAAAAAAAAAAAAAAAAAAAAAAAAAAAAAAAAAAAAAAAAAAAAAAAAAAAAAAAAAAAAAAAAAAAAAAAAAAAAAAAAAAAAAAAAAAAAAAAAAAAAAAAAAAAAAAAAAAAAAAAAAAAAAAAAAAAAAAAAAAAAAAAAAAAAAAAAAAAAAAAAAAAAAAAAAAAAAAAAAAAAAAAAAAAAAAAAAAAAAAAAAAAAAAAAAAAAAAAAAAAAAAAAAAAAAAAAAAAAAAAAAAAAAAAAAAAAAAAAAAAAAAAAAAAAAAAAAAAAAAAAAAAAAAAAAAAAAAAAAAAAAAAAAAAAAAAAAAAAAAAAAAAAAAAAAAAAAAAAAAAAAAAAAAAAAAAAAAAAAAAAAAAAAAAAAAAAAAAAAAAAAAAAAAAAAAAAAAAAAAAAAAAAAAAAAAAAAAAAAAAAAAAAAAAAAAAAAAAAAAAAAAAAAAAAAAAAAAAAAAAAAAAAAAAAAAAAAAAAAAAAAAAAAAAAAAAAAAAAAAAAAAAAAAAAAAAAAAAAAAAAAAAAAAAAAAAAAAAAAAAAAAAAAAAAAAAAAAAAAAAAAAAAAAAAAAAAAAAAAAAAAAAAAAAAAAAAAAAAAAAAAAAAAAAAAAAAAAAAAAAAAAAAAAAAAAAAAAAAAAAEp1bGlhIEVsIFppbmkAAAWQAwACAAAAFAAAEKaQBAACAAAAFAAAELqSkQACAAAAAzA4AACSkgACAAAAAzA4AADqHAAHAAAIDAAACJoAAAAAHOoAAAAIAAAAAAAAAAAAAAAAAAAAAAAAAAAAAAAAAAAAAAAAAAAAAAAAAAAAAAAAAAAAAAAAAAAAAAAAAAAAAAAAAAAAAAAAAAAAAAAAAAAAAAAAAAAAAAAAAAAAAAAAAAAAAAAAAAAAAAAAAAAAAAAAAAAAAAAAAAAAAAAAAAAAAAAAAAAAAAAAAAAAAAAAAAAAAAAAAAAAAAAAAAAAAAAAAAAAAAAAAAAAAAAAAAAAAAAAAAAAAAAAAAAAAAAAAAAAAAAAAAAAAAAAAAAAAAAAAAAAAAAAAAAAAAAAAAAAAAAAAAAAAAAAAAAAAAAAAAAAAAAAAAAAAAAAAAAAAAAAAAAAAAAAAAAAAAAAAAAAAAAAAAAAAAAAAAAAAAAAAAAAAAAAAAAAAAAAAAAAAAAAAAAAAAAAAAAAAAAAAAAAAAAAAAAAAAAAAAAAAAAAAAAAAAAAAAAAAAAAAAAAAAAAAAAAAAAAAAAAAAAAAAAAAAAAAAAAAAAAAAAAAAAAAAAAAAAAAAAAAAAAAAAAAAAAAAAAAAAAAAAAAAAAAAAAAAAAAAAAAAAAAAAAAAAAAAAAAAAAAAAAAAAAAAAAAAAAAAAAAAAAAAAAAAAAAAAAAAAAAAAAAAAAAAAAAAAAAAAAAAAAAAAAAAAAAAAAAAAAAAAAAAAAAAAAAAAAAAAAAAAAAAAAAAAAAAAAAAAAAAAAAAAAAAAAAAAAAAAAAAAAAAAAAAAAAAAAAAAAAAAAAAAAAAAAAAAAAAAAAAAAAAAAAAAAAAAAAAAAAAAAAAAAAAAAAAAAAAAAAAAAAAAAAAAAAAAAAAAAAAAAAAAAAAAAAAAAAAAAAAAAAAAAAAAAAAAAAAAAAAAAAAAAAAAAAAAAAAAAAAAAAAAAAAAAAAAAAAAAAAAAAAAAAAAAAAAAAAAAAAAAAAAAAAAAAAAAAAAAAAAAAAAAAAAAAAAAAAAAAAAAAAAAAAAAAAAAAAAAAAAAAAAAAAAAAAAAAAAAAAAAAAAAAAAAAAAAAAAAAAAAAAAAAAAAAAAAAAAAAAAAAAAAAAAAAAAAAAAAAAAAAAAAAAAAAAAAAAAAAAAAAAAAAAAAAAAAAAAAAAAAAAAAAAAAAAAAAAAAAAAAAAAAAAAAAAAAAAAAAAAAAAAAAAAAAAAAAAAAAAAAAAAAAAAAAAAAAAAAAAAAAAAAAAAAAAAAAAAAAAAAAAAAAAAAAAAAAAAAAAAAAAAAAAAAAAAAAAAAAAAAAAAAAAAAAAAAAAAAAAAAAAAAAAAAAAAAAAAAAAAAAAAAAAAAAAAAAAAAAAAAAAAAAAAAAAAAAAAAAAAAAAAAAAAAAAAAAAAAAAAAAAAAAAAAAAAAAAAAAAAAAAAAAAAAAAAAAAAAAAAAAAAAAAAAAAAAAAAAAAAAAAAAAAAAAAAAAAAAAAAAAAAAAAAAAAAAAAAAAAAAAAAAAAAAAAAAAAAAAAAAAAAAAAAAAAAAAAAAAAAAAAAAAAAAAAAAAAAAAAAAAAAAAAAAAAAAAAAAAAAAAAAAAAAAAAAAAAAAAAAAAAAAAAAAAAAAAAAAAAAAAAAAAAAAAAAAAAAAAAAAAAAAAAAAAAAAAAAAAAAAAAAAAAAAAAAAAAAAAAAAAAAAAAAAAAAAAAAAAAAAAAAAAAAAAAAAAAAAAAAAAAAAAAAAAAAAAAAAAAAAAAAAAAAAAAAAAAAAAAAAAAAAAAAAAAAAAAAAAAAAAAAAAAAAAAAAAAAAAAAAAAAAAAAAAAAAAAAAAAAAAAAAAAAAAAAAAAAAAAAAAAAAAAAAAAAAAAAAAAAAAAAAAAAAAAAAAAAAAAAAAAAAAAAAAAAAAAAAAAAAAAAAAAAAAAAAAAAAAAAAAAAAAAAAAAAAAAAAAAAAAAAAAAAAAAAAAAAAAAAAAAAAAAAAAAAAAAAAAAAAAAAAAAAAAAAAAAAAAAAAAAAAAAAAAAAAAAAAAAAAAAAAAAAAAAAAAAAAAAAAAAAAAAAAAAAAAAAAAAAAAAAAAAAAAAAAAAAAAAAAAAAAAAAAAAAAAAAAAAAAAAAAAAAAAAAAAAAAAAAAAAAAAAAAAAAAAAAAAAAAAAAAAAAAAAAAAAAAAAAAAAAAAAAAAAAAAAAAAAAAAAAAAAAAAAAAAAAAAAAAAAAAAAAAAAAAAAAAAAAAAAAAAAAAAAAAAAAAAAAAAAAAAAAAAAAAAAAAAAAAAAAAAAAAAAAAAAAAAAAAAAAAAAAAAAAAAAAAAAAAAAAAAAAAAAAAAAAAAAAAAAAAAAAAAAAAAAAAAAAAAAAAAAAAAAAAAAAAAAAAAAAAAAAAAAAAAAAAAAAAAAAAAAAAAAAAAAAAAAAAAAAAAAAAAAAAAAAAAAAAAAAAAAAAAAAAAAAAAAAAAAAAAAAAAAAAAAAAAAAAAAAAAAAAAAAAAAAAAAAAAAAAAAAAAAAAAAAAAAAAAAAAAAAAAAAAAAAAAAAAAAAAAAAAAAAAAAAAAAAAAAAAAAAAAAAAAAAAAAAAAAAAAAAAAAAAAAAAAAAAAAAAAAAAAAAAAAAAAAAAAAAAAAAAAAAAAAAAAAAAAAAAAAAAAAAAAAAAAAAAAAAAAAAAAAAAAAAAAAAAAAAAAAAAAAAAAAAAAAAAAAAAAAAAAAAAAAAAAAAAAAAAAAAAAAAAAAAAAAAAAAAAAAAAAAAAAAAAAAAAAAAAAAAAAAAAAAAAAAAAAAAAAAAAAAAAAAAAAAAAAAAAAAAAAAAAAAAAAAAyMDIwOjEwOjE5IDE1OjM3OjM4ADIwMjA6MTA6MTkgMTU6Mzc6MzgAAABKAHUAbABpAGEAIABFAGwAIABaAGkAbgBpAAAA/+ELIGh0dHA6Ly9ucy5hZG9iZS5jb20veGFwLzEuMC8APD94cGFja2V0IGJlZ2luPSfvu78nIGlkPSdXNU0wTXBDZWhpSHpyZVN6TlRjemtjOWQnPz4NCjx4OnhtcG1ldGEgeG1sbnM6eD0iYWRvYmU6bnM6bWV0YS8iPjxyZGY6UkRGIHhtbG5zOnJkZj0iaHR0cDovL3d3dy53My5vcmcvMTk5OS8wMi8yMi1yZGYtc3ludGF4LW5zIyI+PHJkZjpEZXNjcmlwdGlvbiByZGY6YWJvdXQ9InV1aWQ6ZmFmNWJkZDUtYmEzZC0xMWRhLWFkMzEtZDMzZDc1MTgyZjFiIiB4bWxuczpkYz0iaHR0cDovL3B1cmwub3JnL2RjL2VsZW1lbnRzLzEuMS8iLz48cmRmOkRlc2NyaXB0aW9uIHJkZjphYm91dD0idXVpZDpmYWY1YmRkNS1iYTNkLTExZGEtYWQzMS1kMzNkNzUxODJmMWIiIHhtbG5zOnhtcD0iaHR0cDovL25zLmFkb2JlLmNvbS94YXAvMS4wLyI+PHhtcDpDcmVhdGVEYXRlPjIwMjAtMTAtMTlUMTU6Mzc6MzguMDc3PC94bXA6Q3JlYXRlRGF0ZT48L3JkZjpEZXNjcmlwdGlvbj48cmRmOkRlc2NyaXB0aW9uIHJkZjphYm91dD0idXVpZDpmYWY1YmRkNS1iYTNkLTExZGEtYWQzMS1kMzNkNzUxODJmMWIiIHhtbG5zOmRjPSJodHRwOi8vcHVybC5vcmcvZGMvZWxlbWVudHMvMS4xLyI+PGRjOmNyZWF0b3I+PHJkZjpTZXEgeG1sbnM6cmRmPSJodHRwOi8vd3d3LnczLm9yZy8xOTk5LzAyLzIyLXJkZi1zeW50YXgtbnMjIj48cmRmOmxpPkp1bGlhIEVsIFppbmk8L3JkZjpsaT48L3JkZjpTZXE+DQoJCQk8L2RjOmNyZWF0b3I+PC9yZGY6RGVzY3JpcHRpb24+PC9yZGY6UkRGPjwveDp4bXBtZXRhPg0KICAgICAgICAgICAgICAgICAgICAgICAgICAgICAgICAgICAgICAgICAgICAgICAgICAgICAgICAgICAgICAgICAgICAgICAgICAgICAgICAgICAgICAgICAgICAgICAgICAgIAogICAgICAgICAgICAgICAgICAgICAgICAgICAgICAgICAgICAgICAgICAgICAgICAgICAgICAgICAgICAgICAgICAgICAgICAgICAgICAgICAgICAgICAgICAgICAgICAgICAgCiAgICAgICAgICAgICAgICAgICAgICAgICAgICAgICAgICAgICAgICAgICAgICAgICAgICAgICAgICAgICAgICAgICAgICAgICAgICAgICAgICAgICAgICAgICAgICAgICAgICAKICAgICAgICAgICAgICAgICAgICAgICAgICAgICAgICAgICAgICAgICAgICAgICAgICAgICAgICAgICAgICAgICAgICAgICAgICAgICAgICAgICAgICAgICAgICAgICAgICAgIAogICAgICAgICAgICAgICAgICAgICAgICAgICAgICAgICAgICAgICAgICAgICAgICAgICAgICAgICAgICAgICAgICAgICAgICAgICAgICAgICAgICAgICAgICAgICAgICAgICAgCiAgICAgICAgICAgICAgICAgICAgICAgICAgICAgICAgICAgICAgICAgICAgICAgICAgICAgICAgICAgICAgICAgICAgICAgICAgICAgICAgICAgICAgICAgICAgICAgICAgICAKICAgICAgICAgICAgICAgICAgICAgICAgICAgICAgICAgICAgICAgICAgICAgICAgICAgICAgICAgICAgICAgICAgICAgICAgICAgICAgICAgICAgICAgICAgICAgICAgICAgIAogICAgICAgICAgICAgICAgICAgICAgICAgICAgICAgICAgICAgICAgICAgICAgICAgICAgICAgICAgICAgICAgICAgICAgICAgICAgICAgICAgICAgICAgICAgICAgICAgICAgCiAgICAgICAgICAgICAgICAgICAgICAgICAgICAgICAgICAgICAgICAgICAgICAgICAgICAgICAgICAgICAgICAgICAgICAgICAgICAgICAgICAgICAgICAgICAgICAgICAgICAKICAgICAgICAgICAgICAgICAgICAgICAgICAgICAgICAgICAgICAgICAgICAgICAgICAgICAgICAgICAgICAgICAgICAgICAgICAgICAgICAgICAgICAgICAgICAgICAgICAgIAogICAgICAgICAgICAgICAgICAgICAgICAgICAgICAgICAgICAgICAgICAgICAgICAgICAgICAgICAgICAgICAgICAgICAgICAgICAgICAgICAgICAgICAgICAgICAgICAgICAgCiAgICAgICAgICAgICAgICAgICAgICAgICAgICAgICAgICAgICAgICAgICAgICAgICAgICAgICAgICAgICAgICAgICAgICAgICAgICAgICAgICAgICAgICAgICAgICAgICAgICAKICAgICAgICAgICAgICAgICAgICAgICAgICAgICAgICAgICAgICAgICAgICAgICAgICAgICAgICAgICAgICAgICAgICAgICAgICAgICAgICAgICAgICAgICAgICAgICAgICAgIAogICAgICAgICAgICAgICAgICAgICAgICAgICAgICAgICAgICAgICAgICAgICAgICAgICAgICAgICAgICAgICAgICAgICAgICAgICAgICAgICAgICAgICAgICAgICAgICAgICAgCiAgICAgICAgICAgICAgICAgICAgICAgICAgICAgICAgICAgICAgICAgICAgICAgICAgICAgICAgICAgICAgICAgICAgICAgICAgICAgICAgICAgICAgICAgICAgICAgICAgICAKICAgICAgICAgICAgICAgICAgICAgICAgICAgICAgICAgICAgICAgICAgICAgICAgICAgICAgICAgICAgICAgICAgICAgICAgICAgICAgICAgICAgICAgICAgICAgICAgICAgIAogICAgICAgICAgICAgICAgICAgICAgICAgICAgICAgICAgICAgICAgICAgICAgICAgICAgICAgICAgICAgICAgICAgICAgICAgICAgICAgICAgICAgICAgICAgICAgICAgICAgCiAgICAgICAgICAgICAgICAgICAgICAgICAgICAgICAgICAgICAgICAgICAgICAgICAgICAgICAgICAgICAgICAgICAgICAgICAgICAgICAgICAgICAgICAgICAgICAgICAgICAKICAgICAgICAgICAgICAgICAgICAgICAgICAgICAgICAgICAgICAgICAgICAgICAgICAgICAgICAgICAgICAgICAgICAgICAgICAgICAgICAgICAgICAgICAgICAgICAgICAgIAogICAgICAgICAgICAgICAgICAgICAgICAgICAgICAgICAgICAgICAgICAgICAgICAgICAgICAgICAgICAgICAgICAgICAgICAgICAgICAgICAgICAgICAgICAgICAgICAgICAgCiAgICAgICAgICAgICAgICAgICAgICAgICAgICA8P3hwYWNrZXQgZW5kPSd3Jz8+/9sAQwAHBQUGBQQHBgUGCAcHCAoRCwoJCQoVDxAMERgVGhkYFRgXGx4nIRsdJR0XGCIuIiUoKSssKxogLzMvKjInKisq/9sAQwEHCAgKCQoUCwsUKhwYHCoqKioqKioqKioqKioqKioqKioqKioqKioqKioqKioqKioqKioqKioqKioqKioqKioq/8AAEQgA4gFSAwEiAAIRAQMRAf/EAB8AAAEFAQEBAQEBAAAAAAAAAAABAgMEBQYHCAkKC//EALUQAAIBAwMCBAMFBQQEAAABfQECAwAEEQUSITFBBhNRYQcicRQygZGhCCNCscEVUtHwJDNicoIJChYXGBkaJSYnKCkqNDU2Nzg5OkNERUZHSElKU1RVVldYWVpjZGVmZ2hpanN0dXZ3eHl6g4SFhoeIiYqSk5SVlpeYmZqio6Slpqeoqaqys7S1tre4ubrCw8TFxsfIycrS09TV1tfY2drh4uPk5ebn6Onq8fLz9PX29/j5+v/EAB8BAAMBAQEBAQEBAQEAAAAAAAABAgMEBQYHCAkKC//EALURAAIBAgQEAwQHBQQEAAECdwABAgMRBAUhMQYSQVEHYXETIjKBCBRCkaGxwQkjM1LwFWJy0QoWJDThJfEXGBkaJicoKSo1Njc4OTpDREVGR0hJSlNUVVZXWFlaY2RlZmdoaWpzdHV2d3h5eoKDhIWGh4iJipKTlJWWl5iZmqKjpKWmp6ipqrKztLW2t7i5usLDxMXGx8jJytLT1NXW19jZ2uLj5OXm5+jp6vLz9PX29/j5+v/aAAwDAQACEQMRAD8A+kaKKKACiiigAooooAKKKKACiiigAooooAKKKKACiiigAooooAKKKKACiiigAooooAKKKKACiiigAooooAKKKKACiiigAooooAKKKKACiiigAooooAKKKKACiiigAooooAK86+LHxRT4cN4fULHI2oXwFyHUsVtVx5jLgjDfMuM8deK9Frx340/Cix8X31nr97qt5FIs1jpq26BSirLdpGzDjOcTE/UCgD2FWV0DIwZWGQQcgilrP0HShoXh3T9JW5lulsbZLdZpsb3CqFBOO/FaFABRRRQAUUUUAFFFFABRRRQAUUUUAFFFFABRRRQAUUUUAFFFFABRRRQAUUUUAFFFFABRRRQAUUUUAFFFFABRRRQAUUUUAFFFFABXPeJfHXh7wjdWdtr97LBPeq7W8cVpNO0gTG7iNGxjcOtdDXkPxesb2Tx/4Sv4IPEotLaC8We68OWzSzwlggUZ2sADg9e2aAPT9F1ux8Q6XHqOlSSSW0hYK0sEkLEg4PyuoYcjuKv14zpHhseKPiHoc+pWniefSrLRZWE2uRyQSyXKXYZBLgKCQDuVT1CqcHFc5ofgV9L8E+DrzX9E1m6s7mWQ+JLTy55Jn2rILbfCPm2IWPAHcE5oA+ia5vx5/wAi7a/9hrSv/Thb15V4b8E6lrHiDwvb+JtO1UaNBb6g8UNw0q+VD9oVraKZgc5C4IVjn5QO2K9V8ef8i7a/9hrSv/Thb0AdJRVe5vY7W5tIZVbN1IYkYAYDBS2D9QpqxTsxXCiiikMKKKrWF9FqNqZoVdQskkTK4AKsjlGBx7qaB2drlmiiigQUUUUAFFFFABRRRQAUUUUAFFFFABRRRQAUUUUAFFFFABRRRQAUUUUAFFFFABRRRQAUUUUAFFFFABRRRQAUUUUAFFFFABXN+PP+Rdtf+w1pX/pwt66Sub8ef8i7a/8AYa0r/wBOFvQBe8Sqy6HJdRgmSydLtcdT5bBmH4qGH41qqwdQyEFWGQR3FDKroyOAysMEHuKyvDbMmk/YpCTJp8jWjE9SE+4T9UKH8a03h6EbT9TWoorDs/FdpPc3EN9BLpRgmFuWvpoVDylVbYu2Rsna6n8fWsyzcrH0v/RfEGrWR4WRo7yMezrtYD/gUZP/AAKkufFuh2zKo1O1mdvMCpFOhJMaF2BOcAgDuRVHVtc0m01qx1AanZ7YJGsrz/SE/dLISF3c8fvIwvPq3vUvuaQ1vHv/AMOdPRWTe+IYLaeyhtLabUXvYHuIfsjxbTGpQFtzuoI/eJjBOc1I/iPRY5Hjl1ewjkjZldHukBRl+8CM8Ed/SqMzSoqpbarp97MIrO/triRo/NCRTKxKf3sA9PfpVugAooooAKKKKACiiigAooooAKKKKACiiigAooooAKKKKACiiigAooooAKKKKACiiigAooooAKKKKACiiigAooooAK5vx5/yLtr/ANhrSv8A04W9dJXN+PP+Rdtf+w1pX/pwt6AOkrI/48PFnpDqcP5TRj+bIf8AyHWvWbrtrLcaYZbRd13auLi3H951/h/4EMr/AMCq4b2fUie110NKub1PwNpmq3ktzcSXAeaV3kA2FWDpEjJhlPykQp75zzzit6zuor6yhu7Zt0U6CRD6gjIqaoemhe5yp+H+nm3nhN/fiOYOpRWjVVV43jYKoTA4kJyBkkDJPev4g8BR39in9mXEkV5DLJLDI8gUIzvI5YHY3IMrYyDx6H5h2VFA02ndHGaZ4Ws9a8MeHmnnmim0uxNlgRQyAMAiyArIjjIaHGRjv61pv4NsGVts9yknmNKsqlNyO1z9p3DK44kxwQRgc561Na/8SzxLcWZ4t9QBuoPQSDAlX8flb8X9K2qS2KmknpszK0Xw9a6E1y9tJNLJdNvmkmK5dizMW4AAyzscDjngCtWiimQFFFFABRRRQAUUUUAFFFFABRRRQAUUUUAFFFFABRTZJEhiaSZ1jjQbmZjgKPUmsX7fe658mjE2tifvag6fNIP+mSnr/vtx6BqTdi4wctehpSalax6lFYeZuupAW8tAWKqAfmbH3RxgE9TxVqqmn6Za6XC0dpGQXO6SR2LPK395mPLH61boV+opct/dCiiimSFFFFABRRRQAUUUUAFFFFABRRRQAUUUUAFc348/5F21/wCw1pX/AKcLeukrm/Hn/Iu2v/Ya0r/04W9AHSUViTeKLa11qXT762mtEhRZHvLiWFIQrFghyZN3JRgBjPqAOas/8JFpBI8vUrSRA5jeRLmMrGwGcN83B9qAIdL/AOJbqtzpLcROWurT/cZvnT/gLnP0dR2rYrmdc1nTJLZLy11KyWeyxc28r3UYSYfOrR53dwrjPQHB52nGtpuvaXq+0affW80pTe0CyqZEHGdy5yCCQDnoa0lquYiOj5TQorD07xZYXulwajdq2l2lysbW8t/NCgmDruG3a55xzg4PP1xa/wCEj0Qkgaxp+Qu8/wClJwucZ69MnrWZYut2Mt7YhrMhb22cT2rE4HmDPB9mBKn2Y1Y02/i1PTobyAMqyrkq33kYcFT7ggg+4qeORJY1kidXRwGVlOQwPQg1izH+wNZNz93TdQcCb0gnPAf2V+Af9rB/iJqXo7msffjy9en+X9fqblFFFUZBRRRQAUUUUAFFFFABRRRQAUUUUAFFFQXt9a6dbNcX06QRLxuc4yewHqfagaTbsies7UNagsphawo93fOMpaQYL4/vN2Rf9psD6niqvm6prfFsJNKsT/y2kX/SJR/sqeIx7tlv9kda0dP0y00yEx2UITcdzuSWeRv7zMeWPuTU3b2NOWMfi37f5/19xnx6NPqEq3HiKRJyp3R2UefIiPYnPMje7cegFbVFFNKxEpOW4UUUUyQooooAKKKKACiiigAooooAKKKKACiiigAooooAK5vx5/yLtr/2GtK/9OFvXSVzfjz/AJF21/7DWlf+nC3oA0Lvw/aXurDUJnl80eR8oI2/undl4x6yHP0HSsaD4dadDKJJL/ULhgYjmV4yT5ecZIQEk55J54FdbRQBzb+B9Me4uJmmut1wkyMNy4AlaZmx8vrO+PoOvOcrSdAn8LeNDdXFwW0u7M8dqu/cIZZpVkOflBUMVAAyw3Z6bgK7moby0hv7OW1uk3xSrtYZx+IPY9we1VFpPXYmSbWhzNh8PNMsNLh09Lq5khgj8uMmOBGA8l4ckpGu47ZDyc8ge+bF34H0+8uQ8txdCFbiO6FupTYJUjWMN93P3F24zjk8Z5q/pV5NFcNpWpvvu4V3RTHj7TF0D/7w6MPXB6EVq0Si4uwRldXCo54Irq3kguI1lilUo6MMhgeCDUlFSUYdldSaLdQ6VqcjPDIdlleSNnzPSJz/AHwOh/iA9c1uVDd2lvf2klteRLNDIMOjDg/59ayBPfeHxsvBNqGmr925UF5oB6SKOXA/vDn1HVqnY1sqmq3/AD/rt9xu0VFbXUF5bpPaTRzwuMrJGwZW+hFS1Rlsc3Y/8lT13/sC6b/6Pvq6SqMWqwTa/d6QqSC4tbWC6diBsKytKqgHOc5hbPHcdecXqACiiigAooqnf6tYaYF+33ccLP8AcQnLv7Ko5b8BQNJt2RcqOe4htYHnuZUhiQZeSRgqqPUk9Kyv7Q1bUeNLsPskR/5edQBB+qxD5j/wIpT4PD8Hnpc6nNLqdyh3K9zgpGfVIx8q/XGfc1N77F8iXxMj/te81P5dAtv3R/5frtSsX1ROGk/8dX/aqez0OGC5F5eSyX98OlxPg7PZFHCD6DJ7k1p0U7dwc9LR0CiiimZhRRRQAUUUUAFFFFABRRRQAUUUUAFFFFABRRRQAUUUUAFFFFABXN+PP+Rdtf8AsNaV/wCnC3rpK5vx5/yLtr/2GtK/9OFvQB0lFFFABRRRQBS1PTU1K3Vd7QzxNvguEHzRP6j1HYjoQSKi0vU5LiR7LUY1t9RhGZI1PyyL0EiE9VP5g8H30qpalpkeoxod7QXELboLiP78Te3qD0IPBFXGSa5ZENNPmiXaKyrLVZEul0/WVSC9P+qdeI7keqE9D6oeR7jmtWlKLi9SlJNaBRRRUjMq40C3e5e6sJZtOunOXltSAJD6uhBVvqRn3pgk8QWfEkFnqaD+OJzBIf8AgJ3KT/wIVsUUrdjT2j2ev9fecjbXN3a+NNS1e90fUIYLrT7S1RVjErB4pLhmJ8ssMETLjnPByBxnX/4SW1/589Uz6f2ZP/8AEYqO01C6l8farpry5tLfTLKeKPaPleSW6VznGTkRJwTgbeOpzt0WfcOaHVfiZH9vu/8Ax7aLqk3p+5WL/wBGMtJ9r1+44g0y1tAf47q63MP+AIpB/wC+hWxRSs+4c0VtEx/7H1C6/wCQnrMxXvFYp9nU/jln/JhVuw0fT9MLNZWkcUj/AH5cbnf/AHnPzH8TV2inZCdSTVgooopkBRRRQAUUUUAFFFFABRRRQAUUUUAFFFFABRRRQAUUUUAFFFFABRRRQAUUUUAFc348/wCRdtf+w1pX/pwt66Sub8ef8i7a/wDYa0r/ANOFvQB0lFFFABRRRQAUUUUAQXllb6hatb3kKyxN1Vux7EHsR2I5FZgk1HROJhLqdgOkqjdcQj/aH/LQe4+b2brW1RVxlZWexLjfVbkFpe21/bLcWU8c8TdHRsjPp9fap6zbvRIJrlruzkksL09bi3wN/s6n5XH1GR2IqH+0NT07jVbI3UQ/5erBC3/fUXLD/gO78KfKn8IuZr4jYoqtY6lZ6lEZLG5jnVThtjcqfQjqD7GrNQ007MpNNXRRig05dfu7iEx/2nJawJcASZcQq0piymeBuabBxzyMnbxern7O2nX4k6zdNDILeTSbCNJSh2MyzXhZQehIDqSO24eoroKQwooooAKKKKACiiigAooooAKKKKACiiigAooooAKKKKACiiigAooooAKKKKACiiigAooooAKKKKACub8ef8i7a/8AYa0r/wBOFvXSVzfjz/kXbX/sNaV/6cLegDpKKKKACiiigAooooAKKKKACiiigCje6Lp+oSiW5tl89RhZ4yY5V+jrhh+dVv7O1a0/48NV89B0iv4g/wCAddp/E7q16KtTklYhwi3c5mHxTqCeI7zSL7QpC1paQXLTWU4mBErzKPlYK3/LE9AevQYydBfE+kBgtxd/Y2PG28ja3Of+BgVJBpHk+Kr7WfP3fa7K2tPJ2fc8l533bs858/GMcbe+eNFlDKQwBB6gjrRePVf1+IWl0YyG4huI99vKkqf3kYMP0qSs2bw5o08nmSaXaiT/AJ6JEFf/AL6GDUf/AAjlqn/Htc6hb/7l9KQP+AsxH6UWh3/r7wvPsa1FZP8AYt2v+p1/Uk9mELj/AMejJ/Wj+z9ZT/V62rf9drNW/wDQStHKv5vz/wAg5n2/L/M1qKyfs3iEdNV05v8Ae05/6TUeV4iH/L3pb/8AbrIv/tQ0cq7r8f8AIOZ9ma1FZOzxF/z30v8A78yf/FUbPEX/AD20v/vzJ/8AFUcnmg5vJmtRWT5XiI/8velr/wBush/9qCj7P4iP/MS0xf8AuHyH/wBrUcq7r8Q5n2ZrUVk/ZNeP3tXsh/uaew/nKaltbTU47lHu9USeIZ3RrahN3HrkmjlXf8/8g5n2/L/M0aKa8iRrukZUXIGWOOScAfnTqgsKKKKACiiigAooooAKKKKACiiigAooooAKKKKACsbxTot1r2ipZ2F7DZTR3dtdLLNbmdcwzJMoKh0OC0YB56Z+tbNFAHN/YfG//Qw+H/8AwQz/APyZR9h8b/8AQw+H/wDwQz//ACZXSUUAc39h8b/9DD4f/wDBDP8A/JlH2Hxv/wBDD4f/APBDP/8AJldJRQBzf2Hxv/0MPh//AMEM/wD8mUfYfG//AEMPh/8A8EM//wAmV0lFAHN/YfG//Qw+H/8AwQz/APyZR9h8b/8AQw+H/wDwQz//ACZXSUUAc39h8b/9DD4f/wDBDP8A/JlH2Hxv/wBDD4f/APBDP/8AJldJRQBzf2Hxv/0MPh//AMEM/wD8mUfYfG//AEMPh/8A8EM//wAmV0lFAHn9onjd/H2q2n/CR6P+60yyl2to85iG+W6GVj+1/K3yfM2TuAQYG3nc+w+N/wDoYfD/AP4IZ/8A5MrWiuNObX7u3hEf9px2sD3BEeHMLNKIsvjkblmwM8cnA3c3qAOb+w+N/wDoYfD/AP4IZ/8A5Mo+w+N/+hh8P/8Aghn/APkyukooA5v7D43/AOhh8P8A/ghn/wDkyj7D43/6GHw//wCCGf8A+TK6SigDm/sPjf8A6GHw/wD+CGf/AOTKPsPjf/oYfD//AIIZ/wD5MrpKKAOb+w+N/wDoYfD/AP4IZ/8A5Mo+w+N/+hh8P/8Aghn/APkyukooA5v7D43/AOhh8P8A/ghn/wDkyj7D43/6GHw//wCCGf8A+TK6SigDm/sPjf8A6GHw/wD+CGf/AOTKPsPjf/oYfD//AIIZ/wD5MrpKKAPI/i74R8e+Jvh7cabb3elas7zxMLWz017aQ4br5klyygDqePypnwk+H/xE8LPBJ4o8Xb9PUc6R/wAfPG0gL5jf6vBwcJkHHvXr9FABRRRQAUUUUAFFFFABRRRQAUUUUAFFFFABRRRQAUUUUAFFFFABRRRQAUUUUAFUtZ1SHQ9Bv9Wu0keCwtpLmVYgCzKiliACQM4HGSKu1neItJ/t/wAL6ro/nfZ/7Qs5rXztm7y/MQru25GcZzjIoAhj8QRxWstzrlnLoMEZVRLqU9uquTngFJGHbvjrxnmkvPFejWccTfb7e4aV4VWOCZGbbK8aK+M/c/eoSfQg85GcT/hB71LVIrS60bTylys//Et0l7USAI6EMUn3Z+cEFWX7pByGNJovw9/snRvsTais0n2mxmM4ttpK2rRlUI3HORH1zwWJxQB10N7a3LKLe5hlLRLMoSQNlG+64x/CcHB6Gpq5nwVoM2j2d3NdxSQyTzFLeCUqWtrVGbyYcqSMKGYjBON2O1dNQBiWmn3UXj7VdSeLFpcaZZQRSbh8zxy3TOMZyMCVOSMHdx0ONuo1Wf7VIzSRm3KKEjEZDq2W3EtnBBBXAwMYPJyAJKACq9/dNY6dcXSW0920MbOLe3UGSXAztUEgEntkirFFAHCaD8WNO13VprJ9D1nS1trg2tzdajHBFDBNjIjZhKTuOQAADkkV0p8WeHVktUbX9LD3v/HqpvI8z84+QZ+bkEcdxXl2r/DzXtR0nxZZyaX5seq+KoL6JDPGPNtQ0e9vvccK3BwfaqXxG+H/AIi1K+1yy8NeHEjsZYLRdPOnJZwxuI2DOsrSESLg52rHtB7nrQB6vD4w0cverfXcGnCzupLYteXMSCQxqGZlw54AbJ3YI7gDBpX8YaOmoRQG7h+zS2Rvlv8A7TF9n8sOE+9vzyWHIG33zxXm1v8ADnV7r4jQXur6NFPpP/CTahqEnnSROphktI0icpuJOZE6YyMZIA5rmJ/hT4w/4Reewg0bDDQ7yyhjF1CAHfUlmjQfPgZjG7PQdDzxQB73F4h0a4tLq6g1ewlt7NitzMlyhSAjqHIOFI96l0/V9N1ZXbStQtb1UCljbTrIF3DK52k4yOR6ivF/HHgiTRP+Et1C2sbLT9Cc6RNFE7LHb3XkSHzI3C52A5UbmAGcc9TXQ/B2VL7xD421O0sbWzs7q/gESWMqywblgG8K6jaxyfm28bieT1oA7a+8beGtPs9TuJdbsJP7KiaW8iiuUeSIDjBUHIJOAAepIHU0+18Y+HrvSdO1IazYxW2pqDaNNcIhlJ/hGTywPBA5B4ryDT/hv4jSXUtPt9CNtYTaZqEGzUZLa4WOaXJiFvOuJSrMQxEgG3Hc81W1L4b+J9QtdLafw/diFvDqaVNY21xYhoJkZtxZ5FcKj5D748uD1GQKAPcX8RaLHqK6fJrFgl68nlLbNdIJGfAO0LnOcEHHXkU6LXtIn1eTSoNVspNRiGZLNLhDMg9SgOR+VeBr4S1LVrrxloGlaEL6+bVLKFdclni3WRijhYuzNtcnAJBReSxyB36vRvBmv6d8WE1C00aS305tTu7u6ku5La4hAkU4lgcYnR2J5QjAyeSKAPYKKKKACiiigAooooAKKKKACiiigAooooAKKKKACiiigAooooAKKKKACiiigAooooAyvE2pT6P4cur60Nus0QXa1ycRjLAEk5HY9yo9SoyRwi+O9VaaPUVurR4/7OuSLbySqySRzqhkBWVwVVTubaW4DYPPHqFAGBgcCgDzpvH14NQjszrGgxWzTyxjWHjb7NLtijfCjzcZBcqfnI49crTNL+Imo393GJjpsErXVlANKKP9qlWeKFnkUlhwnms33D8qHO3rXoEthbTXtvdyRBp7ZXWJsn5Q2N3HQ52jr6UW9jbWtxdT28WyW8lE07ZJ3uEVM89PljUcelAHAaN4y1p9FsrxYrV7WMafC8BWWSaUzwxk4kaQ8hpB94MT3Oea1fB/i661/VTbT3Wm3KnT4rthZIytbyOxBhfLt8y45+6fVRXZdetZ+maHY6QztZJNvkRYy81xJM21c7VBdiQBuPA45oA0KKKKACiiigAooooAKKKKAEZQylWAKkYII60kcaRRhIkVEXgKowB+FOooAKKKKAECqpJVQCxySB1paKKACiiigAooooAKKKKACiiigAooooAKKKKACiiigAooooAKKKKACiiigAooooAKKKKACiiigAooooAKKKKACiiigAooooAKKKKACiiigAooooAKKKKACiiigAooooAKKKKACiiigAooooAKKKKACiiigAooooAKKKKACiiigAooooAKKKKACiiigAooooAKKKKACiiigAooooAKKKKACiiigAooooAKKKKACiiigAooooAKKKKACiiigAooooAKKKKACiiigAooooA//9k=)"
      ]
    },
    {
      "cell_type": "markdown",
      "metadata": {
        "id": "CWy51gJa3gLq"
      },
      "source": [
        "We need to specify the quantity to monitor (```val_error```). \n",
        "\n",
        "We also need to specify the patience which denotes the number of epochs with no further improvement after which the training will be stopped. "
      ]
    },
    {
      "cell_type": "code",
      "metadata": {
        "id": "j29vG-2ZrHwa"
      },
      "source": [
        "from keras.callbacks import EarlyStopping\n",
        "\n",
        "model.compile(loss='categorical_crossentropy', optimizer='sgd', metrics=['accuracy'])\n",
        "# --\n",
        "\n",
        "# --"
      ],
      "execution_count": null,
      "outputs": []
    },
    {
      "cell_type": "code",
      "metadata": {
        "id": "SDyz6twh4PQD"
      },
      "source": [
        "loss, accuracy  = model.evaluate(X_val, y_val, verbose=False)\n",
        "\n",
        "\n",
        "plt.plot(history.history['accuracy'])\n",
        "plt.plot(history.history['val_accuracy'])\n",
        "plt.title('model accuracy')\n",
        "plt.ylabel('accuracy')\n",
        "plt.xlabel('epoch')\n",
        "plt.legend(['training', 'validation'], loc='best')\n",
        "plt.show()\n",
        "\n",
        "print(f'Validation loss: {loss:.3}')\n",
        "print(f'Validation accuracy: {accuracy:.3}')"
      ],
      "execution_count": null,
      "outputs": []
    },
    {
      "cell_type": "markdown",
      "metadata": {
        "id": "fhhudyGhrMmQ"
      },
      "source": [
        "## Model Saving "
      ]
    },
    {
      "cell_type": "markdown",
      "metadata": {
        "id": "wAE_t7m746Q7"
      },
      "source": [
        "You can save an entire model to a single artifact. It will include:\n",
        "\n",
        "* The model's architecture/config\n",
        "* The model's weight values (which were learned during training)\n",
        "* The model's compilation information (if compile()) was called\n",
        "* The optimizer and its state, if any \n",
        "\n",
        "(this enables you to restart training where you left)"
      ]
    },
    {
      "cell_type": "code",
      "metadata": {
        "id": "OnsVdstGrOlh"
      },
      "source": [
        "# --"
      ],
      "execution_count": null,
      "outputs": []
    },
    {
      "cell_type": "markdown",
      "metadata": {
        "id": "VD2ZeuDJ5OnZ"
      },
      "source": [
        "To load it again (in later runs)"
      ]
    },
    {
      "cell_type": "code",
      "metadata": {
        "id": "3tudfY6f5R0n"
      },
      "source": [
        "from tensorflow import keras\n",
        "\n",
        "# --\n",
        "# --"
      ],
      "execution_count": null,
      "outputs": []
    },
    {
      "cell_type": "markdown",
      "metadata": {
        "id": "YwrlFaHH6J38"
      },
      "source": [
        "### Saving Checkpoints\n",
        "Checkpointing is setup to save the network weights only when there is an improvement in classification accuracy on the validation dataset (monitor=’val_accuracy’ and mode=’max’). The weights are stored in a file that includes the score in the filename (weights-improvement-{val_accuracy=.2f}.hdf5)\n"
      ]
    },
    {
      "cell_type": "code",
      "metadata": {
        "id": "P-C_Ucah6Rm9"
      },
      "source": [
        "from keras.callbacks import ModelCheckpoint\n",
        "\n",
        "# checkpoint\n",
        "filepath=\"weights-improvement-{epoch:02d}-{val_accuracy:.2f}.hdf5\"\n",
        "# --\n",
        "# --"
      ],
      "execution_count": null,
      "outputs": []
    },
    {
      "cell_type": "markdown",
      "metadata": {
        "id": "warcVmh_64Cd"
      },
      "source": [
        "To load a saved checkpoint you need to have the model (architecture) already created. Only weights will be loaded. \n",
        "\n",
        "You need to have someting like: \n",
        "\n",
        "\n",
        "\n",
        "```\n",
        "model = Sequential() # neural network\n",
        "\n",
        "# The input layer requires the special input_shape parameter which should match\n",
        "# the shape of our training data.\n",
        "model.add(Dense(units=h_units[0], activation='relu', input_shape=(image_size,)))\n",
        "\n",
        "for u in range(1, len(h_units)):\n",
        "  model.add(Dense(units=h_units[u], activation='relu', \n",
        "                  kernel_regularizer=regularizers.l2(lmbda) # you can change to .l1\n",
        "                  )\n",
        "  )\n",
        "  model.add(Dropout(dropout_rate))\n",
        "\n",
        "model.add(Dense(out_units, activation='softmax'))\n",
        "\n",
        "```\n",
        "then you load the weights!\n",
        "\n"
      ]
    },
    {
      "cell_type": "code",
      "metadata": {
        "id": "To9YPaAh7CjY"
      },
      "source": [
        "# model.load_weights(\"weights.best.hdf5\")"
      ],
      "execution_count": null,
      "outputs": []
    },
    {
      "cell_type": "markdown",
      "metadata": {
        "id": "VU1JlYknuaZM"
      },
      "source": [
        "## Is deep learning that easy to code?\n",
        "We have obfuscated spatial relationships within the data by flattening the images. We have done zero feature extraction to help the model understand the data. Yet, in under one minute of training, we’re already doing nearly nine times better than guessing randomly.\n",
        "\n",
        "If we want to exploit the 2d relationship in the data we have to use more advanced layers. \n",
        "\n",
        "Convolutional layers are usually used to deal with image data. The theory of convolution is not covered in this tutorial. The goal is just to show you how to implement a deep learning model, Convolutional Neural Network (CNN) specifically in keras. "
      ]
    },
    {
      "cell_type": "markdown",
      "metadata": {
        "id": "tlacHIBqJGMS"
      },
      "source": [
        "Let's reshape the data"
      ]
    },
    {
      "cell_type": "code",
      "metadata": {
        "id": "BtvKykPkJJnq"
      },
      "source": [
        "# --\n",
        "# --\n",
        "# --"
      ],
      "execution_count": null,
      "outputs": []
    },
    {
      "cell_type": "code",
      "metadata": {
        "id": "uMiDEva9JcQg"
      },
      "source": [
        "X_train.shape"
      ],
      "execution_count": null,
      "outputs": []
    },
    {
      "cell_type": "markdown",
      "metadata": {
        "id": "mpwthpL0Ifx9"
      },
      "source": [
        "Defining a model is very similar to the traditional neural network but ```Dense``` layers are replaced by ```Convolutional```  and ```Pooling``` layers."
      ]
    },
    {
      "cell_type": "code",
      "metadata": {
        "id": "4yO9ptLGucYy"
      },
      "source": [
        "from keras.layers import Conv2D, MaxPooling2D, Flatten\n",
        "\n",
        "# --\n",
        "# --\n",
        "# --\n",
        "\n",
        "# --\n",
        "\n",
        "# --\n",
        "# --\n",
        "\n",
        "# compile model\n",
        "model.compile(optimizer='sgd', loss='categorical_crossentropy', metrics=['accuracy'])\n"
      ],
      "execution_count": null,
      "outputs": []
    },
    {
      "cell_type": "code",
      "metadata": {
        "id": "TLPSt0lZI2bW"
      },
      "source": [
        "history = model.fit(X_train, y_train, batch_size=128, epochs=5, verbose=2, validation_data=(X_val, y_val)) # talk about validation_split\n",
        "loss, accuracy  = model.evaluate(X_val, y_val, verbose=False)\n",
        "\n",
        "\n",
        "plt.plot(history.history['accuracy'])\n",
        "plt.plot(history.history['val_accuracy'])\n",
        "plt.title('model accuracy')\n",
        "plt.ylabel('accuracy')\n",
        "plt.xlabel('epoch')\n",
        "plt.legend(['training', 'validation'], loc='best')\n",
        "plt.show()\n",
        "\n",
        "print(f'Validation loss: {loss:.3}')\n",
        "print(f'Validation accuracy: {accuracy:.3}')"
      ],
      "execution_count": null,
      "outputs": []
    }
  ]
}